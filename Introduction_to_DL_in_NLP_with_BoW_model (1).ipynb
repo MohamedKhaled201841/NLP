{
  "nbformat": 4,
  "nbformat_minor": 0,
  "metadata": {
    "colab": {
      "name": "Introduction_to_DL_in_NLP_with_BoW_model.ipynb",
      "provenance": []
    },
    "kernelspec": {
      "name": "python3",
      "display_name": "Python 3"
    },
    "language_info": {
      "name": "python"
    }
  },
  "cells": [
    {
      "cell_type": "code",
      "metadata": {
        "colab": {
          "base_uri": "https://localhost:8080/"
        },
        "id": "YEoHTOaLFStK",
        "outputId": "2293675b-8aee-4289-d311-89f7f9e59b2a"
      },
      "source": [
        "from keras.datasets import imdb\n",
        "from keras.preprocessing.text import text_to_word_sequence\n",
        "from keras.preprocessing.text import Tokenizer  \n",
        "from keras.preprocessing.sequence import pad_sequences\n",
        "from keras import models\n",
        "from keras import layers\n",
        "from keras import losses\n",
        "from keras import metrics\n",
        "from keras import optimizers\n",
        "\n",
        "import numpy as np\n",
        "import matplotlib.pyplot as plt\n",
        "\n",
        "from sklearn.feature_extraction.text import CountVectorizer\n",
        "from sklearn.feature_extraction.text import TfidfVectorizer\n",
        "from sklearn.model_selection import train_test_split\n",
        "\n",
        "from collections import Counter\n",
        "from pathlib import Path\n",
        "import os\n",
        "import numpy as np\n",
        "import re\n",
        "import string\n",
        "import nltk\n",
        "nltk.download('punkt')\n",
        "from nltk.tokenize import word_tokenize\n",
        "from nltk.corpus import stopwords\n",
        "nltk.download('stopwords')\n",
        "from nltk.stem.porter import PorterStemmer\n",
        "from nltk.stem import WordNetLemmatizer\n",
        "nltk.download('wordnet')\n",
        "from nltk.corpus import wordnet\n",
        "import unicodedata\n",
        "import html\n",
        "stop_words = stopwords.words('english')"
      ],
      "execution_count": 1,
      "outputs": [
        {
          "output_type": "stream",
          "name": "stdout",
          "text": [
            "[nltk_data] Downloading package punkt to /root/nltk_data...\n",
            "[nltk_data]   Unzipping tokenizers/punkt.zip.\n",
            "[nltk_data] Downloading package stopwords to /root/nltk_data...\n",
            "[nltk_data]   Unzipping corpora/stopwords.zip.\n",
            "[nltk_data] Downloading package wordnet to /root/nltk_data...\n",
            "[nltk_data]   Unzipping corpora/wordnet.zip.\n"
          ]
        }
      ]
    },
    {
      "cell_type": "code",
      "metadata": {
        "id": "T9tmMcfPFYDf",
        "colab": {
          "base_uri": "https://localhost:8080/"
        },
        "outputId": "1c372604-7c63-4a42-fc7f-555e80b00c70"
      },
      "source": [
        "(train_data, train_labels), (test_data, test_labels) = imdb.load_data(num_words=10000)"
      ],
      "execution_count": 2,
      "outputs": [
        {
          "output_type": "stream",
          "name": "stdout",
          "text": [
            "Downloading data from https://storage.googleapis.com/tensorflow/tf-keras-datasets/imdb.npz\n",
            "17465344/17464789 [==============================] - 0s 0us/step\n",
            "17473536/17464789 [==============================] - 0s 0us/step\n"
          ]
        }
      ]
    },
    {
      "cell_type": "code",
      "metadata": {
        "id": "6JfUbgZ_Ffpm"
      },
      "source": [
        ""
      ],
      "execution_count": 2,
      "outputs": []
    },
    {
      "cell_type": "code",
      "metadata": {
        "id": "JNhpNJ6_Fmwo",
        "colab": {
          "base_uri": "https://localhost:8080/"
        },
        "outputId": "0c197eea-760a-4f8e-c6b0-e9ef44117d08"
      },
      "source": [
        "# word_index is a dictionary mapping words to an integer index\n",
        "word_index = imdb.get_word_index()\n",
        "# We reverse it, mapping integer indices to words\n",
        "reverse_word_index = dict([(value, key) for (key, value) in word_index.items()])\n",
        "# We decode the review; note that our indices were offset by 3\n",
        "# because 0, 1 and 2 are reserved indices for \"padding\", \"start of sequence\", and \"unknown\".\n",
        "decoded_review = ' '.join([reverse_word_index.get(i-3 , '?') for i in train_data[0]])"
      ],
      "execution_count": 3,
      "outputs": [
        {
          "output_type": "stream",
          "name": "stdout",
          "text": [
            "Downloading data from https://storage.googleapis.com/tensorflow/tf-keras-datasets/imdb_word_index.json\n",
            "1646592/1641221 [==============================] - 0s 0us/step\n",
            "1654784/1641221 [==============================] - 0s 0us/step\n"
          ]
        }
      ]
    },
    {
      "cell_type": "code",
      "metadata": {
        "colab": {
          "base_uri": "https://localhost:8080/",
          "height": 137
        },
        "id": "U-6JhlL2Fm1J",
        "outputId": "269f9c5a-b9da-454a-b6d6-100157998006"
      },
      "source": [
        "decoded_review\n"
      ],
      "execution_count": 4,
      "outputs": [
        {
          "output_type": "execute_result",
          "data": {
            "application/vnd.google.colaboratory.intrinsic+json": {
              "type": "string"
            },
            "text/plain": [
              "\"? this film was just brilliant casting location scenery story direction everyone's really suited the part they played and you could just imagine being there robert ? is an amazing actor and now the same being director ? father came from the same scottish island as myself so i loved the fact there was a real connection with this film the witty remarks throughout the film were great it was just brilliant so much that i bought the film as soon as it was released for ? and would recommend it to everyone to watch and the fly fishing was amazing really cried at the end it was so sad and you know what they say if you cry at a film it must have been good and this definitely was also ? to the two little boy's that played the ? of norman and paul they were just brilliant children are often left out of the ? list i think because the stars that play them all grown up are such a big profile for the whole film but these children are amazing and should be praised for what they have done don't you think the whole story was so lovely because it was true and was someone's life after all that was shared with us all\""
            ]
          },
          "metadata": {},
          "execution_count": 4
        }
      ]
    },
    {
      "cell_type": "code",
      "metadata": {
        "id": "ea5guxCxGX2J"
      },
      "source": [
        "def vectorize_sequences(sequences, dimension=10000):\n",
        "    # Create an all-zero matrix of shape (len(sequences), dimension)\n",
        "    results = np.zeros((len(sequences), dimension))\n",
        "    for i, sequence in enumerate(sequences):\n",
        "        results[i, sequence] = 1.  # set specific indices of results[i] to 1s\n",
        "    return results"
      ],
      "execution_count": 5,
      "outputs": []
    },
    {
      "cell_type": "code",
      "metadata": {
        "id": "Mq6wfuW3X83v"
      },
      "source": [
        "# Our vectorized training data\n",
        "x_train = vectorize_sequences(train_data)\n",
        "# Our vectorized test data\n",
        "x_test = vectorize_sequences(test_data)"
      ],
      "execution_count": 6,
      "outputs": []
    },
    {
      "cell_type": "code",
      "metadata": {
        "id": "BBP8jOopX9DS"
      },
      "source": [
        "# Our vectorized labels\n",
        "y_train = np.asarray(train_labels).astype('float32')\n",
        "y_test = np.asarray(test_labels).astype('float32')"
      ],
      "execution_count": 7,
      "outputs": []
    },
    {
      "cell_type": "code",
      "metadata": {
        "id": "BddDdzFJYopE"
      },
      "source": [
        "from keras import models\n",
        "from keras import layers\n",
        "from keras.layers import Dropout\n",
        "from tensorflow.keras.layers import BatchNormalization\n",
        "# model = models.Sequential()\n",
        "# model.add(layers.Dense(16, activation='relu', input_shape=(20000,)))\n",
        "# model.add(BatchNormalization())\n",
        "# model.add(Dropout(0.3))\n",
        "# model.add(layers.Dense(16, activation='relu'))\n",
        "# model.add(BatchNormalization())\n",
        "# model.add(Dropout(0.3))\n",
        "# model.add(layers.Dense(1, activation='sigmoid'))\n",
        "\n",
        "model = models.Sequential()\n",
        "model.add(layers.Dense(16, activation='relu', input_shape=(10000,)))\n",
        "model.add(layers.Dense(16, activation='relu'))\n",
        "model.add(layers.Dense(1, activation='sigmoid'))"
      ],
      "execution_count": 8,
      "outputs": []
    },
    {
      "cell_type": "code",
      "metadata": {
        "id": "pThh4yOolm0b"
      },
      "source": [
        ""
      ],
      "execution_count": 8,
      "outputs": []
    },
    {
      "cell_type": "code",
      "metadata": {
        "id": "WKZBBiJ5Y6ne"
      },
      "source": [
        "model.compile(optimizer='rmsprop',\n",
        "              loss='binary_crossentropy',\n",
        "              metrics=['accuracy'])"
      ],
      "execution_count": 9,
      "outputs": []
    },
    {
      "cell_type": "code",
      "metadata": {
        "id": "z0sGjswcZN8q"
      },
      "source": [
        "x_val = x_train[:10000]\n",
        "partial_x_train = x_train[10000:]\n",
        "\n",
        "y_val = y_train[:10000]\n",
        "partial_y_train = y_train[10000:]"
      ],
      "execution_count": 10,
      "outputs": []
    },
    {
      "cell_type": "code",
      "metadata": {
        "colab": {
          "base_uri": "https://localhost:8080/"
        },
        "id": "eEJm_Co0eTJI",
        "outputId": "deecb98b-5b60-402e-95c6-016368b05a1e"
      },
      "source": [
        "history = model.fit(partial_x_train,\n",
        "                    partial_y_train,\n",
        "                    epochs=20,\n",
        "                    batch_size=512,\n",
        "                    validation_data=(x_val, y_val))"
      ],
      "execution_count": 11,
      "outputs": [
        {
          "output_type": "stream",
          "name": "stdout",
          "text": [
            "Epoch 1/20\n",
            "30/30 [==============================] - 2s 45ms/step - loss: 0.5203 - accuracy: 0.7883 - val_loss: 0.4062 - val_accuracy: 0.8570\n",
            "Epoch 2/20\n",
            "30/30 [==============================] - 1s 35ms/step - loss: 0.3177 - accuracy: 0.9005 - val_loss: 0.3420 - val_accuracy: 0.8667\n",
            "Epoch 3/20\n",
            "30/30 [==============================] - 1s 32ms/step - loss: 0.2286 - accuracy: 0.9293 - val_loss: 0.2810 - val_accuracy: 0.8899\n",
            "Epoch 4/20\n",
            "30/30 [==============================] - 1s 31ms/step - loss: 0.1834 - accuracy: 0.9417 - val_loss: 0.2735 - val_accuracy: 0.8916\n",
            "Epoch 5/20\n",
            "30/30 [==============================] - 1s 31ms/step - loss: 0.1436 - accuracy: 0.9548 - val_loss: 0.2842 - val_accuracy: 0.8865\n",
            "Epoch 6/20\n",
            "30/30 [==============================] - 1s 31ms/step - loss: 0.1208 - accuracy: 0.9623 - val_loss: 0.2924 - val_accuracy: 0.8863\n",
            "Epoch 7/20\n",
            "30/30 [==============================] - 1s 31ms/step - loss: 0.1008 - accuracy: 0.9681 - val_loss: 0.3101 - val_accuracy: 0.8822\n",
            "Epoch 8/20\n",
            "30/30 [==============================] - 1s 31ms/step - loss: 0.0834 - accuracy: 0.9767 - val_loss: 0.3309 - val_accuracy: 0.8818\n",
            "Epoch 9/20\n",
            "30/30 [==============================] - 1s 31ms/step - loss: 0.0669 - accuracy: 0.9823 - val_loss: 0.3517 - val_accuracy: 0.8803\n",
            "Epoch 10/20\n",
            "30/30 [==============================] - 1s 31ms/step - loss: 0.0534 - accuracy: 0.9871 - val_loss: 0.3844 - val_accuracy: 0.8754\n",
            "Epoch 11/20\n",
            "30/30 [==============================] - 1s 31ms/step - loss: 0.0450 - accuracy: 0.9891 - val_loss: 0.4109 - val_accuracy: 0.8750\n",
            "Epoch 12/20\n",
            "30/30 [==============================] - 1s 31ms/step - loss: 0.0345 - accuracy: 0.9930 - val_loss: 0.4457 - val_accuracy: 0.8723\n",
            "Epoch 13/20\n",
            "30/30 [==============================] - 1s 31ms/step - loss: 0.0276 - accuracy: 0.9941 - val_loss: 0.5365 - val_accuracy: 0.8602\n",
            "Epoch 14/20\n",
            "30/30 [==============================] - 1s 31ms/step - loss: 0.0219 - accuracy: 0.9959 - val_loss: 0.5127 - val_accuracy: 0.8711\n",
            "Epoch 15/20\n",
            "30/30 [==============================] - 1s 31ms/step - loss: 0.0174 - accuracy: 0.9974 - val_loss: 0.5463 - val_accuracy: 0.8690\n",
            "Epoch 16/20\n",
            "30/30 [==============================] - 1s 31ms/step - loss: 0.0111 - accuracy: 0.9990 - val_loss: 0.6061 - val_accuracy: 0.8627\n",
            "Epoch 17/20\n",
            "30/30 [==============================] - 1s 32ms/step - loss: 0.0119 - accuracy: 0.9980 - val_loss: 0.6141 - val_accuracy: 0.8682\n",
            "Epoch 18/20\n",
            "30/30 [==============================] - 1s 32ms/step - loss: 0.0091 - accuracy: 0.9986 - val_loss: 0.6522 - val_accuracy: 0.8680\n",
            "Epoch 19/20\n",
            "30/30 [==============================] - 1s 31ms/step - loss: 0.0047 - accuracy: 0.9998 - val_loss: 0.7635 - val_accuracy: 0.8580\n",
            "Epoch 20/20\n",
            "30/30 [==============================] - 1s 31ms/step - loss: 0.0067 - accuracy: 0.9988 - val_loss: 0.7310 - val_accuracy: 0.8656\n"
          ]
        }
      ]
    },
    {
      "cell_type": "code",
      "metadata": {
        "colab": {
          "base_uri": "https://localhost:8080/"
        },
        "id": "ajvzoAIzetqt",
        "outputId": "96cf9791-b0e0-4281-cacb-97b3a71bcb8d"
      },
      "source": [
        "history_dict = history.history\n",
        "history_dict.keys()"
      ],
      "execution_count": 12,
      "outputs": [
        {
          "output_type": "execute_result",
          "data": {
            "text/plain": [
              "dict_keys(['loss', 'accuracy', 'val_loss', 'val_accuracy'])"
            ]
          },
          "metadata": {},
          "execution_count": 12
        }
      ]
    },
    {
      "cell_type": "code",
      "metadata": {
        "colab": {
          "base_uri": "https://localhost:8080/",
          "height": 295
        },
        "id": "5s_4FLs2eYX9",
        "outputId": "c1de8721-d7a9-48b1-83b1-ff75ea425baa"
      },
      "source": [
        "import matplotlib.pyplot as plt\n",
        "history_dict = history.history\n",
        "history_dict.keys()\n",
        "acc = history.history['accuracy']\n",
        "val_acc = history.history['val_accuracy']\n",
        "loss = history.history['loss']\n",
        "val_loss = history.history['val_loss']\n",
        "\n",
        "epochs = range(1, len(acc) + 1)\n",
        "\n",
        "# \"bo\" is for \"blue dot\"\n",
        "plt.plot(epochs, loss, 'bo', label='Training loss')\n",
        "# b is for \"solid blue line\"\n",
        "plt.plot(epochs, val_loss, 'b', label='Validation loss')\n",
        "plt.title('Training and validation loss')\n",
        "plt.xlabel('Epochs')\n",
        "plt.ylabel('Loss')\n",
        "plt.legend()\n",
        "\n",
        "plt.show()"
      ],
      "execution_count": 13,
      "outputs": [
        {
          "output_type": "display_data",
          "data": {
            "image/png": "[encoded data removed]",
            "text/plain": [
              "<Figure size 432x288 with 1 Axes>"
            ]
          },
          "metadata": {
            "needs_background": "light"
          }
        }
      ]
    },
    {
      "cell_type": "code",
      "metadata": {
        "colab": {
          "base_uri": "https://localhost:8080/",
          "height": 295
        },
        "id": "P2WDHi0rekBy",
        "outputId": "8b941542-837b-44a0-8883-2a8eabe15d0f"
      },
      "source": [
        "plt.clf()   # clear figure\n",
        "acc_values = history_dict['accuracy']\n",
        "val_acc_values = history_dict['val_accuracy']\n",
        "\n",
        "plt.plot(epochs, acc, 'bo', label='Training acc')\n",
        "plt.plot(epochs, val_acc, 'b', label='Validation acc')\n",
        "plt.title('Training and validation accuracy')\n",
        "plt.xlabel('Epochs')\n",
        "plt.ylabel('Loss')\n",
        "plt.legend()\n",
        "\n",
        "plt.show()"
      ],
      "execution_count": 14,
      "outputs": [
        {
          "output_type": "display_data",
          "data": {
            "image/png": "[encoded data removed]",
            "text/plain": [
              "<Figure size 432x288 with 1 Axes>"
            ]
          },
          "metadata": {
            "needs_background": "light"
          }
        }
      ]
    },
    {
      "cell_type": "code",
      "metadata": {
        "id": "wshaPyaFgDRK",
        "colab": {
          "base_uri": "https://localhost:8080/"
        },
        "outputId": "fcba85a5-1c8a-4bf5-8e68-b143192ad764"
      },
      "source": [
        "from pathlib import Path\n",
        "import os\n",
        "DATA_PATH=Path('./dat/')\n",
        "DATA_PATH.mkdir(exist_ok=True)\n",
        "#if not os.path.exists('./dat/aclImdb_v1.tar.gz'):\n",
        "if not os.path.exists('./dat/aclImdb'):\n",
        "    !curl -O http://ai.stanford.edu/~amaas/data/sentiment/aclImdb_v1.tar.gz \n",
        "    !tar -xf aclImdb_v1.tar.gz -C {DATA_PATH}"
      ],
      "execution_count": 15,
      "outputs": [
        {
          "output_type": "stream",
          "name": "stdout",
          "text": [
            "  % Total    % Received % Xferd  Average Speed   Time    Time     Time  Current\n",
            "                                 Dload  Upload   Total   Spent    Left  Speed\n",
            "100 80.2M  100 80.2M    0     0  26.0M      0  0:00:03  0:00:03 --:--:-- 26.0M\n"
          ]
        }
      ]
    },
    {
      "cell_type": "code",
      "metadata": {
        "id": "plc7Wp-bH6y2"
      },
      "source": [
        "import numpy as np\n",
        "CLASSES = ['neg', 'pos']#, 'unsup']\n",
        "PATH=Path('./dat/aclImdb/')\n",
        "\n",
        "def get_texts(path):\n",
        "    texts,labels = [],[]\n",
        "    for idx,label in enumerate(CLASSES):\n",
        "        for fname in (path/label).glob('*.*'):\n",
        "            #texts.append(fixup(fname.open('r', encoding='utf-8').read()))\n",
        "            texts.append(fname.open('r', encoding='utf-8').read())\n",
        "            labels.append(idx)\n",
        "    #return np.array(texts),np.array(labels)\n",
        "    return texts, labels\n"
      ],
      "execution_count": 16,
      "outputs": []
    },
    {
      "cell_type": "code",
      "metadata": {
        "id": "aaKYMgMbH67S"
      },
      "source": [
        "trn_texts,trn_labels = get_texts(PATH/'train')\n",
        "tst_texts,tst_labels = get_texts(PATH/'test')"
      ],
      "execution_count": 17,
      "outputs": []
    },
    {
      "cell_type": "code",
      "metadata": {
        "colab": {
          "base_uri": "https://localhost:8080/"
        },
        "id": "FzFdo3FLbo8_",
        "outputId": "69d73d34-35be-411b-8743-e9236b1ccd17"
      },
      "source": [
        "import nltk\n",
        "nltk.download('punkt')"
      ],
      "execution_count": 18,
      "outputs": [
        {
          "output_type": "stream",
          "name": "stdout",
          "text": [
            "[nltk_data] Downloading package punkt to /root/nltk_data...\n",
            "[nltk_data]   Package punkt is already up-to-date!\n"
          ]
        },
        {
          "output_type": "execute_result",
          "data": {
            "text/plain": [
              "True"
            ]
          },
          "metadata": {},
          "execution_count": 18
        }
      ]
    },
    {
      "cell_type": "code",
      "metadata": {
        "id": "Jkg38iikcNIr"
      },
      "source": [
        "def remove_special_chars(text):\n",
        "    re1 = re.compile(r'  +')\n",
        "    x1 = text.lower().replace('#39;', \"'\").replace('amp;', '&').replace('#146;', \"'\").replace(\n",
        "        'nbsp;', ' ').replace('#36;', '$').replace('\\\\n', \"\\n\").replace('quot;', \"'\").replace(\n",
        "        '<br />', \"\\n\").replace('\\\\\"', '\"').replace('<unk>', 'u_n').replace(' @.@ ', '.').replace(\n",
        "        ' @-@ ', '-').replace('\\\\', ' \\\\ ')\n",
        "    return re1.sub(' ', html.unescape(x1))\n",
        "\n",
        "\n",
        "def remove_non_ascii(text):\n",
        "    \"\"\"Remove non-ASCII characters from list of tokenized words\"\"\"\n",
        "    return unicodedata.normalize('NFKD', text).encode('ascii', 'ignore').decode('utf-8', 'ignore')\n",
        "\n",
        "\n",
        "def to_lowercase(text):\n",
        "    return text.lower()\n",
        "\n",
        "\n",
        "\n",
        "def remove_punctuation(text):\n",
        "    \"\"\"Remove punctuation from list of tokenized words\"\"\"\n",
        "    translator = str.maketrans('', '', string.punctuation)\n",
        "    return text.translate(translator)\n",
        "\n",
        "\n",
        "def replace_numbers(text):\n",
        "    \"\"\"Replace all interger occurrences in list of tokenized words with textual representation\"\"\"\n",
        "    return re.sub(r'\\d+', '', text)\n",
        "\n",
        "\n",
        "def remove_whitespaces(text):\n",
        "    return text.strip()\n",
        "\n",
        "\n",
        "def remove_stopwords(words, stop_words):\n",
        "    \"\"\"\n",
        "    :param words:\n",
        "    :type words:\n",
        "    :param stop_words: from sklearn.feature_extraction.stop_words import ENGLISH_STOP_WORDS\n",
        "    or\n",
        "    from spacy.lang.en.stop_words import STOP_WORDS\n",
        "    :type stop_words:\n",
        "    :return:\n",
        "    :rtype:\n",
        "    \"\"\"\n",
        "    return [word for word in words if word not in stop_words]\n",
        "\n",
        "\n",
        "def stem_words(words):\n",
        "    \"\"\"Stem words in text\"\"\"\n",
        "    stemmer = PorterStemmer()\n",
        "    return [stemmer.stem(word) for word in words]\n",
        "\n",
        "def lemmatize_words(words):\n",
        "    \"\"\"Lemmatize words in text\"\"\"\n",
        "\n",
        "    lemmatizer = WordNetLemmatizer()\n",
        "    return [lemmatizer.lemmatize(word) for word in words]\n",
        "\n",
        "def lemmatize_verbs(words):\n",
        "    \"\"\"Lemmatize verbs in text\"\"\"\n",
        "\n",
        "    lemmatizer = WordNetLemmatizer()\n",
        "    return ' '.join([lemmatizer.lemmatize(word, pos='v') for word in words])\n",
        "\n",
        "def text2words(text):\n",
        "  return word_tokenize(text)\n",
        "\n",
        "def normalize_text( text):\n",
        "    text = remove_special_chars(text)\n",
        "    text = remove_non_ascii(text)\n",
        "    text = remove_punctuation(text)\n",
        "    text = to_lowercase(text)\n",
        "    text = replace_numbers(text)\n",
        "    words = text2words(text)\n",
        "    words = remove_stopwords(words, stop_words)\n",
        "    #words = stem_words(words)# Either stem ovocar lemmatize\n",
        "    words = lemmatize_words(words)\n",
        "    words = lemmatize_verbs(words)\n",
        "\n",
        "    return ''.join(words)"
      ],
      "execution_count": 19,
      "outputs": []
    },
    {
      "cell_type": "code",
      "metadata": {
        "id": "C8BPl8W0ITAL"
      },
      "source": [
        "def normalize_corpus(corpus):\n",
        "  return [normalize_text(t) for t in corpus]"
      ],
      "execution_count": 20,
      "outputs": []
    },
    {
      "cell_type": "code",
      "metadata": {
        "colab": {
          "base_uri": "https://localhost:8080/",
          "height": 69
        },
        "id": "6M7Bjuajdkzh",
        "outputId": "8f82e09f-0507-4ca3-e66e-a77ffe54d5c6"
      },
      "source": [
        "normalize_text(trn_texts[0])"
      ],
      "execution_count": 21,
      "outputs": [
        {
          "output_type": "execute_result",
          "data": {
            "application/vnd.google.colaboratory.intrinsic+json": {
              "type": "string"
            },
            "text/plain": [
              "'kevin kline meg ryan among class actor always interest see despite review always find m ryan charm winsome actress nearly role kevin kline almost always worth watch say nearly almost large part movie first meg ryan play likeable character play weakwilled whiner begin grate nerve shortly open credit doesnt give several day later say kevin kline character even annoy le likeable even normally like two actor recommend give movie pas'"
            ]
          },
          "metadata": {},
          "execution_count": 21
        }
      ]
    },
    {
      "cell_type": "code",
      "metadata": {
        "colab": {
          "base_uri": "https://localhost:8080/"
        },
        "id": "9UJteheSdk3u",
        "outputId": "fbf8b7f9-1871-406e-bd40-50ef8284c025"
      },
      "source": [
        "from keras.preprocessing.text import text_to_word_sequence\n",
        "# define the document\n",
        "text = 'human-like robots are dump, but cute' # 'The quick brown fox jumped over the lazy dog.'\n",
        "# tokenize the document\n",
        "result = text_to_word_sequence(text)\n",
        "print(result)"
      ],
      "execution_count": 22,
      "outputs": [
        {
          "output_type": "stream",
          "name": "stdout",
          "text": [
            "['human', 'like', 'robots', 'are', 'dump', 'but', 'cute']\n"
          ]
        }
      ]
    },
    {
      "cell_type": "code",
      "metadata": {
        "id": "qcLmHP3Zdk_K"
      },
      "source": [
        "texts = trn_texts + tst_texts\n",
        "words = [word for text in texts for word in text.split()]\n",
        "v = sorted(list(set(words)))\n"
      ],
      "execution_count": 23,
      "outputs": []
    },
    {
      "cell_type": "code",
      "metadata": {
        "colab": {
          "base_uri": "https://localhost:8080/"
        },
        "id": "9b5-9tKpfVbA",
        "outputId": "1aa8280f-a189-4932-8c42-abba754b675a"
      },
      "source": [
        "len(v)"
      ],
      "execution_count": 24,
      "outputs": [
        {
          "output_type": "execute_result",
          "data": {
            "text/plain": [
              "438729"
            ]
          },
          "metadata": {},
          "execution_count": 24
        }
      ]
    },
    {
      "cell_type": "code",
      "metadata": {
        "id": "MI2iLri7dlGd"
      },
      "source": [
        "# normalized_text=[]\n",
        "# for text in texts:\n",
        "#   normalized_text.append(normalize_text(text))\n",
        "\n",
        "# words = [word for text in normalized_text for word in text.split()]\n",
        "# x = sorted(list(set(words)))\n",
        "\n",
        "# len(x)"
      ],
      "execution_count": 25,
      "outputs": []
    },
    {
      "cell_type": "code",
      "metadata": {
        "id": "8dAj0DSOgyF-"
      },
      "source": [
        "from collections import Counter\n",
        "word_counts = Counter([\"z\",\"z\",\"m\",\"O\"])"
      ],
      "execution_count": 26,
      "outputs": []
    },
    {
      "cell_type": "code",
      "metadata": {
        "colab": {
          "base_uri": "https://localhost:8080/"
        },
        "id": "QPSDii-HkMv_",
        "outputId": "2980aea0-d811-4b38-894a-2f5eda2c59db"
      },
      "source": [
        "sorted(word_counts.items(), key=lambda x: x[1],  reverse=True)"
      ],
      "execution_count": 27,
      "outputs": [
        {
          "output_type": "execute_result",
          "data": {
            "text/plain": [
              "[('z', 2), ('m', 1), ('O', 1)]"
            ]
          },
          "metadata": {},
          "execution_count": 27
        }
      ]
    },
    {
      "cell_type": "code",
      "metadata": {
        "colab": {
          "base_uri": "https://localhost:8080/"
        },
        "id": "kZFn3ILxkPOD",
        "outputId": "33bd5460-ed39-4400-b0c7-ba0f9513016e"
      },
      "source": [
        "word_counts.items()"
      ],
      "execution_count": 28,
      "outputs": [
        {
          "output_type": "execute_result",
          "data": {
            "text/plain": [
              "dict_items([('z', 2), ('m', 1), ('O', 1)])"
            ]
          },
          "metadata": {},
          "execution_count": 28
        }
      ]
    },
    {
      "cell_type": "code",
      "metadata": {
        "colab": {
          "base_uri": "https://localhost:8080/"
        },
        "id": "J_4_Ik6qkn3Q",
        "outputId": "b15dae54-50c4-45d6-fb24-c2dcb0f89907"
      },
      "source": [
        "from keras.preprocessing.text import Tokenizer\n",
        "\n",
        "texts = trn_texts + tst_texts # This must be list of strings: \n",
        "texts[:10]"
      ],
      "execution_count": 29,
      "outputs": [
        {
          "output_type": "execute_result",
          "data": {
            "text/plain": [
              "['Kevin Kline and Meg Ryan are among that class of actors which I am always interested in seeing, despite reviews. I have always found Ms. Ryan to be a charming and winsome actress in nearly all her roles, and Kevin Kline is almost always worth watching.<br /><br />I say \"nearly\" and \"almost\" in large part because of this movie.<br /><br />First off, Meg Ryan does not play a likeable character, she plays a weak-willed whiner who begins grating on your nerves shortly after the opening credits and doesn\\'t give up until several days later. That said, Kevin Kline\\'s character is even more annoying and less likeable. So, even if you normally like these two actors, I recommend your give this movie a pass.',\n",
              " 'Oh dear, Oh dear. I started watching this not knowing what to expect. I couldn\\'t believe what I was seeing. There were times when I thought it was a comedy. I loved how the government\\'s plan to capture the terrorist leader is to air drop in one man, who is unarmed, and expect him to capture him and escape with a rocket pack. If only it were really that easy. I\\'ve finally found a movie worse than \"Plan 9 From Outer Space\".',\n",
              " \"No wonder Pamela Springsteen gave up acting to become a full-time photographer; it's a much better idea to have her behind a camera than in front of one. While this movie is not without its interesting elements (mullets from hell, etc.), it is outweighed by flaws. For one thing, Angela, the murderous counselor, appears to be about the same age as the campers. Having an older, more threatening camp director would have done a lot for the film. And then you have the murder scenes. The budget was apparently too low to execute most of them properly (no pun intended), although drowning someone in an outhouse toilet is certainly original. But overall, there are a ton of movies out there that are scarier/more fun to spend an hour and a half of your life watching.\",\n",
              " 'Back when I was a kid and I lived with my sister, she bought every horror movie she could find and this was one of them. VCR\\'S had just became a household item and we didn\\'t have but about 150 movies and we watched the hell out of all of them.<br /><br />I was at a yard sale the other day and I saw this VHS copy of BLOOD LEGACY and I buy any horror movie I don\\'t have and I knew this movie looked familiar. I thought for a second and realized it was one that my sister had bought. She had sold it years ago in a yard sale I am guessing - who knows.<br /><br />I didn\\'t recall anything at all about it and I watched it the night I bought it and it refreshed my memory because of a few scenes. I am not sure how I felt about it as a kid but I am sure I enjoyed it because it was new to me and I\\'d watch and enjoy anything back then.<br /><br />I am a horror freak, but there are certain requirements in order for me to consider it \"good\" and this one fell very short. It was one of those talk talk talk and bore me to death types. What death scenes you see are done using the shadow on the wall followed by blood splatter and thats if you\\'re lucky you get that much.<br /><br />The story is good and I have seen a few with similar plots, so I think this one should be buried and forgotten. Don\\'t watch this people unless you\\'re hard up.',\n",
              " 'I\\'d completely forgotten about this film until now. This was the most blatant and worst attempt to demonise a hobby that I have ever seen. It\\'s message seemed to be : \"Don\\'t teenagers use their imagination; they might take games seriously, go mad and hurt people.\" I can only guess that the unimaginative writers of this piece thought that D&D style games are form of evil ritual or arcane worship.',\n",
              " 'The comment by \"eliz7212-1\" hits the proverbial \"nail on the head\" for this turkey of a program. But it is a hoot to watch William Shatner \"cavort\" and \"dance\" (yes, the \" \" marks on the word dance are necessary for what Bill does). This show would be a great skit on SNL or MAD TV - and it does rate a few stars for one viewing, or so, to see Shatner, who seems to have taken \"camp\" to new heights - whether in a role or as himself. But the guy is funny.<br /><br />The girls who are in the cubicle areas with the game data scrolls, will be pretty much out-of-luck when this turkey is canceled - unless there is a revival of the whiskey-a-go-go genre, with a resurrected demand for shapely young women to dance in elevated cages once more.<br /><br />I watched the first contestant, who was annoying, and literally \"dumber than a :post,\" yet through sheer luck, walked away with a quarter mil or so. The second contestant, somewhat more intelligent, but who\\'d be lucky to gain $1,000 on Jeopardy!, got zonked by the card which requires answering a special question - which he didn\\'t know, and thereby left with zilch.<br /><br />This plethora of game shows, which dangle, and sometimes award, large sums to everyday individuals, are admittedly a cheap effort, overall, to attempt to woo viewers. Even if the host is well-compensated, and they give away six figures in an average episode, I suppose that the revenue versus costs can be favorable - since you don\\'t have a sitcom cast where several stars are getting six or seven figures, per episode, with some big residual deals as well.<br /><br />But I suspect even the better ones will wear thin before long. This one has already pretty much reached this point. I think his offerings, especially with James Spader, and the others on \"Boston Legal\" should give us a satisfying quantity of Bill Shatner\\'s offerings.<br /><br />Again, the above rating is simply appropriate to view Bill hoot and prance, perhaps one time; that should be sufficient.',\n",
              " \"Firstly,I must admit that it isn't a good movie. And,I would never watch this movie if Pacino wasn't in it.<br /><br />The movie is about a publicist's strange 24 hours.And he is overworked,dizzy,sick and sometimes regretful.I don't like the character at all.It's really boring,after 20 minutes you may fall asleep.And I don't understand why Pacino wanted to be a part of this horrible movie.Just because of money or what?<br /><br />Since I'm an avid Pacino fan,I bought this 2002 movie People I Know.If you haven't bought it yet,don't even think about it,it's just a waste of time.\",\n",
              " 'Am I wrong,or is the 2007 version just a rip-off of the original? I have to ask because the DVD I just bought is one of the worst films I have ever seen.....bad acting,bad editing etc....the only \"exploitation \" aspect here is how we were ripped off for our money buying this piece of crap. It is nothing more than a light-weight porn flick...no real gore, no scary images, just a cheaply done bit of garbage. If anyone wants to see an excellent film with no name actors,some slimy gore and a decent storyline...get Baby Blood...also done on a cheap budget but well made...and an actual story too!I Spit was a waste of money but I\\'ll keep it just for a laugh....it is pathetic! New comment....Sept 3.....I\\'ll keep this film forever just because it it SOOOOO bad it\\'s almost good....in a really bad way....the worst acting ever...a real crap-movie classic!',\n",
              " 'And, finally, old, old Michael Corleone falls over and goes \\'THUMP!\\' Who REALLY did the writing for this last installment of the Godfather saga? Probably the same staff who does \"As the World Turns.\" This flick doesn\\'t deserve the title \"Godfather\" at all. Let\\'s call this one \"The Cosas of Our Nostras\" or \"All My Capos\". As someone who\\'s encountered a number of Mafia people in my business life, I can say without exception, that I\\'ve never met any mobster as inwardly-conflicted and contemplative as Michael Corleone. Let\\'s face it, these guys are in the Mafia solely because they\\'re greedy, nothing more. In this film, Don Corleone spends lots of time pondering his past deeds and his bleak future, perhaps even the Afterlife, then recovers remarkably fast in order to pull off some fantastic business deal or order the death of this one or that one like the big time operator he is, deep down. Then, there\\'s his failed marriage. After the break-up scenes in G2, we may hope that Michael & Kay will reunite as man and wife, but here they seem to just become very good, platonic friends who can laugh & cry & share intimate thoughts about their lives. It\\'s as if the screenwriters try to make Michael into a woman. It\\'s bizarre behavior for two people who shared the passion of the marriage bed for 9 years. There\\'s some miscasting here and there, or perhaps they\\'re sins of authorship. Poor, old-country-beautiful Sophia Coppola is saddled with a hopeless role, with too many short lines in the film that don\\'t fit what a young woman would say in casual conversations - was given \"remarks\" rather than \"lines\" to emote. Her \\'passionate\\' lovemaking scene with Andy Garcia looks like something from a bad teen sex comedy as they chew their open-mouthed kisses and fondle each others backsides on the kitchen drainboard like marionettes...scullery sex was brought off wonderfully by Glenn Close and Michael Douglas, but it\\'s just laughable here. Then, there\\'s Andy\\'s character, Vinnie Mancini, who\\'s also given a difficult & thankless role to play. He\\'s expected, I guess, to be the new, new Don Corleone, but he\\'s almost handed the job on a silver platter and has to do little to strengthen his position, unlike Michael\\'s simultaneous hits on all 5 Families in G1. This hand-me-down process may be an authentic way of transferring power in a Mafia Family, but why is so much made of this boring routine? Certainly, Don Vincent may earn the respect of his fellow gangsters someday, but there\\'s little character revelations in the script to give us a portrait of this young man, sadly. Puzo did such a fine job of quickly & concisely developing Michael\\'s character in G1. But, G3 has no economy in it\\'s story-telling and we suffer through drawn out expositories until we just want to take a snooze. Thirdly, George Hamilton was also handed a thankless task, in taking over as family lawyer after Robt Duvall reportedly turned down a 3rd installment as Tom Hagen. George wisely underplayed his role, so it came off without damage to the actor. The development of Connie Corleone\\'s character is interesting, but it goes too far when she takes murderous matters into her own hands (she could well end up sleeping with the Fredos, if this were the real world). But, it\\'s not all bad. The assassination scene in the hotel penthouse is nifty! Also, \"they keep pulling me back in\" or words to that effect is a great line. And, we recover some old-country feel as we get to go back to Sicily, even if it\\'s all done in 1989 and they\\'ve got modern cars & haircuts. The plot lines involving the corrupt hierarchy of the Catholic Church are pretty interesting, since it\\'s based on some actual financial shenanigans at Banco Vaticani in the 1980\\'s, but it\\'s brought too far, again, with the too-spectacular death scenes, etc. The Grand Opera scenes are very dramatic and well photographed. But, the death scene of Mary toward the end is an unbalanced attempt of emotional-manipulation, at best. All screenwriters need to learn that we don\\'t always need more and more death in order to bring a mafia movie to a successful conclusion. You feel sorry for Kay that her daughter is dead, she plays her grief so well, but Michael\\'s reaction is hammy, hammy, hammy. Then, Michael dies sometime in the 21st Century, in Sicily, alone on a grand estate, of heart-failure...no grandson to play with before his demise, no wife to grieve for him. What SHOULD have happened in the last 1/2 of this movie is Michael being tracked down by someone like Rudy Guilliani, put on trial, all his dirty family\\'s sleazy little enterprises and bloodthirsty indulgences brought into the light of day, Michael then convicted under RICO statutes and sent to Federal Prison for life...then he can keel over dead from heart-failure while mopping a floor IN LEAVENWORTH. That\\'s how mafia dons were ending their careers in the late 80\\'s and early 90\\'s and they got much better treatment than what they deserved.',\n",
              " 'I have been a fervent Hal Hartley supporter since I saw his short \"Surviving Desire\" in high school, and even then was still completely unmoored by his searingly brilliant \"Henry Fool.\" But this 10-year-later sequel is not only unnecessary, it\\'s disgraceful.<br /><br />After a choppy and expeditious start, \"Fay Grim\" devolves into pseudo-intellectualism, flat out boredom, and finally unwarranted - and unwanted - nihilism. And that\\'s just the plot.<br /><br />The majority of the new faces are as frivolous and poorly-developed as the movie: one particularly flat character ends up hogging half the time we spend with the infamous Henry Fool himself, and it\\'s his only spoken scene in the film!<br /><br />Jeff Goldblum\\'s Agent Fulbright, it seems, is the only bright character (a pun surely intended by Hartley as well). How, then, is he left? **SPOILER** Dead via a car bombing, easily making this the gentle-natured Hartley\\'s most violent film to date, and tonally all wrong in a film that\\'s already all wrong from the word go.<br /><br />As for the other new characters, Angus James, Ned Fool (or is it Grim?), not to mention Fay herself... well, I won\\'t spoil their fates, as the movie does a good enough job of that all on its own (when it isn\\'t busying itself with yet another godawful canted angle, which gives the disconcerting impression that Hartley is moving backwards from Auteur to crappy film student).<br /><br />This piece is a complete disaster, a dreadful mess that isn\\'t even good-humored enough to revel in its messiness. Instead it self-indulgently crams the typically fun hipster pretenses of its director into the \"real world\", one uglier and meaner than it need be but not nearly ugly or mean enough to come close to having anything to say. In doing so, Hartley tracks sh*t all over my memories of these people and the marvelous world he originally created for them.<br /><br />I have rarely been so depressed at the movies, and I\\'m counting \"Leaving Las Vegas,\" which at least developed fresh new characters we grew to love before destroying them, instead of immediately disregarding characters already beloved.<br /><br />Grim, indeed.']"
            ]
          },
          "metadata": {},
          "execution_count": 29
        }
      ]
    },
    {
      "cell_type": "code",
      "metadata": {
        "id": "hkAP0KYrFRI-"
      },
      "source": [
        "tok = Tokenizer()\n",
        "tok.fit_on_texts(texts)"
      ],
      "execution_count": 30,
      "outputs": []
    },
    {
      "cell_type": "code",
      "metadata": {
        "colab": {
          "base_uri": "https://localhost:8080/"
        },
        "id": "gQrffyJmFxI5",
        "outputId": "f9e9f6f8-d641-4c12-d906-b55622468267"
      },
      "source": [
        "tok.word_index"
      ],
      "execution_count": 31,
      "outputs": [
        {
          "output_type": "execute_result",
          "data": {
            "text/plain": [
              "{'the': 1,\n",
              " 'and': 2,\n",
              " 'a': 3,\n",
              " 'of': 4,\n",
              " 'to': 5,\n",
              " 'is': 6,\n",
              " 'br': 7,\n",
              " 'in': 8,\n",
              " 'it': 9,\n",
              " 'i': 10,\n",
              " 'this': 11,\n",
              " 'that': 12,\n",
              " 'was': 13,\n",
              " 'as': 14,\n",
              " 'for': 15,\n",
              " 'with': 16,\n",
              " 'movie': 17,\n",
              " 'but': 18,\n",
              " 'film': 19,\n",
              " 'on': 20,\n",
              " 'not': 21,\n",
              " 'you': 22,\n",
              " 'are': 23,\n",
              " 'his': 24,\n",
              " 'have': 25,\n",
              " 'be': 26,\n",
              " 'one': 27,\n",
              " 'he': 28,\n",
              " 'all': 29,\n",
              " 'at': 30,\n",
              " 'by': 31,\n",
              " 'an': 32,\n",
              " 'they': 33,\n",
              " 'so': 34,\n",
              " 'who': 35,\n",
              " 'from': 36,\n",
              " 'like': 37,\n",
              " 'or': 38,\n",
              " 'just': 39,\n",
              " 'her': 40,\n",
              " 'out': 41,\n",
              " 'about': 42,\n",
              " 'if': 43,\n",
              " \"it's\": 44,\n",
              " 'has': 45,\n",
              " 'there': 46,\n",
              " 'some': 47,\n",
              " 'what': 48,\n",
              " 'good': 49,\n",
              " 'when': 50,\n",
              " 'more': 51,\n",
              " 'very': 52,\n",
              " 'up': 53,\n",
              " 'no': 54,\n",
              " 'time': 55,\n",
              " 'my': 56,\n",
              " 'even': 57,\n",
              " 'would': 58,\n",
              " 'she': 59,\n",
              " 'which': 60,\n",
              " 'only': 61,\n",
              " 'really': 62,\n",
              " 'see': 63,\n",
              " 'story': 64,\n",
              " 'their': 65,\n",
              " 'had': 66,\n",
              " 'can': 67,\n",
              " 'me': 68,\n",
              " 'well': 69,\n",
              " 'were': 70,\n",
              " 'than': 71,\n",
              " 'much': 72,\n",
              " 'we': 73,\n",
              " 'bad': 74,\n",
              " 'been': 75,\n",
              " 'get': 76,\n",
              " 'do': 77,\n",
              " 'great': 78,\n",
              " 'other': 79,\n",
              " 'will': 80,\n",
              " 'also': 81,\n",
              " 'into': 82,\n",
              " 'people': 83,\n",
              " 'because': 84,\n",
              " 'how': 85,\n",
              " 'first': 86,\n",
              " 'him': 87,\n",
              " 'most': 88,\n",
              " \"don't\": 89,\n",
              " 'made': 90,\n",
              " 'then': 91,\n",
              " 'its': 92,\n",
              " 'them': 93,\n",
              " 'make': 94,\n",
              " 'way': 95,\n",
              " 'too': 96,\n",
              " 'movies': 97,\n",
              " 'could': 98,\n",
              " 'any': 99,\n",
              " 'after': 100,\n",
              " 'think': 101,\n",
              " 'characters': 102,\n",
              " 'watch': 103,\n",
              " 'films': 104,\n",
              " 'two': 105,\n",
              " 'many': 106,\n",
              " 'seen': 107,\n",
              " 'character': 108,\n",
              " 'being': 109,\n",
              " 'never': 110,\n",
              " 'plot': 111,\n",
              " 'love': 112,\n",
              " 'acting': 113,\n",
              " 'life': 114,\n",
              " 'did': 115,\n",
              " 'best': 116,\n",
              " 'where': 117,\n",
              " 'know': 118,\n",
              " 'show': 119,\n",
              " 'little': 120,\n",
              " 'over': 121,\n",
              " 'off': 122,\n",
              " 'ever': 123,\n",
              " 'does': 124,\n",
              " 'your': 125,\n",
              " 'better': 126,\n",
              " 'end': 127,\n",
              " 'man': 128,\n",
              " 'scene': 129,\n",
              " 'still': 130,\n",
              " 'say': 131,\n",
              " 'these': 132,\n",
              " 'here': 133,\n",
              " 'scenes': 134,\n",
              " 'why': 135,\n",
              " 'while': 136,\n",
              " 'something': 137,\n",
              " 'such': 138,\n",
              " 'go': 139,\n",
              " 'through': 140,\n",
              " 'back': 141,\n",
              " 'should': 142,\n",
              " 'those': 143,\n",
              " 'real': 144,\n",
              " \"i'm\": 145,\n",
              " 'now': 146,\n",
              " 'watching': 147,\n",
              " 'thing': 148,\n",
              " \"doesn't\": 149,\n",
              " 'actors': 150,\n",
              " 'though': 151,\n",
              " 'funny': 152,\n",
              " 'years': 153,\n",
              " \"didn't\": 154,\n",
              " 'old': 155,\n",
              " '10': 156,\n",
              " 'another': 157,\n",
              " 'work': 158,\n",
              " 'before': 159,\n",
              " 'actually': 160,\n",
              " 'nothing': 161,\n",
              " 'makes': 162,\n",
              " 'look': 163,\n",
              " 'director': 164,\n",
              " 'find': 165,\n",
              " 'going': 166,\n",
              " 'same': 167,\n",
              " 'new': 168,\n",
              " 'lot': 169,\n",
              " 'every': 170,\n",
              " 'few': 171,\n",
              " 'again': 172,\n",
              " 'part': 173,\n",
              " 'cast': 174,\n",
              " 'down': 175,\n",
              " 'us': 176,\n",
              " 'things': 177,\n",
              " 'want': 178,\n",
              " 'quite': 179,\n",
              " 'pretty': 180,\n",
              " 'world': 181,\n",
              " 'horror': 182,\n",
              " 'around': 183,\n",
              " 'seems': 184,\n",
              " \"can't\": 185,\n",
              " 'young': 186,\n",
              " 'take': 187,\n",
              " 'however': 188,\n",
              " 'got': 189,\n",
              " 'thought': 190,\n",
              " 'big': 191,\n",
              " 'fact': 192,\n",
              " 'enough': 193,\n",
              " 'long': 194,\n",
              " 'both': 195,\n",
              " \"that's\": 196,\n",
              " 'give': 197,\n",
              " \"i've\": 198,\n",
              " 'own': 199,\n",
              " 'may': 200,\n",
              " 'between': 201,\n",
              " 'comedy': 202,\n",
              " 'right': 203,\n",
              " 'series': 204,\n",
              " 'action': 205,\n",
              " 'must': 206,\n",
              " 'music': 207,\n",
              " 'without': 208,\n",
              " 'times': 209,\n",
              " 'saw': 210,\n",
              " 'always': 211,\n",
              " 'original': 212,\n",
              " \"isn't\": 213,\n",
              " 'role': 214,\n",
              " 'come': 215,\n",
              " 'almost': 216,\n",
              " 'gets': 217,\n",
              " 'interesting': 218,\n",
              " 'guy': 219,\n",
              " 'point': 220,\n",
              " 'done': 221,\n",
              " \"there's\": 222,\n",
              " 'whole': 223,\n",
              " 'least': 224,\n",
              " 'far': 225,\n",
              " 'bit': 226,\n",
              " 'script': 227,\n",
              " 'minutes': 228,\n",
              " 'feel': 229,\n",
              " '2': 230,\n",
              " 'anything': 231,\n",
              " 'making': 232,\n",
              " 'might': 233,\n",
              " 'since': 234,\n",
              " 'am': 235,\n",
              " 'family': 236,\n",
              " \"he's\": 237,\n",
              " 'last': 238,\n",
              " 'probably': 239,\n",
              " 'tv': 240,\n",
              " 'performance': 241,\n",
              " 'kind': 242,\n",
              " 'away': 243,\n",
              " 'yet': 244,\n",
              " 'fun': 245,\n",
              " 'worst': 246,\n",
              " 'sure': 247,\n",
              " 'rather': 248,\n",
              " 'hard': 249,\n",
              " 'anyone': 250,\n",
              " 'girl': 251,\n",
              " 'each': 252,\n",
              " 'played': 253,\n",
              " 'day': 254,\n",
              " 'found': 255,\n",
              " 'looking': 256,\n",
              " 'woman': 257,\n",
              " 'screen': 258,\n",
              " 'although': 259,\n",
              " 'our': 260,\n",
              " 'especially': 261,\n",
              " 'believe': 262,\n",
              " 'having': 263,\n",
              " 'trying': 264,\n",
              " 'course': 265,\n",
              " 'dvd': 266,\n",
              " 'everything': 267,\n",
              " 'set': 268,\n",
              " 'goes': 269,\n",
              " 'comes': 270,\n",
              " 'put': 271,\n",
              " 'ending': 272,\n",
              " 'maybe': 273,\n",
              " 'place': 274,\n",
              " 'book': 275,\n",
              " 'shows': 276,\n",
              " 'three': 277,\n",
              " 'worth': 278,\n",
              " 'different': 279,\n",
              " 'main': 280,\n",
              " 'once': 281,\n",
              " 'sense': 282,\n",
              " 'american': 283,\n",
              " 'reason': 284,\n",
              " 'looks': 285,\n",
              " 'effects': 286,\n",
              " 'watched': 287,\n",
              " 'play': 288,\n",
              " 'true': 289,\n",
              " 'money': 290,\n",
              " 'actor': 291,\n",
              " \"wasn't\": 292,\n",
              " 'job': 293,\n",
              " 'together': 294,\n",
              " 'war': 295,\n",
              " 'someone': 296,\n",
              " 'plays': 297,\n",
              " 'instead': 298,\n",
              " 'high': 299,\n",
              " 'during': 300,\n",
              " 'said': 301,\n",
              " 'year': 302,\n",
              " 'half': 303,\n",
              " 'everyone': 304,\n",
              " 'later': 305,\n",
              " 'takes': 306,\n",
              " '1': 307,\n",
              " 'seem': 308,\n",
              " 'audience': 309,\n",
              " 'special': 310,\n",
              " 'beautiful': 311,\n",
              " 'left': 312,\n",
              " 'himself': 313,\n",
              " 'seeing': 314,\n",
              " 'john': 315,\n",
              " 'night': 316,\n",
              " 'black': 317,\n",
              " 'version': 318,\n",
              " 'shot': 319,\n",
              " 'excellent': 320,\n",
              " 'idea': 321,\n",
              " 'house': 322,\n",
              " 'mind': 323,\n",
              " 'star': 324,\n",
              " 'wife': 325,\n",
              " 'fan': 326,\n",
              " 'death': 327,\n",
              " 'used': 328,\n",
              " 'else': 329,\n",
              " 'simply': 330,\n",
              " 'nice': 331,\n",
              " 'budget': 332,\n",
              " 'poor': 333,\n",
              " 'short': 334,\n",
              " 'completely': 335,\n",
              " 'second': 336,\n",
              " \"you're\": 337,\n",
              " '3': 338,\n",
              " 'read': 339,\n",
              " 'less': 340,\n",
              " 'along': 341,\n",
              " 'top': 342,\n",
              " 'help': 343,\n",
              " 'home': 344,\n",
              " 'men': 345,\n",
              " 'either': 346,\n",
              " 'line': 347,\n",
              " 'boring': 348,\n",
              " 'dead': 349,\n",
              " 'friends': 350,\n",
              " 'kids': 351,\n",
              " 'try': 352,\n",
              " 'production': 353,\n",
              " 'enjoy': 354,\n",
              " 'camera': 355,\n",
              " 'use': 356,\n",
              " 'wrong': 357,\n",
              " 'given': 358,\n",
              " 'low': 359,\n",
              " 'classic': 360,\n",
              " 'father': 361,\n",
              " 'need': 362,\n",
              " 'full': 363,\n",
              " 'stupid': 364,\n",
              " 'until': 365,\n",
              " 'next': 366,\n",
              " 'performances': 367,\n",
              " 'school': 368,\n",
              " 'hollywood': 369,\n",
              " 'rest': 370,\n",
              " 'truly': 371,\n",
              " 'awful': 372,\n",
              " 'video': 373,\n",
              " 'couple': 374,\n",
              " 'start': 375,\n",
              " 'sex': 376,\n",
              " 'recommend': 377,\n",
              " 'women': 378,\n",
              " 'let': 379,\n",
              " 'tell': 380,\n",
              " 'terrible': 381,\n",
              " 'remember': 382,\n",
              " 'mean': 383,\n",
              " 'came': 384,\n",
              " 'getting': 385,\n",
              " 'understand': 386,\n",
              " 'perhaps': 387,\n",
              " 'moments': 388,\n",
              " 'name': 389,\n",
              " 'keep': 390,\n",
              " 'face': 391,\n",
              " 'itself': 392,\n",
              " 'wonderful': 393,\n",
              " 'playing': 394,\n",
              " 'human': 395,\n",
              " 'style': 396,\n",
              " 'small': 397,\n",
              " 'episode': 398,\n",
              " 'perfect': 399,\n",
              " 'others': 400,\n",
              " 'person': 401,\n",
              " 'doing': 402,\n",
              " 'often': 403,\n",
              " 'early': 404,\n",
              " 'stars': 405,\n",
              " 'definitely': 406,\n",
              " 'written': 407,\n",
              " 'head': 408,\n",
              " 'lines': 409,\n",
              " 'dialogue': 410,\n",
              " 'gives': 411,\n",
              " 'piece': 412,\n",
              " \"couldn't\": 413,\n",
              " 'went': 414,\n",
              " 'finally': 415,\n",
              " 'mother': 416,\n",
              " 'title': 417,\n",
              " 'case': 418,\n",
              " 'absolutely': 419,\n",
              " 'live': 420,\n",
              " 'boy': 421,\n",
              " 'yes': 422,\n",
              " 'laugh': 423,\n",
              " 'certainly': 424,\n",
              " 'liked': 425,\n",
              " 'become': 426,\n",
              " 'worse': 427,\n",
              " 'entertaining': 428,\n",
              " 'oh': 429,\n",
              " 'sort': 430,\n",
              " 'loved': 431,\n",
              " 'lost': 432,\n",
              " 'hope': 433,\n",
              " 'called': 434,\n",
              " 'picture': 435,\n",
              " 'felt': 436,\n",
              " 'overall': 437,\n",
              " 'entire': 438,\n",
              " 'several': 439,\n",
              " 'mr': 440,\n",
              " 'based': 441,\n",
              " 'supposed': 442,\n",
              " 'cinema': 443,\n",
              " 'friend': 444,\n",
              " 'guys': 445,\n",
              " 'sound': 446,\n",
              " '5': 447,\n",
              " 'problem': 448,\n",
              " 'drama': 449,\n",
              " 'against': 450,\n",
              " 'waste': 451,\n",
              " 'white': 452,\n",
              " 'beginning': 453,\n",
              " '4': 454,\n",
              " 'fans': 455,\n",
              " 'totally': 456,\n",
              " 'dark': 457,\n",
              " 'care': 458,\n",
              " 'direction': 459,\n",
              " 'humor': 460,\n",
              " 'wanted': 461,\n",
              " \"she's\": 462,\n",
              " 'seemed': 463,\n",
              " 'game': 464,\n",
              " 'under': 465,\n",
              " 'children': 466,\n",
              " 'despite': 467,\n",
              " 'lives': 468,\n",
              " 'lead': 469,\n",
              " 'guess': 470,\n",
              " 'example': 471,\n",
              " 'already': 472,\n",
              " 'final': 473,\n",
              " \"you'll\": 474,\n",
              " 'throughout': 475,\n",
              " 'evil': 476,\n",
              " 'turn': 477,\n",
              " 'becomes': 478,\n",
              " 'unfortunately': 479,\n",
              " 'able': 480,\n",
              " 'quality': 481,\n",
              " \"i'd\": 482,\n",
              " 'days': 483,\n",
              " 'history': 484,\n",
              " 'fine': 485,\n",
              " 'side': 486,\n",
              " 'wants': 487,\n",
              " 'horrible': 488,\n",
              " 'heart': 489,\n",
              " 'writing': 490,\n",
              " 'amazing': 491,\n",
              " 'b': 492,\n",
              " 'flick': 493,\n",
              " 'killer': 494,\n",
              " 'run': 495,\n",
              " 'son': 496,\n",
              " '\\x96': 497,\n",
              " 'michael': 498,\n",
              " 'works': 499,\n",
              " 'close': 500,\n",
              " \"they're\": 501,\n",
              " 'act': 502,\n",
              " 'art': 503,\n",
              " 'kill': 504,\n",
              " 'matter': 505,\n",
              " 'etc': 506,\n",
              " 'tries': 507,\n",
              " \"won't\": 508,\n",
              " 'past': 509,\n",
              " 'town': 510,\n",
              " 'enjoyed': 511,\n",
              " 'turns': 512,\n",
              " 'brilliant': 513,\n",
              " 'gave': 514,\n",
              " 'behind': 515,\n",
              " 'parts': 516,\n",
              " 'stuff': 517,\n",
              " 'genre': 518,\n",
              " 'eyes': 519,\n",
              " 'car': 520,\n",
              " 'favorite': 521,\n",
              " 'directed': 522,\n",
              " 'late': 523,\n",
              " 'hand': 524,\n",
              " 'expect': 525,\n",
              " 'soon': 526,\n",
              " 'hour': 527,\n",
              " 'obviously': 528,\n",
              " 'themselves': 529,\n",
              " 'sometimes': 530,\n",
              " 'killed': 531,\n",
              " 'actress': 532,\n",
              " 'thinking': 533,\n",
              " 'girls': 534,\n",
              " 'child': 535,\n",
              " 'viewer': 536,\n",
              " 'starts': 537,\n",
              " 'city': 538,\n",
              " 'myself': 539,\n",
              " 'decent': 540,\n",
              " 'highly': 541,\n",
              " 'stop': 542,\n",
              " 'type': 543,\n",
              " 'self': 544,\n",
              " 'god': 545,\n",
              " 'says': 546,\n",
              " 'group': 547,\n",
              " 'anyway': 548,\n",
              " 'voice': 549,\n",
              " 'took': 550,\n",
              " 'known': 551,\n",
              " 'blood': 552,\n",
              " 'kid': 553,\n",
              " 'heard': 554,\n",
              " 'happens': 555,\n",
              " 'except': 556,\n",
              " 'fight': 557,\n",
              " 'feeling': 558,\n",
              " 'experience': 559,\n",
              " 'coming': 560,\n",
              " 'slow': 561,\n",
              " 'daughter': 562,\n",
              " 'writer': 563,\n",
              " 'stories': 564,\n",
              " 'moment': 565,\n",
              " 'leave': 566,\n",
              " 'told': 567,\n",
              " 'extremely': 568,\n",
              " 'score': 569,\n",
              " 'violence': 570,\n",
              " 'involved': 571,\n",
              " 'police': 572,\n",
              " 'strong': 573,\n",
              " 'lack': 574,\n",
              " 'chance': 575,\n",
              " 'cannot': 576,\n",
              " 'hit': 577,\n",
              " 'roles': 578,\n",
              " 'hilarious': 579,\n",
              " 's': 580,\n",
              " 'wonder': 581,\n",
              " 'happen': 582,\n",
              " 'particularly': 583,\n",
              " 'ok': 584,\n",
              " 'including': 585,\n",
              " 'living': 586,\n",
              " 'save': 587,\n",
              " 'looked': 588,\n",
              " \"wouldn't\": 589,\n",
              " 'crap': 590,\n",
              " 'please': 591,\n",
              " 'simple': 592,\n",
              " 'murder': 593,\n",
              " 'cool': 594,\n",
              " 'obvious': 595,\n",
              " 'happened': 596,\n",
              " 'complete': 597,\n",
              " 'cut': 598,\n",
              " 'age': 599,\n",
              " 'serious': 600,\n",
              " 'gore': 601,\n",
              " 'attempt': 602,\n",
              " 'hell': 603,\n",
              " 'ago': 604,\n",
              " 'song': 605,\n",
              " 'shown': 606,\n",
              " 'taken': 607,\n",
              " 'english': 608,\n",
              " 'james': 609,\n",
              " 'robert': 610,\n",
              " 'david': 611,\n",
              " 'seriously': 612,\n",
              " 'released': 613,\n",
              " 'reality': 614,\n",
              " 'opening': 615,\n",
              " 'interest': 616,\n",
              " 'jokes': 617,\n",
              " 'across': 618,\n",
              " 'none': 619,\n",
              " 'hero': 620,\n",
              " 'exactly': 621,\n",
              " 'possible': 622,\n",
              " 'today': 623,\n",
              " 'alone': 624,\n",
              " 'sad': 625,\n",
              " 'brother': 626,\n",
              " 'number': 627,\n",
              " 'career': 628,\n",
              " 'saying': 629,\n",
              " \"film's\": 630,\n",
              " 'hours': 631,\n",
              " 'usually': 632,\n",
              " 'cinematography': 633,\n",
              " 'talent': 634,\n",
              " 'view': 635,\n",
              " 'annoying': 636,\n",
              " 'yourself': 637,\n",
              " 'running': 638,\n",
              " 'relationship': 639,\n",
              " 'documentary': 640,\n",
              " 'wish': 641,\n",
              " 'order': 642,\n",
              " 'huge': 643,\n",
              " 'shots': 644,\n",
              " 'whose': 645,\n",
              " 'ridiculous': 646,\n",
              " 'taking': 647,\n",
              " 'important': 648,\n",
              " 'light': 649,\n",
              " 'body': 650,\n",
              " 'middle': 651,\n",
              " 'level': 652,\n",
              " 'ends': 653,\n",
              " 'started': 654,\n",
              " 'call': 655,\n",
              " 'female': 656,\n",
              " \"i'll\": 657,\n",
              " 'husband': 658,\n",
              " 'four': 659,\n",
              " 'power': 660,\n",
              " 'word': 661,\n",
              " 'turned': 662,\n",
              " 'major': 663,\n",
              " 'opinion': 664,\n",
              " 'change': 665,\n",
              " 'mostly': 666,\n",
              " 'usual': 667,\n",
              " 'scary': 668,\n",
              " 'silly': 669,\n",
              " 'rating': 670,\n",
              " 'beyond': 671,\n",
              " 'somewhat': 672,\n",
              " 'ones': 673,\n",
              " 'happy': 674,\n",
              " 'words': 675,\n",
              " 'room': 676,\n",
              " 'knew': 677,\n",
              " 'knows': 678,\n",
              " 'country': 679,\n",
              " 'disappointed': 680,\n",
              " 'talking': 681,\n",
              " 'novel': 682,\n",
              " 'apparently': 683,\n",
              " 'non': 684,\n",
              " 'strange': 685,\n",
              " 'attention': 686,\n",
              " 'upon': 687,\n",
              " 'single': 688,\n",
              " 'finds': 689,\n",
              " 'basically': 690,\n",
              " 'cheap': 691,\n",
              " 'modern': 692,\n",
              " 'due': 693,\n",
              " 'jack': 694,\n",
              " 'television': 695,\n",
              " 'musical': 696,\n",
              " 'problems': 697,\n",
              " 'miss': 698,\n",
              " 'episodes': 699,\n",
              " 'clearly': 700,\n",
              " 'local': 701,\n",
              " '7': 702,\n",
              " 'british': 703,\n",
              " 'thriller': 704,\n",
              " 'talk': 705,\n",
              " 'events': 706,\n",
              " 'five': 707,\n",
              " 'sequence': 708,\n",
              " \"aren't\": 709,\n",
              " 'class': 710,\n",
              " 'french': 711,\n",
              " 'moving': 712,\n",
              " 'ten': 713,\n",
              " 'fast': 714,\n",
              " 'earth': 715,\n",
              " 'review': 716,\n",
              " 'tells': 717,\n",
              " 'predictable': 718,\n",
              " 'songs': 719,\n",
              " 'team': 720,\n",
              " 'comic': 721,\n",
              " 'straight': 722,\n",
              " 'whether': 723,\n",
              " '8': 724,\n",
              " 'die': 725,\n",
              " 'add': 726,\n",
              " 'dialog': 727,\n",
              " 'entertainment': 728,\n",
              " 'above': 729,\n",
              " 'sets': 730,\n",
              " 'future': 731,\n",
              " 'enjoyable': 732,\n",
              " 'appears': 733,\n",
              " 'near': 734,\n",
              " 'space': 735,\n",
              " 'easily': 736,\n",
              " 'hate': 737,\n",
              " 'soundtrack': 738,\n",
              " 'bring': 739,\n",
              " 'giving': 740,\n",
              " 'lots': 741,\n",
              " 'similar': 742,\n",
              " 'romantic': 743,\n",
              " 'george': 744,\n",
              " 'supporting': 745,\n",
              " 'release': 746,\n",
              " 'mention': 747,\n",
              " 'within': 748,\n",
              " 'filmed': 749,\n",
              " 'message': 750,\n",
              " 'sequel': 751,\n",
              " 'clear': 752,\n",
              " 'falls': 753,\n",
              " \"haven't\": 754,\n",
              " 'needs': 755,\n",
              " 'dull': 756,\n",
              " 'suspense': 757,\n",
              " 'eye': 758,\n",
              " 'bunch': 759,\n",
              " 'surprised': 760,\n",
              " 'showing': 761,\n",
              " 'sorry': 762,\n",
              " 'tried': 763,\n",
              " 'certain': 764,\n",
              " 'easy': 765,\n",
              " 'working': 766,\n",
              " 'ways': 767,\n",
              " 'theme': 768,\n",
              " 'theater': 769,\n",
              " 'among': 770,\n",
              " 'named': 771,\n",
              " \"what's\": 772,\n",
              " 'storyline': 773,\n",
              " 'monster': 774,\n",
              " 'king': 775,\n",
              " 'stay': 776,\n",
              " 'effort': 777,\n",
              " 'fall': 778,\n",
              " 'minute': 779,\n",
              " 'stand': 780,\n",
              " 'gone': 781,\n",
              " 'rock': 782,\n",
              " 'using': 783,\n",
              " '9': 784,\n",
              " 'feature': 785,\n",
              " 'buy': 786,\n",
              " 'comments': 787,\n",
              " \"'\": 788,\n",
              " 't': 789,\n",
              " 'typical': 790,\n",
              " 'sister': 791,\n",
              " 'editing': 792,\n",
              " 'avoid': 793,\n",
              " 'tale': 794,\n",
              " 'deal': 795,\n",
              " 'mystery': 796,\n",
              " 'dr': 797,\n",
              " 'doubt': 798,\n",
              " 'fantastic': 799,\n",
              " 'nearly': 800,\n",
              " 'kept': 801,\n",
              " 'okay': 802,\n",
              " 'feels': 803,\n",
              " 'subject': 804,\n",
              " 'viewing': 805,\n",
              " 'elements': 806,\n",
              " 'check': 807,\n",
              " 'oscar': 808,\n",
              " 'realistic': 809,\n",
              " 'points': 810,\n",
              " 'means': 811,\n",
              " 'greatest': 812,\n",
              " 'herself': 813,\n",
              " 'parents': 814,\n",
              " 'famous': 815,\n",
              " 'imagine': 816,\n",
              " 'rent': 817,\n",
              " 'viewers': 818,\n",
              " 'richard': 819,\n",
              " 'crime': 820,\n",
              " 'form': 821,\n",
              " 'peter': 822,\n",
              " 'actual': 823,\n",
              " 'lady': 824,\n",
              " 'general': 825,\n",
              " 'dog': 826,\n",
              " 'follow': 827,\n",
              " 'believable': 828,\n",
              " 'period': 829,\n",
              " 'red': 830,\n",
              " 'brought': 831,\n",
              " 'move': 832,\n",
              " 'material': 833,\n",
              " 'forget': 834,\n",
              " 'somehow': 835,\n",
              " 'begins': 836,\n",
              " 're': 837,\n",
              " 'reviews': 838,\n",
              " 'animation': 839,\n",
              " 'paul': 840,\n",
              " \"you've\": 841,\n",
              " 'leads': 842,\n",
              " 'weak': 843,\n",
              " 'figure': 844,\n",
              " 'surprise': 845,\n",
              " 'sit': 846,\n",
              " 'hear': 847,\n",
              " 'average': 848,\n",
              " 'open': 849,\n",
              " 'sequences': 850,\n",
              " 'atmosphere': 851,\n",
              " 'killing': 852,\n",
              " 'eventually': 853,\n",
              " 'tom': 854,\n",
              " 'learn': 855,\n",
              " 'premise': 856,\n",
              " '20': 857,\n",
              " 'wait': 858,\n",
              " 'sci': 859,\n",
              " 'deep': 860,\n",
              " 'fi': 861,\n",
              " 'expected': 862,\n",
              " 'whatever': 863,\n",
              " 'indeed': 864,\n",
              " 'poorly': 865,\n",
              " 'note': 866,\n",
              " 'lame': 867,\n",
              " 'particular': 868,\n",
              " 'dance': 869,\n",
              " 'imdb': 870,\n",
              " 'situation': 871,\n",
              " 'shame': 872,\n",
              " 'third': 873,\n",
              " 'box': 874,\n",
              " 'york': 875,\n",
              " 'truth': 876,\n",
              " 'decided': 877,\n",
              " 'free': 878,\n",
              " 'hot': 879,\n",
              " \"who's\": 880,\n",
              " 'difficult': 881,\n",
              " 'needed': 882,\n",
              " 'season': 883,\n",
              " 'acted': 884,\n",
              " 'leaves': 885,\n",
              " 'unless': 886,\n",
              " 'emotional': 887,\n",
              " 'possibly': 888,\n",
              " 'romance': 889,\n",
              " 'gay': 890,\n",
              " 'sexual': 891,\n",
              " 'boys': 892,\n",
              " 'footage': 893,\n",
              " 'write': 894,\n",
              " 'western': 895,\n",
              " 'credits': 896,\n",
              " 'forced': 897,\n",
              " 'became': 898,\n",
              " 'reading': 899,\n",
              " 'doctor': 900,\n",
              " 'memorable': 901,\n",
              " 'otherwise': 902,\n",
              " 'air': 903,\n",
              " 'crew': 904,\n",
              " 'begin': 905,\n",
              " 'de': 906,\n",
              " 'question': 907,\n",
              " 'society': 908,\n",
              " 'meet': 909,\n",
              " 'male': 910,\n",
              " \"let's\": 911,\n",
              " 'meets': 912,\n",
              " 'plus': 913,\n",
              " 'cheesy': 914,\n",
              " 'hands': 915,\n",
              " 'superb': 916,\n",
              " 'screenplay': 917,\n",
              " 'interested': 918,\n",
              " 'beauty': 919,\n",
              " 'features': 920,\n",
              " 'street': 921,\n",
              " 'whom': 922,\n",
              " 'masterpiece': 923,\n",
              " 'perfectly': 924,\n",
              " 'laughs': 925,\n",
              " 'nature': 926,\n",
              " 'stage': 927,\n",
              " 'effect': 928,\n",
              " 'comment': 929,\n",
              " 'forward': 930,\n",
              " 'nor': 931,\n",
              " 'previous': 932,\n",
              " 'e': 933,\n",
              " 'badly': 934,\n",
              " 'sounds': 935,\n",
              " 'japanese': 936,\n",
              " 'weird': 937,\n",
              " 'island': 938,\n",
              " 'inside': 939,\n",
              " 'personal': 940,\n",
              " 'quickly': 941,\n",
              " 'total': 942,\n",
              " 'keeps': 943,\n",
              " 'towards': 944,\n",
              " 'result': 945,\n",
              " 'america': 946,\n",
              " 'battle': 947,\n",
              " 'crazy': 948,\n",
              " 'worked': 949,\n",
              " 'incredibly': 950,\n",
              " 'setting': 951,\n",
              " 'earlier': 952,\n",
              " 'background': 953,\n",
              " 'mess': 954,\n",
              " 'cop': 955,\n",
              " 'writers': 956,\n",
              " 'fire': 957,\n",
              " 'copy': 958,\n",
              " 'unique': 959,\n",
              " 'realize': 960,\n",
              " 'dumb': 961,\n",
              " 'powerful': 962,\n",
              " 'lee': 963,\n",
              " 'mark': 964,\n",
              " 'business': 965,\n",
              " 'rate': 966,\n",
              " 'older': 967,\n",
              " 'dramatic': 968,\n",
              " 'pay': 969,\n",
              " 'following': 970,\n",
              " 'girlfriend': 971,\n",
              " 'joke': 972,\n",
              " 'directors': 973,\n",
              " 'plenty': 974,\n",
              " 'directing': 975,\n",
              " 'various': 976,\n",
              " 'baby': 977,\n",
              " 'creepy': 978,\n",
              " 'development': 979,\n",
              " 'appear': 980,\n",
              " 'brings': 981,\n",
              " 'front': 982,\n",
              " 'ask': 983,\n",
              " 'dream': 984,\n",
              " 'water': 985,\n",
              " 'bill': 986,\n",
              " 'admit': 987,\n",
              " 'rich': 988,\n",
              " 'apart': 989,\n",
              " 'joe': 990,\n",
              " 'fairly': 991,\n",
              " 'political': 992,\n",
              " 'reasons': 993,\n",
              " 'leading': 994,\n",
              " 'spent': 995,\n",
              " 'portrayed': 996,\n",
              " 'telling': 997,\n",
              " 'cover': 998,\n",
              " 'outside': 999,\n",
              " 'wasted': 1000,\n",
              " ...}"
            ]
          },
          "metadata": {},
          "execution_count": 31
        }
      ]
    },
    {
      "cell_type": "code",
      "metadata": {
        "id": "9YehfL3jFxQ5"
      },
      "source": [
        "tok = Tokenizer(oov_token='UNK')\n",
        "tok.fit_on_texts(texts)"
      ],
      "execution_count": 32,
      "outputs": []
    },
    {
      "cell_type": "code",
      "metadata": {
        "colab": {
          "base_uri": "https://localhost:8080/"
        },
        "id": "10y5jw3bFxbo",
        "outputId": "92d5b7c6-4ddc-4cbf-d4d2-2e2676637d95"
      },
      "source": [
        "tok.word_index['UNK']"
      ],
      "execution_count": 33,
      "outputs": [
        {
          "output_type": "execute_result",
          "data": {
            "text/plain": [
              "1"
            ]
          },
          "metadata": {},
          "execution_count": 33
        }
      ]
    },
    {
      "cell_type": "code",
      "metadata": {
        "colab": {
          "base_uri": "https://localhost:8080/"
        },
        "id": "aISzVW1ZFxl9",
        "outputId": "44952339-d81f-4595-fb34-cbf0763a1c1e"
      },
      "source": [
        "s = 'Hello World'\n",
        "tok.texts_to_sequences(s.split())"
      ],
      "execution_count": 34,
      "outputs": [
        {
          "output_type": "execute_result",
          "data": {
            "text/plain": [
              "[[5125], [182]]"
            ]
          },
          "metadata": {},
          "execution_count": 34
        }
      ]
    },
    {
      "cell_type": "code",
      "metadata": {
        "colab": {
          "base_uri": "https://localhost:8080/"
        },
        "id": "QeSWdzxhFxsX",
        "outputId": "00b3b491-9cb6-4592-89aa-c36a31486290"
      },
      "source": [
        "tok.word_index[\"hello\"]"
      ],
      "execution_count": 35,
      "outputs": [
        {
          "output_type": "execute_result",
          "data": {
            "text/plain": [
              "5125"
            ]
          },
          "metadata": {},
          "execution_count": 35
        }
      ]
    },
    {
      "cell_type": "code",
      "metadata": {
        "colab": {
          "base_uri": "https://localhost:8080/"
        },
        "id": "1jxbuoKNFxzF",
        "outputId": "97575687-f5ed-47cc-aea5-c7b889f87c43"
      },
      "source": [
        "tok.word_index"
      ],
      "execution_count": 36,
      "outputs": [
        {
          "output_type": "execute_result",
          "data": {
            "text/plain": [
              "{'UNK': 1,\n",
              " 'the': 2,\n",
              " 'and': 3,\n",
              " 'a': 4,\n",
              " 'of': 5,\n",
              " 'to': 6,\n",
              " 'is': 7,\n",
              " 'br': 8,\n",
              " 'in': 9,\n",
              " 'it': 10,\n",
              " 'i': 11,\n",
              " 'this': 12,\n",
              " 'that': 13,\n",
              " 'was': 14,\n",
              " 'as': 15,\n",
              " 'for': 16,\n",
              " 'with': 17,\n",
              " 'movie': 18,\n",
              " 'but': 19,\n",
              " 'film': 20,\n",
              " 'on': 21,\n",
              " 'not': 22,\n",
              " 'you': 23,\n",
              " 'are': 24,\n",
              " 'his': 25,\n",
              " 'have': 26,\n",
              " 'be': 27,\n",
              " 'one': 28,\n",
              " 'he': 29,\n",
              " 'all': 30,\n",
              " 'at': 31,\n",
              " 'by': 32,\n",
              " 'an': 33,\n",
              " 'they': 34,\n",
              " 'so': 35,\n",
              " 'who': 36,\n",
              " 'from': 37,\n",
              " 'like': 38,\n",
              " 'or': 39,\n",
              " 'just': 40,\n",
              " 'her': 41,\n",
              " 'out': 42,\n",
              " 'about': 43,\n",
              " 'if': 44,\n",
              " \"it's\": 45,\n",
              " 'has': 46,\n",
              " 'there': 47,\n",
              " 'some': 48,\n",
              " 'what': 49,\n",
              " 'good': 50,\n",
              " 'when': 51,\n",
              " 'more': 52,\n",
              " 'very': 53,\n",
              " 'up': 54,\n",
              " 'no': 55,\n",
              " 'time': 56,\n",
              " 'my': 57,\n",
              " 'even': 58,\n",
              " 'would': 59,\n",
              " 'she': 60,\n",
              " 'which': 61,\n",
              " 'only': 62,\n",
              " 'really': 63,\n",
              " 'see': 64,\n",
              " 'story': 65,\n",
              " 'their': 66,\n",
              " 'had': 67,\n",
              " 'can': 68,\n",
              " 'me': 69,\n",
              " 'well': 70,\n",
              " 'were': 71,\n",
              " 'than': 72,\n",
              " 'much': 73,\n",
              " 'we': 74,\n",
              " 'bad': 75,\n",
              " 'been': 76,\n",
              " 'get': 77,\n",
              " 'do': 78,\n",
              " 'great': 79,\n",
              " 'other': 80,\n",
              " 'will': 81,\n",
              " 'also': 82,\n",
              " 'into': 83,\n",
              " 'people': 84,\n",
              " 'because': 85,\n",
              " 'how': 86,\n",
              " 'first': 87,\n",
              " 'him': 88,\n",
              " 'most': 89,\n",
              " \"don't\": 90,\n",
              " 'made': 91,\n",
              " 'then': 92,\n",
              " 'its': 93,\n",
              " 'them': 94,\n",
              " 'make': 95,\n",
              " 'way': 96,\n",
              " 'too': 97,\n",
              " 'movies': 98,\n",
              " 'could': 99,\n",
              " 'any': 100,\n",
              " 'after': 101,\n",
              " 'think': 102,\n",
              " 'characters': 103,\n",
              " 'watch': 104,\n",
              " 'films': 105,\n",
              " 'two': 106,\n",
              " 'many': 107,\n",
              " 'seen': 108,\n",
              " 'character': 109,\n",
              " 'being': 110,\n",
              " 'never': 111,\n",
              " 'plot': 112,\n",
              " 'love': 113,\n",
              " 'acting': 114,\n",
              " 'life': 115,\n",
              " 'did': 116,\n",
              " 'best': 117,\n",
              " 'where': 118,\n",
              " 'know': 119,\n",
              " 'show': 120,\n",
              " 'little': 121,\n",
              " 'over': 122,\n",
              " 'off': 123,\n",
              " 'ever': 124,\n",
              " 'does': 125,\n",
              " 'your': 126,\n",
              " 'better': 127,\n",
              " 'end': 128,\n",
              " 'man': 129,\n",
              " 'scene': 130,\n",
              " 'still': 131,\n",
              " 'say': 132,\n",
              " 'these': 133,\n",
              " 'here': 134,\n",
              " 'scenes': 135,\n",
              " 'why': 136,\n",
              " 'while': 137,\n",
              " 'something': 138,\n",
              " 'such': 139,\n",
              " 'go': 140,\n",
              " 'through': 141,\n",
              " 'back': 142,\n",
              " 'should': 143,\n",
              " 'those': 144,\n",
              " 'real': 145,\n",
              " \"i'm\": 146,\n",
              " 'now': 147,\n",
              " 'watching': 148,\n",
              " 'thing': 149,\n",
              " \"doesn't\": 150,\n",
              " 'actors': 151,\n",
              " 'though': 152,\n",
              " 'funny': 153,\n",
              " 'years': 154,\n",
              " \"didn't\": 155,\n",
              " 'old': 156,\n",
              " '10': 157,\n",
              " 'another': 158,\n",
              " 'work': 159,\n",
              " 'before': 160,\n",
              " 'actually': 161,\n",
              " 'nothing': 162,\n",
              " 'makes': 163,\n",
              " 'look': 164,\n",
              " 'director': 165,\n",
              " 'find': 166,\n",
              " 'going': 167,\n",
              " 'same': 168,\n",
              " 'new': 169,\n",
              " 'lot': 170,\n",
              " 'every': 171,\n",
              " 'few': 172,\n",
              " 'again': 173,\n",
              " 'part': 174,\n",
              " 'cast': 175,\n",
              " 'down': 176,\n",
              " 'us': 177,\n",
              " 'things': 178,\n",
              " 'want': 179,\n",
              " 'quite': 180,\n",
              " 'pretty': 181,\n",
              " 'world': 182,\n",
              " 'horror': 183,\n",
              " 'around': 184,\n",
              " 'seems': 185,\n",
              " \"can't\": 186,\n",
              " 'young': 187,\n",
              " 'take': 188,\n",
              " 'however': 189,\n",
              " 'got': 190,\n",
              " 'thought': 191,\n",
              " 'big': 192,\n",
              " 'fact': 193,\n",
              " 'enough': 194,\n",
              " 'long': 195,\n",
              " 'both': 196,\n",
              " \"that's\": 197,\n",
              " 'give': 198,\n",
              " \"i've\": 199,\n",
              " 'own': 200,\n",
              " 'may': 201,\n",
              " 'between': 202,\n",
              " 'comedy': 203,\n",
              " 'right': 204,\n",
              " 'series': 205,\n",
              " 'action': 206,\n",
              " 'must': 207,\n",
              " 'music': 208,\n",
              " 'without': 209,\n",
              " 'times': 210,\n",
              " 'saw': 211,\n",
              " 'always': 212,\n",
              " 'original': 213,\n",
              " \"isn't\": 214,\n",
              " 'role': 215,\n",
              " 'come': 216,\n",
              " 'almost': 217,\n",
              " 'gets': 218,\n",
              " 'interesting': 219,\n",
              " 'guy': 220,\n",
              " 'point': 221,\n",
              " 'done': 222,\n",
              " \"there's\": 223,\n",
              " 'whole': 224,\n",
              " 'least': 225,\n",
              " 'far': 226,\n",
              " 'bit': 227,\n",
              " 'script': 228,\n",
              " 'minutes': 229,\n",
              " 'feel': 230,\n",
              " '2': 231,\n",
              " 'anything': 232,\n",
              " 'making': 233,\n",
              " 'might': 234,\n",
              " 'since': 235,\n",
              " 'am': 236,\n",
              " 'family': 237,\n",
              " \"he's\": 238,\n",
              " 'last': 239,\n",
              " 'probably': 240,\n",
              " 'tv': 241,\n",
              " 'performance': 242,\n",
              " 'kind': 243,\n",
              " 'away': 244,\n",
              " 'yet': 245,\n",
              " 'fun': 246,\n",
              " 'worst': 247,\n",
              " 'sure': 248,\n",
              " 'rather': 249,\n",
              " 'hard': 250,\n",
              " 'anyone': 251,\n",
              " 'girl': 252,\n",
              " 'each': 253,\n",
              " 'played': 254,\n",
              " 'day': 255,\n",
              " 'found': 256,\n",
              " 'looking': 257,\n",
              " 'woman': 258,\n",
              " 'screen': 259,\n",
              " 'although': 260,\n",
              " 'our': 261,\n",
              " 'especially': 262,\n",
              " 'believe': 263,\n",
              " 'having': 264,\n",
              " 'trying': 265,\n",
              " 'course': 266,\n",
              " 'dvd': 267,\n",
              " 'everything': 268,\n",
              " 'set': 269,\n",
              " 'goes': 270,\n",
              " 'comes': 271,\n",
              " 'put': 272,\n",
              " 'ending': 273,\n",
              " 'maybe': 274,\n",
              " 'place': 275,\n",
              " 'book': 276,\n",
              " 'shows': 277,\n",
              " 'three': 278,\n",
              " 'worth': 279,\n",
              " 'different': 280,\n",
              " 'main': 281,\n",
              " 'once': 282,\n",
              " 'sense': 283,\n",
              " 'american': 284,\n",
              " 'reason': 285,\n",
              " 'looks': 286,\n",
              " 'effects': 287,\n",
              " 'watched': 288,\n",
              " 'play': 289,\n",
              " 'true': 290,\n",
              " 'money': 291,\n",
              " 'actor': 292,\n",
              " \"wasn't\": 293,\n",
              " 'job': 294,\n",
              " 'together': 295,\n",
              " 'war': 296,\n",
              " 'someone': 297,\n",
              " 'plays': 298,\n",
              " 'instead': 299,\n",
              " 'high': 300,\n",
              " 'during': 301,\n",
              " 'said': 302,\n",
              " 'year': 303,\n",
              " 'half': 304,\n",
              " 'everyone': 305,\n",
              " 'later': 306,\n",
              " 'takes': 307,\n",
              " '1': 308,\n",
              " 'seem': 309,\n",
              " 'audience': 310,\n",
              " 'special': 311,\n",
              " 'beautiful': 312,\n",
              " 'left': 313,\n",
              " 'himself': 314,\n",
              " 'seeing': 315,\n",
              " 'john': 316,\n",
              " 'night': 317,\n",
              " 'black': 318,\n",
              " 'version': 319,\n",
              " 'shot': 320,\n",
              " 'excellent': 321,\n",
              " 'idea': 322,\n",
              " 'house': 323,\n",
              " 'mind': 324,\n",
              " 'star': 325,\n",
              " 'wife': 326,\n",
              " 'fan': 327,\n",
              " 'death': 328,\n",
              " 'used': 329,\n",
              " 'else': 330,\n",
              " 'simply': 331,\n",
              " 'nice': 332,\n",
              " 'budget': 333,\n",
              " 'poor': 334,\n",
              " 'short': 335,\n",
              " 'completely': 336,\n",
              " 'second': 337,\n",
              " \"you're\": 338,\n",
              " '3': 339,\n",
              " 'read': 340,\n",
              " 'less': 341,\n",
              " 'along': 342,\n",
              " 'top': 343,\n",
              " 'help': 344,\n",
              " 'home': 345,\n",
              " 'men': 346,\n",
              " 'either': 347,\n",
              " 'line': 348,\n",
              " 'boring': 349,\n",
              " 'dead': 350,\n",
              " 'friends': 351,\n",
              " 'kids': 352,\n",
              " 'try': 353,\n",
              " 'production': 354,\n",
              " 'enjoy': 355,\n",
              " 'camera': 356,\n",
              " 'use': 357,\n",
              " 'wrong': 358,\n",
              " 'given': 359,\n",
              " 'low': 360,\n",
              " 'classic': 361,\n",
              " 'father': 362,\n",
              " 'need': 363,\n",
              " 'full': 364,\n",
              " 'stupid': 365,\n",
              " 'until': 366,\n",
              " 'next': 367,\n",
              " 'performances': 368,\n",
              " 'school': 369,\n",
              " 'hollywood': 370,\n",
              " 'rest': 371,\n",
              " 'truly': 372,\n",
              " 'awful': 373,\n",
              " 'video': 374,\n",
              " 'couple': 375,\n",
              " 'start': 376,\n",
              " 'sex': 377,\n",
              " 'recommend': 378,\n",
              " 'women': 379,\n",
              " 'let': 380,\n",
              " 'tell': 381,\n",
              " 'terrible': 382,\n",
              " 'remember': 383,\n",
              " 'mean': 384,\n",
              " 'came': 385,\n",
              " 'getting': 386,\n",
              " 'understand': 387,\n",
              " 'perhaps': 388,\n",
              " 'moments': 389,\n",
              " 'name': 390,\n",
              " 'keep': 391,\n",
              " 'face': 392,\n",
              " 'itself': 393,\n",
              " 'wonderful': 394,\n",
              " 'playing': 395,\n",
              " 'human': 396,\n",
              " 'style': 397,\n",
              " 'small': 398,\n",
              " 'episode': 399,\n",
              " 'perfect': 400,\n",
              " 'others': 401,\n",
              " 'person': 402,\n",
              " 'doing': 403,\n",
              " 'often': 404,\n",
              " 'early': 405,\n",
              " 'stars': 406,\n",
              " 'definitely': 407,\n",
              " 'written': 408,\n",
              " 'head': 409,\n",
              " 'lines': 410,\n",
              " 'dialogue': 411,\n",
              " 'gives': 412,\n",
              " 'piece': 413,\n",
              " \"couldn't\": 414,\n",
              " 'went': 415,\n",
              " 'finally': 416,\n",
              " 'mother': 417,\n",
              " 'title': 418,\n",
              " 'case': 419,\n",
              " 'absolutely': 420,\n",
              " 'live': 421,\n",
              " 'boy': 422,\n",
              " 'yes': 423,\n",
              " 'laugh': 424,\n",
              " 'certainly': 425,\n",
              " 'liked': 426,\n",
              " 'become': 427,\n",
              " 'worse': 428,\n",
              " 'entertaining': 429,\n",
              " 'oh': 430,\n",
              " 'sort': 431,\n",
              " 'loved': 432,\n",
              " 'lost': 433,\n",
              " 'hope': 434,\n",
              " 'called': 435,\n",
              " 'picture': 436,\n",
              " 'felt': 437,\n",
              " 'overall': 438,\n",
              " 'entire': 439,\n",
              " 'several': 440,\n",
              " 'mr': 441,\n",
              " 'based': 442,\n",
              " 'supposed': 443,\n",
              " 'cinema': 444,\n",
              " 'friend': 445,\n",
              " 'guys': 446,\n",
              " 'sound': 447,\n",
              " '5': 448,\n",
              " 'problem': 449,\n",
              " 'drama': 450,\n",
              " 'against': 451,\n",
              " 'waste': 452,\n",
              " 'white': 453,\n",
              " 'beginning': 454,\n",
              " '4': 455,\n",
              " 'fans': 456,\n",
              " 'totally': 457,\n",
              " 'dark': 458,\n",
              " 'care': 459,\n",
              " 'direction': 460,\n",
              " 'humor': 461,\n",
              " 'wanted': 462,\n",
              " \"she's\": 463,\n",
              " 'seemed': 464,\n",
              " 'game': 465,\n",
              " 'under': 466,\n",
              " 'children': 467,\n",
              " 'despite': 468,\n",
              " 'lives': 469,\n",
              " 'lead': 470,\n",
              " 'guess': 471,\n",
              " 'example': 472,\n",
              " 'already': 473,\n",
              " 'final': 474,\n",
              " \"you'll\": 475,\n",
              " 'throughout': 476,\n",
              " 'evil': 477,\n",
              " 'turn': 478,\n",
              " 'becomes': 479,\n",
              " 'unfortunately': 480,\n",
              " 'able': 481,\n",
              " 'quality': 482,\n",
              " \"i'd\": 483,\n",
              " 'days': 484,\n",
              " 'history': 485,\n",
              " 'fine': 486,\n",
              " 'side': 487,\n",
              " 'wants': 488,\n",
              " 'horrible': 489,\n",
              " 'heart': 490,\n",
              " 'writing': 491,\n",
              " 'amazing': 492,\n",
              " 'b': 493,\n",
              " 'flick': 494,\n",
              " 'killer': 495,\n",
              " 'run': 496,\n",
              " 'son': 497,\n",
              " '\\x96': 498,\n",
              " 'michael': 499,\n",
              " 'works': 500,\n",
              " 'close': 501,\n",
              " \"they're\": 502,\n",
              " 'act': 503,\n",
              " 'art': 504,\n",
              " 'kill': 505,\n",
              " 'matter': 506,\n",
              " 'etc': 507,\n",
              " 'tries': 508,\n",
              " \"won't\": 509,\n",
              " 'past': 510,\n",
              " 'town': 511,\n",
              " 'enjoyed': 512,\n",
              " 'turns': 513,\n",
              " 'brilliant': 514,\n",
              " 'gave': 515,\n",
              " 'behind': 516,\n",
              " 'parts': 517,\n",
              " 'stuff': 518,\n",
              " 'genre': 519,\n",
              " 'eyes': 520,\n",
              " 'car': 521,\n",
              " 'favorite': 522,\n",
              " 'directed': 523,\n",
              " 'late': 524,\n",
              " 'hand': 525,\n",
              " 'expect': 526,\n",
              " 'soon': 527,\n",
              " 'hour': 528,\n",
              " 'obviously': 529,\n",
              " 'themselves': 530,\n",
              " 'sometimes': 531,\n",
              " 'killed': 532,\n",
              " 'actress': 533,\n",
              " 'thinking': 534,\n",
              " 'girls': 535,\n",
              " 'child': 536,\n",
              " 'viewer': 537,\n",
              " 'starts': 538,\n",
              " 'city': 539,\n",
              " 'myself': 540,\n",
              " 'decent': 541,\n",
              " 'highly': 542,\n",
              " 'stop': 543,\n",
              " 'type': 544,\n",
              " 'self': 545,\n",
              " 'god': 546,\n",
              " 'says': 547,\n",
              " 'group': 548,\n",
              " 'anyway': 549,\n",
              " 'voice': 550,\n",
              " 'took': 551,\n",
              " 'known': 552,\n",
              " 'blood': 553,\n",
              " 'kid': 554,\n",
              " 'heard': 555,\n",
              " 'happens': 556,\n",
              " 'except': 557,\n",
              " 'fight': 558,\n",
              " 'feeling': 559,\n",
              " 'experience': 560,\n",
              " 'coming': 561,\n",
              " 'slow': 562,\n",
              " 'daughter': 563,\n",
              " 'writer': 564,\n",
              " 'stories': 565,\n",
              " 'moment': 566,\n",
              " 'leave': 567,\n",
              " 'told': 568,\n",
              " 'extremely': 569,\n",
              " 'score': 570,\n",
              " 'violence': 571,\n",
              " 'involved': 572,\n",
              " 'police': 573,\n",
              " 'strong': 574,\n",
              " 'lack': 575,\n",
              " 'chance': 576,\n",
              " 'cannot': 577,\n",
              " 'hit': 578,\n",
              " 'roles': 579,\n",
              " 'hilarious': 580,\n",
              " 's': 581,\n",
              " 'wonder': 582,\n",
              " 'happen': 583,\n",
              " 'particularly': 584,\n",
              " 'ok': 585,\n",
              " 'including': 586,\n",
              " 'living': 587,\n",
              " 'save': 588,\n",
              " 'looked': 589,\n",
              " \"wouldn't\": 590,\n",
              " 'crap': 591,\n",
              " 'please': 592,\n",
              " 'simple': 593,\n",
              " 'murder': 594,\n",
              " 'cool': 595,\n",
              " 'obvious': 596,\n",
              " 'happened': 597,\n",
              " 'complete': 598,\n",
              " 'cut': 599,\n",
              " 'age': 600,\n",
              " 'serious': 601,\n",
              " 'gore': 602,\n",
              " 'attempt': 603,\n",
              " 'hell': 604,\n",
              " 'ago': 605,\n",
              " 'song': 606,\n",
              " 'shown': 607,\n",
              " 'taken': 608,\n",
              " 'english': 609,\n",
              " 'james': 610,\n",
              " 'robert': 611,\n",
              " 'david': 612,\n",
              " 'seriously': 613,\n",
              " 'released': 614,\n",
              " 'reality': 615,\n",
              " 'opening': 616,\n",
              " 'interest': 617,\n",
              " 'jokes': 618,\n",
              " 'across': 619,\n",
              " 'none': 620,\n",
              " 'hero': 621,\n",
              " 'exactly': 622,\n",
              " 'possible': 623,\n",
              " 'today': 624,\n",
              " 'alone': 625,\n",
              " 'sad': 626,\n",
              " 'brother': 627,\n",
              " 'number': 628,\n",
              " 'career': 629,\n",
              " 'saying': 630,\n",
              " \"film's\": 631,\n",
              " 'hours': 632,\n",
              " 'usually': 633,\n",
              " 'cinematography': 634,\n",
              " 'talent': 635,\n",
              " 'view': 636,\n",
              " 'annoying': 637,\n",
              " 'yourself': 638,\n",
              " 'running': 639,\n",
              " 'relationship': 640,\n",
              " 'documentary': 641,\n",
              " 'wish': 642,\n",
              " 'order': 643,\n",
              " 'huge': 644,\n",
              " 'shots': 645,\n",
              " 'whose': 646,\n",
              " 'ridiculous': 647,\n",
              " 'taking': 648,\n",
              " 'important': 649,\n",
              " 'light': 650,\n",
              " 'body': 651,\n",
              " 'middle': 652,\n",
              " 'level': 653,\n",
              " 'ends': 654,\n",
              " 'started': 655,\n",
              " 'call': 656,\n",
              " 'female': 657,\n",
              " \"i'll\": 658,\n",
              " 'husband': 659,\n",
              " 'four': 660,\n",
              " 'power': 661,\n",
              " 'word': 662,\n",
              " 'turned': 663,\n",
              " 'major': 664,\n",
              " 'opinion': 665,\n",
              " 'change': 666,\n",
              " 'mostly': 667,\n",
              " 'usual': 668,\n",
              " 'scary': 669,\n",
              " 'silly': 670,\n",
              " 'rating': 671,\n",
              " 'beyond': 672,\n",
              " 'somewhat': 673,\n",
              " 'ones': 674,\n",
              " 'happy': 675,\n",
              " 'words': 676,\n",
              " 'room': 677,\n",
              " 'knew': 678,\n",
              " 'knows': 679,\n",
              " 'country': 680,\n",
              " 'disappointed': 681,\n",
              " 'talking': 682,\n",
              " 'novel': 683,\n",
              " 'apparently': 684,\n",
              " 'non': 685,\n",
              " 'strange': 686,\n",
              " 'attention': 687,\n",
              " 'upon': 688,\n",
              " 'single': 689,\n",
              " 'finds': 690,\n",
              " 'basically': 691,\n",
              " 'cheap': 692,\n",
              " 'modern': 693,\n",
              " 'due': 694,\n",
              " 'jack': 695,\n",
              " 'television': 696,\n",
              " 'musical': 697,\n",
              " 'problems': 698,\n",
              " 'miss': 699,\n",
              " 'episodes': 700,\n",
              " 'clearly': 701,\n",
              " 'local': 702,\n",
              " '7': 703,\n",
              " 'british': 704,\n",
              " 'thriller': 705,\n",
              " 'talk': 706,\n",
              " 'events': 707,\n",
              " 'five': 708,\n",
              " 'sequence': 709,\n",
              " \"aren't\": 710,\n",
              " 'class': 711,\n",
              " 'french': 712,\n",
              " 'moving': 713,\n",
              " 'ten': 714,\n",
              " 'fast': 715,\n",
              " 'earth': 716,\n",
              " 'review': 717,\n",
              " 'tells': 718,\n",
              " 'predictable': 719,\n",
              " 'songs': 720,\n",
              " 'team': 721,\n",
              " 'comic': 722,\n",
              " 'straight': 723,\n",
              " 'whether': 724,\n",
              " '8': 725,\n",
              " 'die': 726,\n",
              " 'add': 727,\n",
              " 'dialog': 728,\n",
              " 'entertainment': 729,\n",
              " 'above': 730,\n",
              " 'sets': 731,\n",
              " 'future': 732,\n",
              " 'enjoyable': 733,\n",
              " 'appears': 734,\n",
              " 'near': 735,\n",
              " 'space': 736,\n",
              " 'easily': 737,\n",
              " 'hate': 738,\n",
              " 'soundtrack': 739,\n",
              " 'bring': 740,\n",
              " 'giving': 741,\n",
              " 'lots': 742,\n",
              " 'similar': 743,\n",
              " 'romantic': 744,\n",
              " 'george': 745,\n",
              " 'supporting': 746,\n",
              " 'release': 747,\n",
              " 'mention': 748,\n",
              " 'within': 749,\n",
              " 'filmed': 750,\n",
              " 'message': 751,\n",
              " 'sequel': 752,\n",
              " 'clear': 753,\n",
              " 'falls': 754,\n",
              " \"haven't\": 755,\n",
              " 'needs': 756,\n",
              " 'dull': 757,\n",
              " 'suspense': 758,\n",
              " 'eye': 759,\n",
              " 'bunch': 760,\n",
              " 'surprised': 761,\n",
              " 'showing': 762,\n",
              " 'sorry': 763,\n",
              " 'tried': 764,\n",
              " 'certain': 765,\n",
              " 'easy': 766,\n",
              " 'working': 767,\n",
              " 'ways': 768,\n",
              " 'theme': 769,\n",
              " 'theater': 770,\n",
              " 'among': 771,\n",
              " 'named': 772,\n",
              " \"what's\": 773,\n",
              " 'storyline': 774,\n",
              " 'monster': 775,\n",
              " 'king': 776,\n",
              " 'stay': 777,\n",
              " 'effort': 778,\n",
              " 'fall': 779,\n",
              " 'minute': 780,\n",
              " 'stand': 781,\n",
              " 'gone': 782,\n",
              " 'rock': 783,\n",
              " 'using': 784,\n",
              " '9': 785,\n",
              " 'feature': 786,\n",
              " 'buy': 787,\n",
              " 'comments': 788,\n",
              " \"'\": 789,\n",
              " 't': 790,\n",
              " 'typical': 791,\n",
              " 'sister': 792,\n",
              " 'editing': 793,\n",
              " 'avoid': 794,\n",
              " 'tale': 795,\n",
              " 'deal': 796,\n",
              " 'mystery': 797,\n",
              " 'dr': 798,\n",
              " 'doubt': 799,\n",
              " 'fantastic': 800,\n",
              " 'nearly': 801,\n",
              " 'kept': 802,\n",
              " 'okay': 803,\n",
              " 'feels': 804,\n",
              " 'subject': 805,\n",
              " 'viewing': 806,\n",
              " 'elements': 807,\n",
              " 'check': 808,\n",
              " 'oscar': 809,\n",
              " 'realistic': 810,\n",
              " 'points': 811,\n",
              " 'means': 812,\n",
              " 'greatest': 813,\n",
              " 'herself': 814,\n",
              " 'parents': 815,\n",
              " 'famous': 816,\n",
              " 'imagine': 817,\n",
              " 'rent': 818,\n",
              " 'viewers': 819,\n",
              " 'richard': 820,\n",
              " 'crime': 821,\n",
              " 'form': 822,\n",
              " 'peter': 823,\n",
              " 'actual': 824,\n",
              " 'lady': 825,\n",
              " 'general': 826,\n",
              " 'dog': 827,\n",
              " 'follow': 828,\n",
              " 'believable': 829,\n",
              " 'period': 830,\n",
              " 'red': 831,\n",
              " 'brought': 832,\n",
              " 'move': 833,\n",
              " 'material': 834,\n",
              " 'forget': 835,\n",
              " 'somehow': 836,\n",
              " 'begins': 837,\n",
              " 're': 838,\n",
              " 'reviews': 839,\n",
              " 'animation': 840,\n",
              " 'paul': 841,\n",
              " \"you've\": 842,\n",
              " 'leads': 843,\n",
              " 'weak': 844,\n",
              " 'figure': 845,\n",
              " 'surprise': 846,\n",
              " 'sit': 847,\n",
              " 'hear': 848,\n",
              " 'average': 849,\n",
              " 'open': 850,\n",
              " 'sequences': 851,\n",
              " 'atmosphere': 852,\n",
              " 'killing': 853,\n",
              " 'eventually': 854,\n",
              " 'tom': 855,\n",
              " 'learn': 856,\n",
              " 'premise': 857,\n",
              " '20': 858,\n",
              " 'wait': 859,\n",
              " 'sci': 860,\n",
              " 'deep': 861,\n",
              " 'fi': 862,\n",
              " 'expected': 863,\n",
              " 'whatever': 864,\n",
              " 'indeed': 865,\n",
              " 'poorly': 866,\n",
              " 'note': 867,\n",
              " 'lame': 868,\n",
              " 'particular': 869,\n",
              " 'dance': 870,\n",
              " 'imdb': 871,\n",
              " 'situation': 872,\n",
              " 'shame': 873,\n",
              " 'third': 874,\n",
              " 'box': 875,\n",
              " 'york': 876,\n",
              " 'truth': 877,\n",
              " 'decided': 878,\n",
              " 'free': 879,\n",
              " 'hot': 880,\n",
              " \"who's\": 881,\n",
              " 'difficult': 882,\n",
              " 'needed': 883,\n",
              " 'season': 884,\n",
              " 'acted': 885,\n",
              " 'leaves': 886,\n",
              " 'unless': 887,\n",
              " 'emotional': 888,\n",
              " 'possibly': 889,\n",
              " 'romance': 890,\n",
              " 'gay': 891,\n",
              " 'sexual': 892,\n",
              " 'boys': 893,\n",
              " 'footage': 894,\n",
              " 'write': 895,\n",
              " 'western': 896,\n",
              " 'credits': 897,\n",
              " 'forced': 898,\n",
              " 'became': 899,\n",
              " 'reading': 900,\n",
              " 'doctor': 901,\n",
              " 'memorable': 902,\n",
              " 'otherwise': 903,\n",
              " 'air': 904,\n",
              " 'crew': 905,\n",
              " 'begin': 906,\n",
              " 'de': 907,\n",
              " 'question': 908,\n",
              " 'society': 909,\n",
              " 'meet': 910,\n",
              " 'male': 911,\n",
              " \"let's\": 912,\n",
              " 'meets': 913,\n",
              " 'plus': 914,\n",
              " 'cheesy': 915,\n",
              " 'hands': 916,\n",
              " 'superb': 917,\n",
              " 'screenplay': 918,\n",
              " 'interested': 919,\n",
              " 'beauty': 920,\n",
              " 'features': 921,\n",
              " 'street': 922,\n",
              " 'whom': 923,\n",
              " 'masterpiece': 924,\n",
              " 'perfectly': 925,\n",
              " 'laughs': 926,\n",
              " 'nature': 927,\n",
              " 'stage': 928,\n",
              " 'effect': 929,\n",
              " 'comment': 930,\n",
              " 'forward': 931,\n",
              " 'nor': 932,\n",
              " 'previous': 933,\n",
              " 'e': 934,\n",
              " 'badly': 935,\n",
              " 'sounds': 936,\n",
              " 'japanese': 937,\n",
              " 'weird': 938,\n",
              " 'island': 939,\n",
              " 'inside': 940,\n",
              " 'personal': 941,\n",
              " 'quickly': 942,\n",
              " 'total': 943,\n",
              " 'keeps': 944,\n",
              " 'towards': 945,\n",
              " 'result': 946,\n",
              " 'america': 947,\n",
              " 'battle': 948,\n",
              " 'crazy': 949,\n",
              " 'worked': 950,\n",
              " 'incredibly': 951,\n",
              " 'setting': 952,\n",
              " 'earlier': 953,\n",
              " 'background': 954,\n",
              " 'mess': 955,\n",
              " 'cop': 956,\n",
              " 'writers': 957,\n",
              " 'fire': 958,\n",
              " 'copy': 959,\n",
              " 'unique': 960,\n",
              " 'realize': 961,\n",
              " 'dumb': 962,\n",
              " 'powerful': 963,\n",
              " 'lee': 964,\n",
              " 'mark': 965,\n",
              " 'business': 966,\n",
              " 'rate': 967,\n",
              " 'older': 968,\n",
              " 'dramatic': 969,\n",
              " 'pay': 970,\n",
              " 'following': 971,\n",
              " 'girlfriend': 972,\n",
              " 'joke': 973,\n",
              " 'directors': 974,\n",
              " 'plenty': 975,\n",
              " 'directing': 976,\n",
              " 'various': 977,\n",
              " 'baby': 978,\n",
              " 'creepy': 979,\n",
              " 'development': 980,\n",
              " 'appear': 981,\n",
              " 'brings': 982,\n",
              " 'front': 983,\n",
              " 'ask': 984,\n",
              " 'dream': 985,\n",
              " 'water': 986,\n",
              " 'bill': 987,\n",
              " 'admit': 988,\n",
              " 'rich': 989,\n",
              " 'apart': 990,\n",
              " 'joe': 991,\n",
              " 'fairly': 992,\n",
              " 'political': 993,\n",
              " 'reasons': 994,\n",
              " 'leading': 995,\n",
              " 'spent': 996,\n",
              " 'portrayed': 997,\n",
              " 'telling': 998,\n",
              " 'cover': 999,\n",
              " 'outside': 1000,\n",
              " ...}"
            ]
          },
          "metadata": {},
          "execution_count": 36
        }
      ]
    },
    {
      "cell_type": "code",
      "metadata": {
        "colab": {
          "base_uri": "https://localhost:8080/"
        },
        "id": "KgNcnrTQFx3-",
        "outputId": "2559cdc8-7383-48d8-aa8e-ad4f5754a156"
      },
      "source": [
        "docs = ['cartoon movie show', 'hello world']\n",
        "docs = [s.split() for s in docs]\n",
        "tok.texts_to_sequences(docs)"
      ],
      "execution_count": 37,
      "outputs": [
        {
          "output_type": "execute_result",
          "data": {
            "text/plain": [
              "[[1062, 18, 120], [5125, 182]]"
            ]
          },
          "metadata": {},
          "execution_count": 37
        }
      ]
    },
    {
      "cell_type": "code",
      "metadata": {
        "colab": {
          "base_uri": "https://localhost:8080/"
        },
        "id": "ksgqSwR1P7iM",
        "outputId": "974996ec-f10c-4dcd-897b-93df64ff6cde"
      },
      "source": [
        "from keras.preprocessing.sequence import pad_sequences\n",
        "maxlen = max([len(t) for t in texts])\n",
        "\n",
        "docs = ['cartoon movie show', 'hello world']\n",
        "docs = [s.split() for s in docs]\n",
        "l = tok.texts_to_sequences(docs)\n",
        "\n",
        "\n",
        "l1 = np.array(pad_sequences(l,\n",
        "                          maxlen=maxlen,\n",
        "                          padding='post',\n",
        "                          truncating='post'))\n",
        "l1.shape"
      ],
      "execution_count": 38,
      "outputs": [
        {
          "output_type": "execute_result",
          "data": {
            "text/plain": [
              "(2, 13704)"
            ]
          },
          "metadata": {},
          "execution_count": 38
        }
      ]
    },
    {
      "cell_type": "code",
      "metadata": {
        "colab": {
          "base_uri": "https://localhost:8080/",
          "height": 350
        },
        "id": "aYlYkFANP7p6",
        "outputId": "3d6cfae2-5408-4fb8-ed2d-8b73cdfe4f56"
      },
      "source": [
        "plt.hist([len(t) for t in texts])"
      ],
      "execution_count": 39,
      "outputs": [
        {
          "output_type": "execute_result",
          "data": {
            "text/plain": [
              "(array([3.4883e+04, 1.0845e+04, 2.9210e+03, 1.0330e+03, 2.9300e+02,\n",
              "        1.4000e+01, 4.0000e+00, 3.0000e+00, 1.0000e+00, 3.0000e+00]),\n",
              " array([   32. ,  1399.2,  2766.4,  4133.6,  5500.8,  6868. ,  8235.2,\n",
              "         9602.4, 10969.6, 12336.8, 13704. ]),\n",
              " <a list of 10 Patch objects>)"
            ]
          },
          "metadata": {},
          "execution_count": 39
        },
        {
          "output_type": "display_data",
          "data": {
            "image/png": "[encoded data removed]",
            "text/plain": [
              "<Figure size 432x288 with 1 Axes>"
            ]
          },
          "metadata": {
            "needs_background": "light"
          }
        }
      ]
    },
    {
      "cell_type": "code",
      "metadata": {
        "colab": {
          "base_uri": "https://localhost:8080/"
        },
        "id": "Gskq-9h_P70j",
        "outputId": "99b3a29b-bf02-47ab-9615-f3494f23ace5"
      },
      "source": [
        "tok = Tokenizer(oov_token='UNK')\n",
        "tok.fit_on_texts(texts)\n",
        "bow = tok.texts_to_matrix(docs, mode='count')\n",
        "bow.shape\n"
      ],
      "execution_count": 40,
      "outputs": [
        {
          "output_type": "execute_result",
          "data": {
            "text/plain": [
              "(2, 124254)"
            ]
          },
          "metadata": {},
          "execution_count": 40
        }
      ]
    },
    {
      "cell_type": "code",
      "metadata": {
        "id": "7OFRRi_RP75o"
      },
      "source": [
        ""
      ],
      "execution_count": 40,
      "outputs": []
    },
    {
      "cell_type": "code",
      "metadata": {
        "colab": {
          "base_uri": "https://localhost:8080/"
        },
        "id": "l7q8c1kAP7-V",
        "outputId": "3c87cb48-536e-4fc3-b31a-8324f4e1dd3e"
      },
      "source": [
        "docs=[\"I love\",\"Hala Hala\",\"Zaky\"]\n",
        "tok = Tokenizer(oov_token='UNK')\n",
        "tok.fit_on_texts(docs)\n",
        "bow = tok.texts_to_matrix(docs,mode=\"count\")\n",
        "print(\"word index: \",tok.word_index)\n",
        "print(\"Bag Of Word: \",bow)\n",
        "print(\"text sequence: \",tok.texts_to_sequences(docs))\n",
        "\n"
      ],
      "execution_count": 41,
      "outputs": [
        {
          "output_type": "stream",
          "name": "stdout",
          "text": [
            "word index:  {'UNK': 1, 'hala': 2, 'i': 3, 'love': 4, 'zaky': 5}\n",
            "Bag Of Word:  [[0. 0. 0. 1. 1. 0.]\n",
            " [0. 0. 2. 0. 0. 0.]\n",
            " [0. 0. 0. 0. 0. 1.]]\n",
            "text sequence:  [[3, 4], [2, 2], [5]]\n"
          ]
        }
      ]
    },
    {
      "cell_type": "code",
      "metadata": {
        "colab": {
          "base_uri": "https://localhost:8080/"
        },
        "id": "Gog05C41P8Ck",
        "outputId": "ac0ac089-e53a-4013-c719-5f51d34a3d25"
      },
      "source": [
        "tok.word_index"
      ],
      "execution_count": 42,
      "outputs": [
        {
          "output_type": "execute_result",
          "data": {
            "text/plain": [
              "{'UNK': 1, 'hala': 2, 'i': 3, 'love': 4, 'zaky': 5}"
            ]
          },
          "metadata": {},
          "execution_count": 42
        }
      ]
    },
    {
      "cell_type": "markdown",
      "metadata": {
        "id": "_0md08kgHVIu"
      },
      "source": [
        "# Putting gll together"
      ]
    },
    {
      "cell_type": "code",
      "metadata": {
        "id": "dct2OY-GP8FX"
      },
      "source": [
        "trn_texts,trn_labels = get_texts(PATH/'train')\n",
        "tst_texts,tst_labels = get_texts(PATH/'test')\n",
        "trn_texts = normalize_corpus(trn_texts)\n",
        "tst_texts = normalize_corpus(tst_texts)"
      ],
      "execution_count": null,
      "outputs": []
    },
    {
      "cell_type": "markdown",
      "metadata": {
        "id": "MfTAMhFcJNSZ"
      },
      "source": [
        "# We will use the tokenizer of keras"
      ]
    },
    {
      "cell_type": "code",
      "metadata": {
        "id": "pqGdRfztP8IF"
      },
      "source": [
        "# Fit the tokenizer\n",
        "\n",
        "# Either pre-define vocab size\n",
        "# Or get the max possible vocab from text\n",
        "vocab_sz = 10000 # None means all\n",
        "tok = Tokenizer(num_words=vocab_sz, oov_token='UNK')\n",
        "#tok = Tokenizer(oov_token='UNK')\n",
        "tok.fit_on_texts(trn_texts + tst_texts)\n",
        "#vocab_sz = len(tok.word_index) # If all possible vocab, else, it's the predefine vocab_sz. Remember we cannot always use the len(tok.word_index), since it's always the max.\n",
        "\n",
        "# Extract binary BoW features\n",
        "x_train = tok.texts_to_matrix(trn_texts, mode='binary')\n",
        "x_test = tok.texts_to_matrix(tst_texts, mode='binary')\n",
        "\n"
      ],
      "execution_count": null,
      "outputs": []
    },
    {
      "cell_type": "code",
      "metadata": {
        "colab": {
          "base_uri": "https://localhost:8080/"
        },
        "id": "SSwISvByFx8j",
        "outputId": "0ce7262a-84ea-49b0-e1ef-f7a2a738776f"
      },
      "source": [
        "y_train = np.asarray(trn_labels).astype('float32')\n",
        "y_test = np.asarray(tst_labels).astype('float32')\n",
        "\n",
        "print(x_train.shape)\n",
        "print(y_train.shape)\n",
        "print(x_test.shape)\n",
        "print(y_test.shape)"
      ],
      "execution_count": null,
      "outputs": [
        {
          "output_type": "stream",
          "name": "stdout",
          "text": [
            "(25000, 10000)\n",
            "(25000,)\n",
            "(25000, 10000)\n",
            "(25000,)\n"
          ]
        }
      ]
    },
    {
      "cell_type": "code",
      "metadata": {
        "id": "75ABH6XuInbh",
        "colab": {
          "base_uri": "https://localhost:8080/"
        },
        "outputId": "0c8717a1-4a42-4ca0-9d59-28b07d34f369"
      },
      "source": [
        "from keras import models\n",
        "from keras import layers\n",
        "\n",
        "model = models.Sequential()\n",
        "model.add(layers.Dense(16, activation='relu', input_shape=(10000,)))\n",
        "model.add(layers.Dense(16, activation='relu'))\n",
        "model.add(layers.Dense(1, activation='sigmoid'))\n",
        "model.summary()"
      ],
      "execution_count": null,
      "outputs": [
        {
          "output_type": "stream",
          "name": "stdout",
          "text": [
            "Model: \"sequential_1\"\n",
            "_________________________________________________________________\n",
            " Layer (type)                Output Shape              Param #   \n",
            "=================================================================\n",
            " dense_3 (Dense)             (None, 16)                160016    \n",
            "                                                                 \n",
            " dense_4 (Dense)             (None, 16)                272       \n",
            "                                                                 \n",
            " dense_5 (Dense)             (None, 1)                 17        \n",
            "                                                                 \n",
            "=================================================================\n",
            "Total params: 160,305\n",
            "Trainable params: 160,305\n",
            "Non-trainable params: 0\n",
            "_________________________________________________________________\n"
          ]
        }
      ]
    },
    {
      "cell_type": "code",
      "metadata": {
        "id": "4JaeqNo0In2F"
      },
      "source": [
        "from keras import losses\n",
        "from keras import metrics\n",
        "from keras import optimizers\n",
        "\n",
        "model.compile(optimizer='rmsprop',\n",
        "              loss='binary_crossentropy',\n",
        "              metrics=['accuracy'])"
      ],
      "execution_count": null,
      "outputs": []
    },
    {
      "cell_type": "code",
      "metadata": {
        "id": "B78NWMylIn77",
        "colab": {
          "base_uri": "https://localhost:8080/"
        },
        "outputId": "a1a8be95-9440-478d-9ccc-80ff45d09d62"
      },
      "source": [
        "x_val = x_train[:10000]\n",
        "partial_x_train = x_train[10000:]\n",
        "\n",
        "y_val = y_train[:10000]\n",
        "partial_y_train = y_train[10000:]\n",
        "\n",
        "history = model.fit(partial_x_train,\n",
        "                    partial_y_train,\n",
        "                    epochs=20,\n",
        "                    batch_size=512,\n",
        "                    validation_data=(x_val, y_val))"
      ],
      "execution_count": null,
      "outputs": [
        {
          "output_type": "stream",
          "name": "stdout",
          "text": [
            "Epoch 1/20\n",
            "30/30 [==============================] - 2s 51ms/step - loss: 0.4227 - accuracy: 0.8352 - val_loss: 1.1570 - val_accuracy: 0.2028\n",
            "Epoch 2/20\n",
            "30/30 [==============================] - 1s 44ms/step - loss: 0.2475 - accuracy: 0.9120 - val_loss: 1.0612 - val_accuracy: 0.4638\n",
            "Epoch 3/20\n",
            "30/30 [==============================] - 1s 44ms/step - loss: 0.1676 - accuracy: 0.9445 - val_loss: 0.7704 - val_accuracy: 0.6517\n",
            "Epoch 4/20\n",
            "30/30 [==============================] - 1s 45ms/step - loss: 0.1237 - accuracy: 0.9620 - val_loss: 0.7726 - val_accuracy: 0.6863\n",
            "Epoch 5/20\n",
            "30/30 [==============================] - 1s 44ms/step - loss: 0.0953 - accuracy: 0.9701 - val_loss: 1.1220 - val_accuracy: 0.6088\n",
            "Epoch 6/20\n",
            "30/30 [==============================] - 1s 40ms/step - loss: 0.0728 - accuracy: 0.9793 - val_loss: 0.7723 - val_accuracy: 0.7390\n",
            "Epoch 7/20\n",
            "30/30 [==============================] - 1s 40ms/step - loss: 0.0556 - accuracy: 0.9853 - val_loss: 1.1460 - val_accuracy: 0.6738\n",
            "Epoch 8/20\n",
            "30/30 [==============================] - 1s 35ms/step - loss: 0.0419 - accuracy: 0.9894 - val_loss: 1.4337 - val_accuracy: 0.6397\n",
            "Epoch 9/20\n",
            "30/30 [==============================] - 1s 39ms/step - loss: 0.0310 - accuracy: 0.9932 - val_loss: 1.6758 - val_accuracy: 0.6281\n",
            "Epoch 10/20\n",
            "30/30 [==============================] - 1s 39ms/step - loss: 0.0213 - accuracy: 0.9957 - val_loss: 1.4137 - val_accuracy: 0.6960\n",
            "Epoch 11/20\n",
            "30/30 [==============================] - 1s 36ms/step - loss: 0.0154 - accuracy: 0.9978 - val_loss: 1.7936 - val_accuracy: 0.6606\n",
            "Epoch 12/20\n",
            "30/30 [==============================] - 2s 63ms/step - loss: 0.0103 - accuracy: 0.9985 - val_loss: 2.0248 - val_accuracy: 0.6584\n",
            "Epoch 13/20\n",
            "30/30 [==============================] - 2s 57ms/step - loss: 0.0068 - accuracy: 0.9995 - val_loss: 2.5554 - val_accuracy: 0.6210\n",
            "Epoch 14/20\n",
            "30/30 [==============================] - 1s 44ms/step - loss: 0.0042 - accuracy: 0.9997 - val_loss: 2.6277 - val_accuracy: 0.6350\n",
            "Epoch 15/20\n",
            "30/30 [==============================] - 1s 40ms/step - loss: 0.0028 - accuracy: 0.9998 - val_loss: 3.2563 - val_accuracy: 0.5993\n",
            "Epoch 16/20\n",
            "30/30 [==============================] - 1s 37ms/step - loss: 0.0016 - accuracy: 0.9998 - val_loss: 2.9640 - val_accuracy: 0.6485\n",
            "Epoch 17/20\n",
            "30/30 [==============================] - 1s 44ms/step - loss: 9.6113e-04 - accuracy: 0.9999 - val_loss: 3.5015 - val_accuracy: 0.6213\n",
            "Epoch 18/20\n",
            "30/30 [==============================] - 1s 38ms/step - loss: 5.2895e-04 - accuracy: 0.9999 - val_loss: 3.6103 - val_accuracy: 0.6359\n",
            "Epoch 19/20\n",
            "30/30 [==============================] - 1s 36ms/step - loss: 2.8109e-04 - accuracy: 1.0000 - val_loss: 4.2915 - val_accuracy: 0.6101\n",
            "Epoch 20/20\n",
            "30/30 [==============================] - 1s 39ms/step - loss: 1.5378e-04 - accuracy: 1.0000 - val_loss: 4.0550 - val_accuracy: 0.6474\n"
          ]
        }
      ]
    },
    {
      "cell_type": "code",
      "metadata": {
        "id": "DvjHifKULCVW",
        "colab": {
          "base_uri": "https://localhost:8080/",
          "height": 573
        },
        "outputId": "af112aac-71ac-4b14-ab06-cec43ac5f7ff"
      },
      "source": [
        "history_dict = history.history\n",
        "history_dict.keys()\n",
        "\n",
        "import matplotlib.pyplot as plt\n",
        "history_dict = history.history\n",
        "history_dict.keys()\n",
        "acc = history.history['accuracy']\n",
        "val_acc = history.history['val_accuracy']\n",
        "loss = history.history['loss']\n",
        "val_loss = history.history['val_loss']\n",
        "\n",
        "epochs = range(1, len(acc) + 1)\n",
        "\n",
        "# \"bo\" is for \"blue dot\"\n",
        "plt.plot(epochs, loss, 'bo', label='Training loss')\n",
        "# b is for \"solid blue line\"\n",
        "plt.plot(epochs, val_loss, 'b', label='Validation loss')\n",
        "plt.title('Training and validation loss')\n",
        "plt.xlabel('Epochs')\n",
        "plt.ylabel('Loss')\n",
        "plt.legend()\n",
        "\n",
        "plt.show()\n",
        "\n",
        "plt.clf()   # clear figure\n",
        "acc_values = history_dict['accuracy']\n",
        "val_acc_values = history_dict['val_accuracy']\n",
        "\n",
        "plt.plot(epochs, acc, 'bo', label='Training acc')\n",
        "plt.plot(epochs, val_acc, 'b', label='Validation acc')\n",
        "plt.title('Training and validation accuracy')\n",
        "plt.xlabel('Epochs')\n",
        "plt.ylabel('Loss')\n",
        "plt.legend()\n",
        "\n",
        "plt.show()"
      ],
      "execution_count": null,
      "outputs": [
        {
          "output_type": "display_data",
          "data": {
            "image/png": "[encoded data removed]",
            "text/plain": [
              "<Figure size 432x288 with 1 Axes>"
            ]
          },
          "metadata": {
            "needs_background": "light"
          }
        },
        {
          "output_type": "display_data",
          "data": {
            "image/png": "[encoded data removed]",
            "text/plain": [
              "<Figure size 432x288 with 1 Axes>"
            ]
          },
          "metadata": {
            "needs_background": "light"
          }
        }
      ]
    },
    {
      "cell_type": "markdown",
      "metadata": {
        "id": "RgY4NQmKML1O"
      },
      "source": [
        "# So what happened???!!! why this bad accuracy \n",
        "##The reason is that we assumed the data is shuffled! If you revise the get_texts function we implemented, it takes all the class data in sequence Our train/val split did not contain any shuffling.\n",
        "##To fix this, we could manually shuffle:"
      ]
    },
    {
      "cell_type": "code",
      "metadata": {
        "id": "oj_66VHBLCby"
      },
      "source": [
        "(train_data, train_labels), (test_data, test_labels) = imdb.load_data(num_words=10000)\n",
        "vocab_sz = 10000\n",
        "tok = Tokenizer(num_words=vocab_sz, oov_token='UNK')\n",
        "tok.fit_on_texts(trn_texts + tst_texts)\n",
        "#vocab_sz = len(tok.word_index)\n",
        "# Extract binary BoW features\n",
        "x_train = tok.sequences_to_matrix(train_data, mode='binary')\n",
        "x_test = tok.sequences_to_matrix(test_data, mode='binary')\n",
        "y_train = np.asarray(train_labels).astype('float32')\n",
        "y_test = np.asarray(test_labels).astype('float32')\n",
        "\n",
        "x_train, x_val, y_train, y_val = train_test_split(x_train, y_train, test_size=0.4, random_state=42)"
      ],
      "execution_count": null,
      "outputs": []
    },
    {
      "cell_type": "code",
      "metadata": {
        "id": "kybPwHkyLCnC",
        "colab": {
          "base_uri": "https://localhost:8080/"
        },
        "outputId": "fb3def15-65d9-4c86-d7b5-021946458d29"
      },
      "source": [
        "model = models.Sequential()\n",
        "model.add(layers.Dense(16, activation='relu', input_shape=(10000,)))\n",
        "model.add(layers.Dense(16, activation='relu'))\n",
        "model.add(layers.Dense(1, activation='sigmoid'))\n",
        "\n",
        "model.compile(optimizer='rmsprop',\n",
        "              loss='binary_crossentropy',\n",
        "              metrics=['accuracy'])\n",
        "\t\t\t  \n",
        "history = model.fit(x_train,\n",
        "                    y_train,\n",
        "                    epochs=20,\n",
        "                    batch_size=512,\n",
        "                    validation_data=(x_val, y_val))\n",
        "history_dict = history.history\n",
        "history_dict.keys()"
      ],
      "execution_count": null,
      "outputs": [
        {
          "output_type": "stream",
          "name": "stdout",
          "text": [
            "Epoch 1/20\n",
            "30/30 [==============================] - 3s 82ms/step - loss: 0.5117 - accuracy: 0.7852 - val_loss: 0.3898 - val_accuracy: 0.8618\n",
            "Epoch 2/20\n",
            "30/30 [==============================] - 2s 58ms/step - loss: 0.3012 - accuracy: 0.9046 - val_loss: 0.3040 - val_accuracy: 0.8853\n",
            "Epoch 3/20\n",
            "30/30 [==============================] - 1s 47ms/step - loss: 0.2175 - accuracy: 0.9282 - val_loss: 0.2840 - val_accuracy: 0.8861\n",
            "Epoch 4/20\n",
            "30/30 [==============================] - 1s 46ms/step - loss: 0.1735 - accuracy: 0.9440 - val_loss: 0.2939 - val_accuracy: 0.8838\n",
            "Epoch 5/20\n",
            "30/30 [==============================] - 1s 41ms/step - loss: 0.1400 - accuracy: 0.9553 - val_loss: 0.2951 - val_accuracy: 0.8793\n",
            "Epoch 6/20\n",
            "30/30 [==============================] - 1s 37ms/step - loss: 0.1159 - accuracy: 0.9637 - val_loss: 0.3138 - val_accuracy: 0.8764\n",
            "Epoch 7/20\n",
            "30/30 [==============================] - 1s 46ms/step - loss: 0.0925 - accuracy: 0.9728 - val_loss: 0.3699 - val_accuracy: 0.8686\n",
            "Epoch 8/20\n",
            "30/30 [==============================] - 2s 57ms/step - loss: 0.0801 - accuracy: 0.9766 - val_loss: 0.3500 - val_accuracy: 0.8748\n",
            "Epoch 9/20\n",
            "30/30 [==============================] - 1s 42ms/step - loss: 0.0664 - accuracy: 0.9823 - val_loss: 0.3810 - val_accuracy: 0.8719\n",
            "Epoch 10/20\n",
            "30/30 [==============================] - 1s 42ms/step - loss: 0.0534 - accuracy: 0.9863 - val_loss: 0.4445 - val_accuracy: 0.8632\n",
            "Epoch 11/20\n",
            "30/30 [==============================] - 1s 37ms/step - loss: 0.0442 - accuracy: 0.9897 - val_loss: 0.4327 - val_accuracy: 0.8703\n",
            "Epoch 12/20\n",
            "30/30 [==============================] - 1s 37ms/step - loss: 0.0354 - accuracy: 0.9919 - val_loss: 0.4802 - val_accuracy: 0.8649\n",
            "Epoch 13/20\n",
            "30/30 [==============================] - 2s 54ms/step - loss: 0.0293 - accuracy: 0.9940 - val_loss: 0.4991 - val_accuracy: 0.8660\n",
            "Epoch 14/20\n",
            "30/30 [==============================] - 1s 45ms/step - loss: 0.0227 - accuracy: 0.9969 - val_loss: 0.5654 - val_accuracy: 0.8619\n",
            "Epoch 15/20\n",
            "30/30 [==============================] - 1s 37ms/step - loss: 0.0202 - accuracy: 0.9959 - val_loss: 0.5741 - val_accuracy: 0.8665\n",
            "Epoch 16/20\n",
            "30/30 [==============================] - 1s 37ms/step - loss: 0.0124 - accuracy: 0.9987 - val_loss: 0.6242 - val_accuracy: 0.8626\n",
            "Epoch 17/20\n",
            "30/30 [==============================] - 1s 37ms/step - loss: 0.0125 - accuracy: 0.9982 - val_loss: 0.6524 - val_accuracy: 0.8631\n",
            "Epoch 18/20\n",
            "30/30 [==============================] - 1s 44ms/step - loss: 0.0083 - accuracy: 0.9992 - val_loss: 0.6888 - val_accuracy: 0.8622\n",
            "Epoch 19/20\n",
            "30/30 [==============================] - 1s 46ms/step - loss: 0.0095 - accuracy: 0.9981 - val_loss: 0.7252 - val_accuracy: 0.8596\n",
            "Epoch 20/20\n",
            "30/30 [==============================] - 1s 37ms/step - loss: 0.0038 - accuracy: 0.9999 - val_loss: 0.7540 - val_accuracy: 0.8602\n"
          ]
        },
        {
          "output_type": "execute_result",
          "data": {
            "text/plain": [
              "dict_keys(['loss', 'accuracy', 'val_loss', 'val_accuracy'])"
            ]
          },
          "metadata": {},
          "execution_count": 53
        }
      ]
    },
    {
      "cell_type": "code",
      "metadata": {
        "id": "Xjr4m5YpLCvX",
        "colab": {
          "base_uri": "https://localhost:8080/",
          "height": 573
        },
        "outputId": "d401e921-ba2a-4e93-a0df-083a36745751"
      },
      "source": [
        "history_dict = history.history\n",
        "history_dict.keys()\n",
        "\n",
        "import matplotlib.pyplot as plt\n",
        "history_dict = history.history\n",
        "history_dict.keys()\n",
        "acc = history.history['accuracy']\n",
        "val_acc = history.history['val_accuracy']\n",
        "loss = history.history['loss']\n",
        "val_loss = history.history['val_loss']\n",
        "\n",
        "epochs = range(1, len(acc) + 1)\n",
        "\n",
        "# \"bo\" is for \"blue dot\"\n",
        "plt.plot(epochs, loss, 'bo', label='Training loss')\n",
        "# b is for \"solid blue line\"\n",
        "plt.plot(epochs, val_loss, 'b', label='Validation loss')\n",
        "plt.title('Training and validation loss')\n",
        "plt.xlabel('Epochs')\n",
        "plt.ylabel('Loss')\n",
        "plt.legend()\n",
        "\n",
        "plt.show()\n",
        "\n",
        "plt.clf()   # clear figure\n",
        "acc_values = history_dict['accuracy']\n",
        "val_acc_values = history_dict['val_accuracy']\n",
        "\n",
        "plt.plot(epochs, acc, 'bo', label='Training acc')\n",
        "plt.plot(epochs, val_acc, 'b', label='Validation acc')\n",
        "plt.title('Training and validation accuracy')\n",
        "plt.xlabel('Epochs')\n",
        "plt.ylabel('Loss')\n",
        "plt.legend()\n",
        "\n",
        "plt.show()"
      ],
      "execution_count": null,
      "outputs": [
        {
          "output_type": "display_data",
          "data": {
            "image/png": "[encoded data removed]",
            "text/plain": [
              "<Figure size 432x288 with 1 Axes>"
            ]
          },
          "metadata": {
            "needs_background": "light"
          }
        },
        {
          "output_type": "display_data",
          "data": {
            "image/png": "[encoded data removed]",
            "text/plain": [
              "<Figure size 432x288 with 1 Axes>"
            ]
          },
          "metadata": {
            "needs_background": "light"
          }
        }
      ]
    },
    {
      "cell_type": "markdown",
      "metadata": {
        "id": "oGRWfuQoCXdw"
      },
      "source": [
        "#Count"
      ]
    },
    {
      "cell_type": "code",
      "metadata": {
        "id": "brrvBCAELC2C"
      },
      "source": [
        "x_train = tok.texts_to_matrix(trn_texts, mode='count')\n",
        "x_test = tok.texts_to_matrix(tst_texts, mode='count')\n",
        "y_train = np.asarray(trn_labels).astype('float32')\n",
        "y_test = np.asarray(tst_labels).astype('float32')\n",
        "\n",
        "x_train, x_val, y_train, y_val = train_test_split(x_train, y_train, test_size=0.4, random_state=42)"
      ],
      "execution_count": null,
      "outputs": []
    },
    {
      "cell_type": "code",
      "metadata": {
        "id": "5VImG-SjLC72",
        "colab": {
          "base_uri": "https://localhost:8080/"
        },
        "outputId": "6515990a-5d79-4ea7-9429-b72e987122cc"
      },
      "source": [
        "\n",
        "model = models.Sequential()\n",
        "model.add(layers.Dense(16, activation='relu', input_shape=(10000,)))\n",
        "model.add(layers.Dense(16, activation='relu'))\n",
        "model.add(layers.Dense(1, activation='sigmoid'))\n",
        "\n",
        "model.compile(optimizer='rmsprop',\n",
        "              loss='binary_crossentropy',\n",
        "              metrics=['accuracy'])\n",
        "\t\t\t  \n",
        "history = model.fit(x_train,\n",
        "                    y_train,\n",
        "                    epochs=20,\n",
        "                    batch_size=512,\n",
        "                    validation_data=(x_val, y_val))\n",
        "history_dict = history.history\n",
        "history_dict.keys()"
      ],
      "execution_count": null,
      "outputs": [
        {
          "output_type": "stream",
          "name": "stdout",
          "text": [
            "Epoch 1/20\n",
            "30/30 [==============================] - 3s 62ms/step - loss: 0.5344 - accuracy: 0.7917 - val_loss: 0.4097 - val_accuracy: 0.8639\n",
            "Epoch 2/20\n",
            "30/30 [==============================] - 1s 45ms/step - loss: 0.3258 - accuracy: 0.8983 - val_loss: 0.3334 - val_accuracy: 0.8777\n",
            "Epoch 3/20\n",
            "30/30 [==============================] - 2s 56ms/step - loss: 0.2385 - accuracy: 0.9226 - val_loss: 0.3032 - val_accuracy: 0.8838\n",
            "Epoch 4/20\n",
            "30/30 [==============================] - 1s 40ms/step - loss: 0.1888 - accuracy: 0.9364 - val_loss: 0.3328 - val_accuracy: 0.8725\n",
            "Epoch 5/20\n",
            "30/30 [==============================] - 1s 42ms/step - loss: 0.1526 - accuracy: 0.9498 - val_loss: 0.3161 - val_accuracy: 0.8828\n",
            "Epoch 6/20\n",
            "30/30 [==============================] - 1s 36ms/step - loss: 0.1228 - accuracy: 0.9621 - val_loss: 0.3365 - val_accuracy: 0.8801\n",
            "Epoch 7/20\n",
            "30/30 [==============================] - 1s 39ms/step - loss: 0.1029 - accuracy: 0.9699 - val_loss: 0.3638 - val_accuracy: 0.8758\n",
            "Epoch 8/20\n",
            "30/30 [==============================] - 1s 43ms/step - loss: 0.0844 - accuracy: 0.9755 - val_loss: 0.3949 - val_accuracy: 0.8745\n",
            "Epoch 9/20\n",
            "30/30 [==============================] - 1s 45ms/step - loss: 0.0716 - accuracy: 0.9798 - val_loss: 0.4111 - val_accuracy: 0.8737\n",
            "Epoch 10/20\n",
            "30/30 [==============================] - 1s 41ms/step - loss: 0.0583 - accuracy: 0.9841 - val_loss: 0.4490 - val_accuracy: 0.8684\n",
            "Epoch 11/20\n",
            "30/30 [==============================] - 1s 42ms/step - loss: 0.0499 - accuracy: 0.9865 - val_loss: 0.4766 - val_accuracy: 0.8694\n",
            "Epoch 12/20\n",
            "30/30 [==============================] - 1s 43ms/step - loss: 0.0394 - accuracy: 0.9903 - val_loss: 0.5076 - val_accuracy: 0.8671\n",
            "Epoch 13/20\n",
            "30/30 [==============================] - 1s 47ms/step - loss: 0.0314 - accuracy: 0.9924 - val_loss: 0.5486 - val_accuracy: 0.8678\n",
            "Epoch 14/20\n",
            "30/30 [==============================] - 1s 46ms/step - loss: 0.0255 - accuracy: 0.9949 - val_loss: 0.6197 - val_accuracy: 0.8645\n",
            "Epoch 15/20\n",
            "30/30 [==============================] - 1s 43ms/step - loss: 0.0215 - accuracy: 0.9954 - val_loss: 0.6364 - val_accuracy: 0.8652\n",
            "Epoch 16/20\n",
            "30/30 [==============================] - 1s 45ms/step - loss: 0.0145 - accuracy: 0.9978 - val_loss: 0.7278 - val_accuracy: 0.8601\n",
            "Epoch 17/20\n",
            "30/30 [==============================] - 1s 47ms/step - loss: 0.0146 - accuracy: 0.9973 - val_loss: 0.7389 - val_accuracy: 0.8611\n",
            "Epoch 18/20\n",
            "30/30 [==============================] - 1s 42ms/step - loss: 0.0094 - accuracy: 0.9983 - val_loss: 0.7721 - val_accuracy: 0.8566\n",
            "Epoch 19/20\n",
            "30/30 [==============================] - 1s 43ms/step - loss: 0.0074 - accuracy: 0.9990 - val_loss: 0.8314 - val_accuracy: 0.8578\n",
            "Epoch 20/20\n",
            "30/30 [==============================] - 1s 44ms/step - loss: 0.0063 - accuracy: 0.9991 - val_loss: 0.8659 - val_accuracy: 0.8572\n"
          ]
        },
        {
          "output_type": "execute_result",
          "data": {
            "text/plain": [
              "dict_keys(['loss', 'accuracy', 'val_loss', 'val_accuracy'])"
            ]
          },
          "metadata": {},
          "execution_count": 56
        }
      ]
    },
    {
      "cell_type": "code",
      "metadata": {
        "id": "1R_JBAW9In_6",
        "colab": {
          "base_uri": "https://localhost:8080/",
          "height": 573
        },
        "outputId": "a2e08d36-a892-49f9-bd36-6153d1a6460a"
      },
      "source": [
        "import matplotlib.pyplot as plt\n",
        "history_dict = history.history\n",
        "history_dict.keys()\n",
        "acc = history.history['accuracy']\n",
        "val_acc = history.history['val_accuracy']\n",
        "loss = history.history['loss']\n",
        "val_loss = history.history['val_loss']\n",
        "\n",
        "epochs = range(1, len(acc) + 1)\n",
        "\n",
        "# \"bo\" is for \"blue dot\"\n",
        "plt.plot(epochs, loss, 'bo', label='Training loss')\n",
        "# b is for \"solid blue line\"\n",
        "plt.plot(epochs, val_loss, 'b', label='Validation loss')\n",
        "plt.title('Training and validation loss')\n",
        "plt.xlabel('Epochs')\n",
        "plt.ylabel('Loss')\n",
        "plt.legend()\n",
        "\n",
        "plt.show()\n",
        "\n",
        "plt.clf()   # clear figure\n",
        "acc_values = history_dict['accuracy']\n",
        "val_acc_values = history_dict['val_accuracy']\n",
        "\n",
        "plt.plot(epochs, acc, 'bo', label='Training acc')\n",
        "plt.plot(epochs, val_acc, 'b', label='Validation acc')\n",
        "plt.title('Training and validation accuracy')\n",
        "plt.xlabel('Epochs')\n",
        "plt.ylabel('Loss')\n",
        "plt.legend()\n",
        "\n",
        "plt.show()"
      ],
      "execution_count": null,
      "outputs": [
        {
          "output_type": "display_data",
          "data": {
            "image/png": "[encoded data removed]",
            "text/plain": [
              "<Figure size 432x288 with 1 Axes>"
            ]
          },
          "metadata": {
            "needs_background": "light"
          }
        },
        {
          "output_type": "display_data",
          "data": {
            "image/png": "[encoded data removed]",
            "text/plain": [
              "<Figure size 432x288 with 1 Axes>"
            ]
          },
          "metadata": {
            "needs_background": "light"
          }
        }
      ]
    },
    {
      "cell_type": "markdown",
      "metadata": {
        "id": "yNgh23JbDcS1"
      },
      "source": [
        "#freq"
      ]
    },
    {
      "cell_type": "code",
      "metadata": {
        "id": "0MzuWYzODdOn"
      },
      "source": [
        "# Extract binary BoW features\n",
        "trn_texts,trn_labels = get_texts(PATH/'train')\n",
        "tst_texts,tst_labels = get_texts(PATH/'test')\n",
        "\n",
        "trn_texts = normalize_corpus(trn_texts)\n",
        "tst_texts = normalize_corpus(tst_texts)\n",
        "\n",
        "vocab_sz = 10000\n",
        "tok = Tokenizer(num_words=vocab_sz, oov_token='UNK')\n",
        "tok.fit_on_texts(trn_texts + tst_texts)\n",
        "x_train = tok.texts_to_matrix(trn_texts, mode='freq')\n",
        "x_test = tok.texts_to_matrix(tst_texts, mode='freq')\n",
        "y_train = np.asarray(trn_labels).astype('float32')\n",
        "y_test = np.asarray(tst_labels).astype('float32')\n",
        "\n",
        "x_train, x_val, y_train, y_val = train_test_split(x_train, y_train, test_size=0.4, random_state=42)"
      ],
      "execution_count": null,
      "outputs": []
    },
    {
      "cell_type": "code",
      "metadata": {
        "id": "lTbObR_bDdh0",
        "colab": {
          "base_uri": "https://localhost:8080/"
        },
        "outputId": "6aad1b3e-32d3-4ae6-e040-d695c7655833"
      },
      "source": [
        "model = models.Sequential()\n",
        "model.add(layers.Dense(16, activation='relu', input_shape=(10000,)))\n",
        "model.add(layers.Dense(16, activation='relu'))\n",
        "model.add(layers.Dense(1, activation='sigmoid'))\n",
        "\n",
        "model.compile(optimizer='rmsprop',\n",
        "              loss='binary_crossentropy',\n",
        "              metrics=['accuracy'])\n",
        "\t\t\t  \n",
        "history = model.fit(x_train,\n",
        "                    y_train,\n",
        "                    epochs=20,\n",
        "                    batch_size=512,\n",
        "                    validation_data=(x_val, y_val))\n",
        "history_dict = history.history\n",
        "history_dict.keys()"
      ],
      "execution_count": null,
      "outputs": [
        {
          "output_type": "stream",
          "name": "stdout",
          "text": [
            "Epoch 1/20\n",
            "30/30 [==============================] - 4s 95ms/step - loss: 0.6880 - accuracy: 0.5801 - val_loss: 0.6816 - val_accuracy: 0.5243\n",
            "Epoch 2/20\n",
            "30/30 [==============================] - 2s 58ms/step - loss: 0.6721 - accuracy: 0.6701 - val_loss: 0.6623 - val_accuracy: 0.7779\n",
            "Epoch 3/20\n",
            "30/30 [==============================] - 2s 56ms/step - loss: 0.6475 - accuracy: 0.7889 - val_loss: 0.6378 - val_accuracy: 0.8183\n",
            "Epoch 4/20\n",
            "30/30 [==============================] - 2s 56ms/step - loss: 0.6173 - accuracy: 0.8257 - val_loss: 0.6079 - val_accuracy: 0.8262\n",
            "Epoch 5/20\n",
            "30/30 [==============================] - 1s 50ms/step - loss: 0.5825 - accuracy: 0.8438 - val_loss: 0.5739 - val_accuracy: 0.8299\n",
            "Epoch 6/20\n",
            "30/30 [==============================] - 2s 55ms/step - loss: 0.5429 - accuracy: 0.8549 - val_loss: 0.5369 - val_accuracy: 0.8391\n",
            "Epoch 7/20\n",
            "30/30 [==============================] - 2s 51ms/step - loss: 0.5015 - accuracy: 0.8663 - val_loss: 0.5004 - val_accuracy: 0.8414\n",
            "Epoch 8/20\n",
            "30/30 [==============================] - 1s 46ms/step - loss: 0.4607 - accuracy: 0.8729 - val_loss: 0.4640 - val_accuracy: 0.8519\n",
            "Epoch 9/20\n",
            "30/30 [==============================] - 2s 51ms/step - loss: 0.4210 - accuracy: 0.8813 - val_loss: 0.4305 - val_accuracy: 0.8550\n",
            "Epoch 10/20\n",
            "30/30 [==============================] - 1s 50ms/step - loss: 0.3851 - accuracy: 0.8873 - val_loss: 0.4023 - val_accuracy: 0.8594\n",
            "Epoch 11/20\n",
            "30/30 [==============================] - 1s 48ms/step - loss: 0.3530 - accuracy: 0.8927 - val_loss: 0.3759 - val_accuracy: 0.8637\n",
            "Epoch 12/20\n",
            "30/30 [==============================] - 2s 51ms/step - loss: 0.3246 - accuracy: 0.8980 - val_loss: 0.3544 - val_accuracy: 0.8686\n",
            "Epoch 13/20\n",
            "30/30 [==============================] - 1s 46ms/step - loss: 0.2999 - accuracy: 0.9028 - val_loss: 0.3369 - val_accuracy: 0.8707\n",
            "Epoch 14/20\n",
            "30/30 [==============================] - 2s 57ms/step - loss: 0.2784 - accuracy: 0.9077 - val_loss: 0.3226 - val_accuracy: 0.8738\n",
            "Epoch 15/20\n",
            "30/30 [==============================] - 2s 53ms/step - loss: 0.2598 - accuracy: 0.9117 - val_loss: 0.3109 - val_accuracy: 0.8767\n",
            "Epoch 16/20\n",
            "30/30 [==============================] - 1s 50ms/step - loss: 0.2446 - accuracy: 0.9161 - val_loss: 0.3046 - val_accuracy: 0.8768\n",
            "Epoch 17/20\n",
            "30/30 [==============================] - 1s 47ms/step - loss: 0.2315 - accuracy: 0.9195 - val_loss: 0.2977 - val_accuracy: 0.8786\n",
            "Epoch 18/20\n",
            "30/30 [==============================] - 1s 49ms/step - loss: 0.2195 - accuracy: 0.9230 - val_loss: 0.2944 - val_accuracy: 0.8795\n",
            "Epoch 19/20\n",
            "30/30 [==============================] - 1s 49ms/step - loss: 0.2090 - accuracy: 0.9267 - val_loss: 0.2884 - val_accuracy: 0.8803\n",
            "Epoch 20/20\n",
            "30/30 [==============================] - 1s 49ms/step - loss: 0.1991 - accuracy: 0.9296 - val_loss: 0.2888 - val_accuracy: 0.8808\n"
          ]
        },
        {
          "output_type": "execute_result",
          "data": {
            "text/plain": [
              "dict_keys(['loss', 'accuracy', 'val_loss', 'val_accuracy'])"
            ]
          },
          "metadata": {},
          "execution_count": 10
        }
      ]
    },
    {
      "cell_type": "code",
      "metadata": {
        "id": "wLRyFk8SDdoP",
        "colab": {
          "base_uri": "https://localhost:8080/",
          "height": 573
        },
        "outputId": "1834894f-0669-4139-dbbf-007357ace4e2"
      },
      "source": [
        "import matplotlib.pyplot as plt\n",
        "history_dict = history.history\n",
        "history_dict.keys()\n",
        "acc = history.history['accuracy']\n",
        "val_acc = history.history['val_accuracy']\n",
        "loss = history.history['loss']\n",
        "val_loss = history.history['val_loss']\n",
        "\n",
        "epochs = range(1, len(acc) + 1)\n",
        "\n",
        "# \"bo\" is for \"blue dot\"\n",
        "plt.plot(epochs, loss, 'bo', label='Training loss')\n",
        "# b is for \"solid blue line\"\n",
        "plt.plot(epochs, val_loss, 'b', label='Validation loss')\n",
        "plt.title('Training and validation loss')\n",
        "plt.xlabel('Epochs')\n",
        "plt.ylabel('Loss')\n",
        "plt.legend()\n",
        "\n",
        "plt.show()\n",
        "\n",
        "plt.clf()   # clear figure\n",
        "acc_values = history_dict['accuracy']\n",
        "val_acc_values = history_dict['val_accuracy']\n",
        "\n",
        "plt.plot(epochs, acc, 'bo', label='Training acc')\n",
        "plt.plot(epochs, val_acc, 'b', label='Validation acc')\n",
        "plt.title('Training and validation accuracy')\n",
        "plt.xlabel('Epochs')\n",
        "plt.ylabel('Loss')\n",
        "plt.legend()\n",
        "\n",
        "plt.show()"
      ],
      "execution_count": null,
      "outputs": [
        {
          "output_type": "display_data",
          "data": {
            "image/png": "[encoded data removed]",
            "text/plain": [
              "<Figure size 432x288 with 1 Axes>"
            ]
          },
          "metadata": {
            "needs_background": "light"
          }
        },
        {
          "output_type": "display_data",
          "data": {
            "image/png": "[encoded data removed]",
            "text/plain": [
              "<Figure size 432x288 with 1 Axes>"
            ]
          },
          "metadata": {
            "needs_background": "light"
          }
        }
      ]
    },
    {
      "cell_type": "markdown",
      "metadata": {
        "id": "vzdoaKTiJofQ"
      },
      "source": [
        "#As you can see, normalizing the counts correctly has a good effect to delay the overfitting. Even at the max epoch, we got higher acc (88%)"
      ]
    },
    {
      "cell_type": "markdown",
      "metadata": {
        "id": "JRhUvZafKQop"
      },
      "source": [
        "#TFIDF"
      ]
    },
    {
      "cell_type": "code",
      "metadata": {
        "id": "k2Zu4deLDdyt",
        "colab": {
          "base_uri": "https://localhost:8080/"
        },
        "outputId": "afbd6064-b591-4d34-949e-f44b66c9dd3a"
      },
      "source": [
        "x_train = tok.texts_to_matrix(trn_texts, mode='tfidf')\n",
        "x_test = tok.texts_to_matrix(tst_texts, mode='tfidf')\n",
        "y_train = np.asarray(trn_labels).astype('float32')\n",
        "y_test = np.asarray(tst_labels).astype('float32')\n",
        "\n",
        "\n",
        "x_train, x_val, y_train, y_val = train_test_split(x_train, y_train, test_size=0.4, random_state=42)\n",
        "\n",
        "model = models.Sequential()\n",
        "model.add(layers.Dense(16, activation='relu', input_shape=(10000,)))\n",
        "model.add(layers.Dense(16, activation='relu'))\n",
        "model.add(layers.Dense(1, activation='sigmoid'))\n",
        "\n",
        "model.compile(optimizer='rmsprop',\n",
        "              loss='binary_crossentropy',\n",
        "              metrics=['accuracy'])\n",
        "\t\t\t  \n",
        "history = model.fit(x_train,\n",
        "                    y_train,\n",
        "                    epochs=20,\n",
        "                    batch_size=512,\n",
        "                    validation_data=(x_val, y_val))\n",
        "history_dict = history.history\n",
        "history_dict.keys()"
      ],
      "execution_count": null,
      "outputs": [
        {
          "output_type": "stream",
          "name": "stdout",
          "text": [
            "Epoch 1/20\n",
            "30/30 [==============================] - 2s 55ms/step - loss: 0.4528 - accuracy: 0.8037 - val_loss: 0.3310 - val_accuracy: 0.8771\n",
            "Epoch 2/20\n",
            "30/30 [==============================] - 1s 37ms/step - loss: 0.2160 - accuracy: 0.9270 - val_loss: 0.3115 - val_accuracy: 0.8800\n",
            "Epoch 3/20\n",
            "30/30 [==============================] - 1s 41ms/step - loss: 0.1390 - accuracy: 0.9543 - val_loss: 0.3294 - val_accuracy: 0.8762\n",
            "Epoch 4/20\n",
            "30/30 [==============================] - 1s 46ms/step - loss: 0.0958 - accuracy: 0.9717 - val_loss: 0.3719 - val_accuracy: 0.8729\n",
            "Epoch 5/20\n",
            "30/30 [==============================] - 2s 57ms/step - loss: 0.0644 - accuracy: 0.9818 - val_loss: 0.4044 - val_accuracy: 0.8724\n",
            "Epoch 6/20\n",
            "30/30 [==============================] - 1s 40ms/step - loss: 0.0400 - accuracy: 0.9909 - val_loss: 0.4828 - val_accuracy: 0.8635\n",
            "Epoch 7/20\n",
            "30/30 [==============================] - 1s 38ms/step - loss: 0.0285 - accuracy: 0.9940 - val_loss: 0.5311 - val_accuracy: 0.8645\n",
            "Epoch 8/20\n",
            "30/30 [==============================] - 1s 39ms/step - loss: 0.0166 - accuracy: 0.9969 - val_loss: 0.6232 - val_accuracy: 0.8649\n",
            "Epoch 9/20\n",
            "30/30 [==============================] - 1s 42ms/step - loss: 0.0136 - accuracy: 0.9968 - val_loss: 0.6851 - val_accuracy: 0.8619\n",
            "Epoch 10/20\n",
            "30/30 [==============================] - 1s 40ms/step - loss: 0.0065 - accuracy: 0.9990 - val_loss: 0.7518 - val_accuracy: 0.8601\n",
            "Epoch 11/20\n",
            "30/30 [==============================] - 1s 43ms/step - loss: 0.0062 - accuracy: 0.9989 - val_loss: 0.8588 - val_accuracy: 0.8585\n",
            "Epoch 12/20\n",
            "30/30 [==============================] - 1s 39ms/step - loss: 0.0027 - accuracy: 0.9996 - val_loss: 0.9566 - val_accuracy: 0.8548\n",
            "Epoch 13/20\n",
            "30/30 [==============================] - 1s 47ms/step - loss: 0.0022 - accuracy: 0.9996 - val_loss: 1.1597 - val_accuracy: 0.8443\n",
            "Epoch 14/20\n",
            "30/30 [==============================] - 1s 42ms/step - loss: 0.0012 - accuracy: 0.9999 - val_loss: 1.0985 - val_accuracy: 0.8529\n",
            "Epoch 15/20\n",
            "30/30 [==============================] - 2s 58ms/step - loss: 7.7634e-04 - accuracy: 0.9999 - val_loss: 1.1855 - val_accuracy: 0.8495\n",
            "Epoch 16/20\n",
            "30/30 [==============================] - 1s 43ms/step - loss: 0.0014 - accuracy: 0.9995 - val_loss: 1.2671 - val_accuracy: 0.8508\n",
            "Epoch 17/20\n",
            "30/30 [==============================] - 2s 58ms/step - loss: 5.8151e-04 - accuracy: 0.9998 - val_loss: 1.3159 - val_accuracy: 0.8500\n",
            "Epoch 18/20\n",
            "30/30 [==============================] - 1s 46ms/step - loss: 3.0453e-04 - accuracy: 0.9999 - val_loss: 1.3746 - val_accuracy: 0.8488\n",
            "Epoch 19/20\n",
            "30/30 [==============================] - 1s 42ms/step - loss: 2.4171e-04 - accuracy: 0.9999 - val_loss: 1.4706 - val_accuracy: 0.8462\n",
            "Epoch 20/20\n",
            "30/30 [==============================] - 1s 37ms/step - loss: 1.7653e-04 - accuracy: 0.9999 - val_loss: 1.6168 - val_accuracy: 0.8477\n"
          ]
        },
        {
          "output_type": "execute_result",
          "data": {
            "text/plain": [
              "dict_keys(['loss', 'accuracy', 'val_loss', 'val_accuracy'])"
            ]
          },
          "metadata": {},
          "execution_count": 12
        }
      ]
    },
    {
      "cell_type": "code",
      "metadata": {
        "id": "9uQnEgWsDd7q",
        "colab": {
          "base_uri": "https://localhost:8080/",
          "height": 573
        },
        "outputId": "83df4725-c8bc-4482-ccb7-3ef185146e32"
      },
      "source": [
        "import matplotlib.pyplot as plt\n",
        "history_dict = history.history\n",
        "history_dict.keys()\n",
        "acc = history.history['accuracy']\n",
        "val_acc = history.history['val_accuracy']\n",
        "loss = history.history['loss']\n",
        "val_loss = history.history['val_loss']\n",
        "\n",
        "epochs = range(1, len(acc) + 1)\n",
        "\n",
        "# \"bo\" is for \"blue dot\"\n",
        "plt.plot(epochs, loss, 'bo', label='Training loss')\n",
        "# b is for \"solid blue line\"\n",
        "plt.plot(epochs, val_loss, 'b', label='Validation loss')\n",
        "plt.title('Training and validation loss')\n",
        "plt.xlabel('Epochs')\n",
        "plt.ylabel('Loss')\n",
        "plt.legend()\n",
        "\n",
        "plt.show()\n",
        "\n",
        "plt.clf()   # clear figure\n",
        "acc_values = history_dict['accuracy']\n",
        "val_acc_values = history_dict['val_accuracy']\n",
        "\n",
        "plt.plot(epochs, acc, 'bo', label='Training acc')\n",
        "plt.plot(epochs, val_acc, 'b', label='Validation acc')\n",
        "plt.title('Training and validation accuracy')\n",
        "plt.xlabel('Epochs')\n",
        "plt.ylabel('Loss')\n",
        "plt.legend()\n",
        "\n",
        "plt.show()"
      ],
      "execution_count": null,
      "outputs": [
        {
          "output_type": "display_data",
          "data": {
            "image/png": "[encoded data removed]",
            "text/plain": [
              "<Figure size 432x288 with 1 Axes>"
            ]
          },
          "metadata": {
            "needs_background": "light"
          }
        },
        {
          "output_type": "display_data",
          "data": {
            "image/png": "[encoded data removed]",
            "text/plain": [
              "<Figure size 432x288 with 1 Axes>"
            ]
          },
          "metadata": {
            "needs_background": "light"
          }
        }
      ]
    },
    {
      "cell_type": "markdown",
      "metadata": {
        "id": "pcaE22A4UGLw"
      },
      "source": [
        "#TF-IDF not normalized?\n",
        "\n",
        "In the above setting, TFIDF in keras texts_to_matrix produce non normalized values. This is because the IDF ~= 1/DF, but log(1+DF) (for math convenience the log is calculated): http://www.tfidf.com/\n",
        "\n",
        "https://github.com/keras-team/keras/issues/2974\n",
        "\n",
        "For this bug, it's better to use sklearn TfidfVectorizer"
      ]
    },
    {
      "cell_type": "markdown",
      "metadata": {
        "id": "bM-CXtJmUSNM"
      },
      "source": [
        "#Using sklearn TfidfVectorizer"
      ]
    },
    {
      "cell_type": "code",
      "metadata": {
        "id": "KcW3o9W-DeEm"
      },
      "source": [
        "from sklearn.feature_extraction.text import TfidfVectorizer\n",
        "# Extract binary BoW features\n",
        "trn_texts,trn_labels = get_texts(PATH/'train')\n",
        "tst_texts,tst_labels = get_texts(PATH/'test')\n",
        "\n",
        "trn_texts = normalize_corpus(trn_texts)\n",
        "tst_texts = normalize_corpus(tst_texts)\n",
        "\n",
        "vectorizer = TfidfVectorizer()\n",
        "# tokenize and build vocab\n",
        "vectorizer.fit(trn_texts+tst_texts)\n",
        "\n",
        "\n",
        "x_train = vectorizer.transform(trn_texts)\n",
        "x_test =vectorizer.transform(tst_texts)\n",
        "y_train = np.asarray(trn_labels).astype('float32')\n",
        "y_test = np.asarray(tst_labels).astype('float32')"
      ],
      "execution_count": null,
      "outputs": []
    },
    {
      "cell_type": "markdown",
      "metadata": {
        "id": "nOjiBhoeUdz-"
      },
      "source": [
        "Now we get normalized values, but on ALL vocab.\n",
        "\n",
        "If we try to array we will get out of mem!\n",
        "\n",
        "How to limit the vocab?"
      ]
    },
    {
      "cell_type": "code",
      "metadata": {
        "id": "IfkRHODODeXW"
      },
      "source": [
        "model = models.Sequential()\n",
        "model.add(layers.Dense(16, activation='relu', input_shape=(10000,)))\n",
        "model.add(layers.Dense(16, activation='relu'))\n",
        "model.add(layers.Dense(1, activation='sigmoid'))\n",
        "\n",
        "model.compile(optimizer='rmsprop',\n",
        "              loss='binary_crossentropy',\n",
        "              metrics=['accuracy'])\n",
        "\t\t  \n",
        "history = model.fit(x_train,\n",
        "                    y_train,\n",
        "                    epochs=20,\n",
        "                    batch_size=512,\n",
        "                    validation_data=(tf.sparse.reorder(x_val, y_val))\n",
        "\n",
        "history_dict = history.history\n",
        "history_dict.keys()"
      ],
      "execution_count": null,
      "outputs": []
    },
    {
      "cell_type": "markdown",
      "metadata": {
        "id": "iVZFMUlIXoNW"
      },
      "source": [
        "#Let's see the effect without text cleaning steps:"
      ]
    },
    {
      "cell_type": "code",
      "metadata": {
        "id": "o3T0jQtTDef2",
        "colab": {
          "base_uri": "https://localhost:8080/"
        },
        "outputId": "e6dea0ea-43f3-49ac-f319-64e34af522aa"
      },
      "source": [
        "\n",
        "trn_texts,trn_labels = get_texts(PATH/'train')\n",
        "tst_texts,tst_labels = get_texts(PATH/'test')\n",
        "\n",
        "#trn_texts = normalize_corpus(trn_texts)\n",
        "#tst_texts = normalize_corpus(tst_texts)\n",
        "\n",
        "vocab_sz = 10000\n",
        "tok = Tokenizer(num_words=vocab_sz, oov_token='UNK')\n",
        "tok.fit_on_texts(trn_texts + tst_texts)\n",
        "#vocab_sz = len(tok.word_index)\n",
        "\n",
        "# Extract binary BoW features\n",
        "x_train = tok.texts_to_matrix(trn_texts, mode='binary')\n",
        "x_test = tok.texts_to_matrix(tst_texts, mode='binary')\n",
        "y_train = np.asarray(trn_labels).astype('float32')\n",
        "y_test = np.asarray(tst_labels).astype('float32')\n",
        "\n",
        "from sklearn.model_selection import train_test_split\n",
        "\n",
        "x_train, x_val, y_train, y_val = train_test_split(x_train, y_train, test_size=0.4, random_state=42)\n",
        "\n",
        "model = models.Sequential()\n",
        "model.add(layers.Dense(16, activation='relu', input_shape=(10000,)))\n",
        "model.add(layers.Dense(16, activation='relu'))\n",
        "model.add(layers.Dense(1, activation='sigmoid'))\n",
        "\n",
        "model.compile(optimizer='rmsprop',\n",
        "              loss='binary_crossentropy',\n",
        "              metrics=['accuracy'])\n",
        "\t\t\t  \n",
        "history = model.fit(x_train,\n",
        "                    y_train,\n",
        "                    epochs=20,\n",
        "                    batch_size=512,\n",
        "                    validation_data=(x_val, y_val))\n",
        "history_dict = history.history\n",
        "history_dict.keys()"
      ],
      "execution_count": null,
      "outputs": [
        {
          "output_type": "stream",
          "name": "stdout",
          "text": [
            "Epoch 1/20\n",
            "30/30 [==============================] - 2s 47ms/step - loss: 0.5166 - accuracy: 0.7895 - val_loss: 0.3892 - val_accuracy: 0.8667\n",
            "Epoch 2/20\n",
            "30/30 [==============================] - 2s 52ms/step - loss: 0.3083 - accuracy: 0.9033 - val_loss: 0.3346 - val_accuracy: 0.8663\n",
            "Epoch 3/20\n",
            "30/30 [==============================] - 1s 45ms/step - loss: 0.2273 - accuracy: 0.9265 - val_loss: 0.2806 - val_accuracy: 0.8903\n",
            "Epoch 4/20\n",
            "30/30 [==============================] - 1s 45ms/step - loss: 0.1807 - accuracy: 0.9419 - val_loss: 0.2807 - val_accuracy: 0.8915\n",
            "Epoch 5/20\n",
            "30/30 [==============================] - 1s 45ms/step - loss: 0.1475 - accuracy: 0.9525 - val_loss: 0.3178 - val_accuracy: 0.8790\n",
            "Epoch 6/20\n",
            "30/30 [==============================] - 1s 45ms/step - loss: 0.1245 - accuracy: 0.9614 - val_loss: 0.3099 - val_accuracy: 0.8795\n",
            "Epoch 7/20\n",
            "30/30 [==============================] - 1s 45ms/step - loss: 0.1035 - accuracy: 0.9689 - val_loss: 0.3125 - val_accuracy: 0.8826\n",
            "Epoch 8/20\n",
            "30/30 [==============================] - 1s 45ms/step - loss: 0.0862 - accuracy: 0.9753 - val_loss: 0.3306 - val_accuracy: 0.8836\n",
            "Epoch 9/20\n",
            "30/30 [==============================] - 1s 46ms/step - loss: 0.0747 - accuracy: 0.9790 - val_loss: 0.3546 - val_accuracy: 0.8800\n",
            "Epoch 10/20\n",
            "30/30 [==============================] - 1s 45ms/step - loss: 0.0614 - accuracy: 0.9843 - val_loss: 0.3779 - val_accuracy: 0.8764\n",
            "Epoch 11/20\n",
            "30/30 [==============================] - 1s 45ms/step - loss: 0.0504 - accuracy: 0.9883 - val_loss: 0.4159 - val_accuracy: 0.8755\n",
            "Epoch 12/20\n",
            "30/30 [==============================] - 1s 39ms/step - loss: 0.0423 - accuracy: 0.9907 - val_loss: 0.4441 - val_accuracy: 0.8733\n",
            "Epoch 13/20\n",
            "30/30 [==============================] - 1s 37ms/step - loss: 0.0340 - accuracy: 0.9929 - val_loss: 0.5058 - val_accuracy: 0.8685\n",
            "Epoch 14/20\n",
            "30/30 [==============================] - 1s 45ms/step - loss: 0.0273 - accuracy: 0.9951 - val_loss: 0.5244 - val_accuracy: 0.8688\n",
            "Epoch 15/20\n",
            "30/30 [==============================] - 2s 57ms/step - loss: 0.0238 - accuracy: 0.9954 - val_loss: 0.5469 - val_accuracy: 0.8686\n",
            "Epoch 16/20\n",
            "30/30 [==============================] - 1s 44ms/step - loss: 0.0159 - accuracy: 0.9975 - val_loss: 0.6119 - val_accuracy: 0.8587\n",
            "Epoch 17/20\n",
            "30/30 [==============================] - 1s 41ms/step - loss: 0.0156 - accuracy: 0.9967 - val_loss: 0.6232 - val_accuracy: 0.8674\n",
            "Epoch 18/20\n",
            "30/30 [==============================] - 1s 45ms/step - loss: 0.0114 - accuracy: 0.9980 - val_loss: 0.6929 - val_accuracy: 0.8631\n",
            "Epoch 19/20\n",
            "30/30 [==============================] - 1s 39ms/step - loss: 0.0072 - accuracy: 0.9993 - val_loss: 0.6961 - val_accuracy: 0.8618\n",
            "Epoch 20/20\n",
            "30/30 [==============================] - 1s 35ms/step - loss: 0.0087 - accuracy: 0.9988 - val_loss: 0.7326 - val_accuracy: 0.8612\n"
          ]
        },
        {
          "output_type": "execute_result",
          "data": {
            "text/plain": [
              "dict_keys(['loss', 'accuracy', 'val_loss', 'val_accuracy'])"
            ]
          },
          "metadata": {},
          "execution_count": 30
        }
      ]
    },
    {
      "cell_type": "code",
      "metadata": {
        "id": "cByvjV5dXfHV",
        "colab": {
          "base_uri": "https://localhost:8080/",
          "height": 573
        },
        "outputId": "b07d2127-d58e-4a02-83b7-a9eaf21c0800"
      },
      "source": [
        "import matplotlib.pyplot as plt\n",
        "history_dict = history.history\n",
        "history_dict.keys()\n",
        "acc = history.history['accuracy']\n",
        "val_acc = history.history['val_accuracy']\n",
        "loss = history.history['loss']\n",
        "val_loss = history.history['val_loss']\n",
        "\n",
        "epochs = range(1, len(acc) + 1)\n",
        "\n",
        "# \"bo\" is for \"blue dot\"\n",
        "plt.plot(epochs, loss, 'bo', label='Training loss')\n",
        "# b is for \"solid blue line\"\n",
        "plt.plot(epochs, val_loss, 'b', label='Validation loss')\n",
        "plt.title('Training and validation loss')\n",
        "plt.xlabel('Epochs')\n",
        "plt.ylabel('Loss')\n",
        "plt.legend()\n",
        "\n",
        "plt.show()\n",
        "\n",
        "plt.clf()   # clear figure\n",
        "acc_values = history_dict['accuracy']\n",
        "val_acc_values = history_dict['val_accuracy']\n",
        "\n",
        "plt.plot(epochs, acc, 'bo', label='Training acc')\n",
        "plt.plot(epochs, val_acc, 'b', label='Validation acc')\n",
        "plt.title('Training and validation accuracy')\n",
        "plt.xlabel('Epochs')\n",
        "plt.ylabel('Loss')\n",
        "plt.legend()\n",
        "\n",
        "plt.show()"
      ],
      "execution_count": null,
      "outputs": [
        {
          "output_type": "display_data",
          "data": {
            "image/png": "[encoded data removed]",
            "text/plain": [
              "<Figure size 432x288 with 1 Axes>"
            ]
          },
          "metadata": {
            "needs_background": "light"
          }
        },
        {
          "output_type": "display_data",
          "data": {
            "image/png": "[encoded data removed]",
            "text/plain": [
              "<Figure size 432x288 with 1 Axes>"
            ]
          },
          "metadata": {
            "needs_background": "light"
          }
        }
      ]
    },
    {
      "cell_type": "markdown",
      "metadata": {
        "id": "26h4AK0VYL67"
      },
      "source": [
        "#As you can see, the effect is minimal, but the val curve a bit smoother in case of text clean-up\n",
        "\n",
        "Why?\n",
        "\n",
        "We already limit the vocab to the most frequent 10K words, and we use BoW features, so cleanining up the text has minimal effect, since the words context is neglected (high frequent words are likely to always be scored no matter different morphologies might be missed sometimes).\n",
        "\n",
        "For sequence models for example with word embeddings (as we will see), the context of the word will have strong effect, so the clean up step will have more importance."
      ]
    },
    {
      "cell_type": "markdown",
      "metadata": {
        "id": "hu8Uo44OMwmM"
      },
      "source": [
        "#--------------------------------------------------------------------------------\n",
        "#Word Embedding\n",
        "Keras Embedding Layer example"
      ]
    },
    {
      "cell_type": "code",
      "metadata": {
        "id": "AerMLKrKXfY5"
      },
      "source": [
        "from keras.preprocessing.text import one_hot\n",
        "from keras.preprocessing.sequence import pad_sequences\n",
        "from keras.preprocessing.text import Tokenizer\n",
        "from keras.models import Sequential\n",
        "from keras.layers import Dense\n",
        "from keras.layers import Flatten\n",
        "from keras.layers.embeddings import Embedding\n",
        "# define documents\n",
        "docs = ['Well done!',\n",
        "'Good work','Great effort',\n",
        "'nice work',\n",
        "'Excellent!',\n",
        "'Weak',\n",
        "'Poor effort!',\n",
        "'not good',\n",
        "'poor work',\n",
        "'Could have done better.']\n",
        "# define class labels\n",
        "labels = [1,1,1,1,1,0,0,0,0,0]\n",
        "\n",
        "t = Tokenizer()\n",
        "t.fit_on_texts(docs)\n",
        "vocab_size = len(t.word_index) + 1"
      ],
      "execution_count": null,
      "outputs": []
    },
    {
      "cell_type": "code",
      "metadata": {
        "id": "xvktxq22sA8d"
      },
      "source": [
        ""
      ],
      "execution_count": null,
      "outputs": []
    },
    {
      "cell_type": "markdown",
      "metadata": {
        "id": "boojnFLHkWor"
      },
      "source": [
        "##We print the encoded docs "
      ]
    },
    {
      "cell_type": "code",
      "metadata": {
        "id": "evl13oDHXfiB",
        "colab": {
          "base_uri": "https://localhost:8080/"
        },
        "outputId": "4e2fa3b9-59a5-47da-c71e-a1f45296099b"
      },
      "source": [
        "encoded_docs = t.texts_to_sequences(docs)\n",
        "print(encoded_docs)"
      ],
      "execution_count": null,
      "outputs": [
        {
          "output_type": "stream",
          "name": "stdout",
          "text": [
            "[[6, 2], [3, 1], [7, 4], [8, 1], [9], [10], [5, 4], [11, 3], [5, 1], [12, 13, 2, 14]]\n"
          ]
        }
      ]
    },
    {
      "cell_type": "markdown",
      "metadata": {
        "id": "_p1_yD8pkdmq"
      },
      "source": [
        "##We see that the max len is 4 so we will pad the smallest sentence to 4\n",
        "##you will see padding will add 0 to fill out the remaining of the small sentences\n"
      ]
    },
    {
      "cell_type": "code",
      "metadata": {
        "id": "cJqTjvtFXfrE",
        "colab": {
          "base_uri": "https://localhost:8080/"
        },
        "outputId": "ed89b9bd-b932-4408-e8d3-eefef71a8d47"
      },
      "source": [
        "# pad documents to a max length of 4 words\n",
        "max_length = 4\n",
        "padded_docs = pad_sequences(encoded_docs, maxlen=max_length, padding='post')\n",
        "print(padded_docs)"
      ],
      "execution_count": null,
      "outputs": [
        {
          "output_type": "stream",
          "name": "stdout",
          "text": [
            "[[ 6  2  0  0]\n",
            " [ 3  1  0  0]\n",
            " [ 7  4  0  0]\n",
            " [ 8  1  0  0]\n",
            " [ 9  0  0  0]\n",
            " [10  0  0  0]\n",
            " [ 5  4  0  0]\n",
            " [11  3  0  0]\n",
            " [ 5  1  0  0]\n",
            " [12 13  2 14]]\n"
          ]
        }
      ]
    },
    {
      "cell_type": "markdown",
      "metadata": {
        "id": "0CMcbG3QmEHk"
      },
      "source": [
        "##Then we will define the embedding model using Embedding which take the lenght and width of the embedding matrix.\n",
        "##The lenght is the number of word index of the tokenizer +1 keep in mind +1 as you add the index of padding and if you pad and using different index to unknown words you will add 2 instead of 1\n",
        "##The width of embedding matrix is the desired length of vector you want to be for example you want every word to represrent by 8 vector component"
      ]
    },
    {
      "cell_type": "code",
      "metadata": {
        "id": "lyMiW4VYXfyt",
        "colab": {
          "base_uri": "https://localhost:8080/"
        },
        "outputId": "97dffb0c-65f6-422c-f290-b81eafe3b137"
      },
      "source": [
        "import numpy as np\n",
        "# define the model\n",
        "model = Sequential()\n",
        "model.add(Embedding(vocab_size, 8, input_length=max_length))\n",
        "model.add(Flatten())\n",
        "model.add(Dense(1, activation='sigmoid'))\n",
        "# compile the model\n",
        "model.compile(optimizer='adam', loss='binary_crossentropy', metrics=['acc'])\n",
        "# summarize the model\n",
        "model.summary()\n",
        "# fit the model\n",
        "model.fit(x=np.array(padded_docs),y=np.array(labels),epochs=50, verbose=0)\n",
        "# evaluate the model\n",
        "loss, accuracy = model.evaluate(x=np.array(padded_docs),y=np.array(labels), verbose=0)\n",
        "print('Accuracy: %f' % (accuracy*100))\n"
      ],
      "execution_count": null,
      "outputs": [
        {
          "output_type": "stream",
          "name": "stdout",
          "text": [
            "Model: \"sequential_1\"\n",
            "_________________________________________________________________\n",
            " Layer (type)                Output Shape              Param #   \n",
            "=================================================================\n",
            " embedding (Embedding)       (None, 4, 8)              120       \n",
            "                                                                 \n",
            " flatten (Flatten)           (None, 32)                0         \n",
            "                                                                 \n",
            " dense_3 (Dense)             (None, 1)                 33        \n",
            "                                                                 \n",
            "=================================================================\n",
            "Total params: 153\n",
            "Trainable params: 153\n",
            "Non-trainable params: 0\n",
            "_________________________________________________________________\n",
            "Accuracy: 80.000001\n"
          ]
        }
      ]
    },
    {
      "cell_type": "code",
      "metadata": {
        "colab": {
          "base_uri": "https://localhost:8080/",
          "height": 442
        },
        "id": "OMPL7lo4kekt",
        "outputId": "3608db8e-3740-4b45-a534-d398faa1c1cf"
      },
      "source": [
        "emb_sz = 50\n",
        "n_latent_factors =50\n",
        "vocab_sz = 10000\n",
        "model = models.Sequential()\n",
        "model.add(layers.Embedding(vocab_sz+1, n_latent_factors, input_length=vocab_sz))\n",
        "model.add(layers.Flatten())\n",
        "model.add(layers.Dense(emb_sz, activation='relu'))\n",
        "model.add(layers.Dense(16, activation='relu'))\n",
        "model.add(layers.Dense(1, activation='sigmoid'))\n",
        "\n",
        "tok = Tokenizer(num_words=vocab_sz, oov_token='UNK')\n",
        "tok.fit_on_texts(trn_texts + tst_texts)\n",
        "\n",
        "x_train = tok.texts_to_matrix(trn_texts, mode='binary')\n",
        "x_test = tok.texts_to_matrix(tst_texts, mode='binary')\n",
        "y_train = np.asarray(trn_labels).astype('float32')\n",
        "y_test = np.asarray(tst_labels).astype('float32')\n",
        "\n",
        "\n",
        "x_train, x_val, y_train, y_val = train_test_split(x_train, y_train, test_size=0.4, random_state=42)\n",
        "\n",
        "\n",
        "\n",
        "\n",
        "model.compile(optimizer='rmsprop',\n",
        "              loss='binary_crossentropy',\n",
        "              metrics=['accuracy'])\n",
        "\t\t\t  \n",
        "history = model.fit(x_train,\n",
        "                    y_train,\n",
        "                    epochs=20,\n",
        "                    batch_size=512,\n",
        "                    validation_data=(x_val, y_val))\n",
        "history_dict = history.history\n",
        "history_dict.keys()\n",
        "\n"
      ],
      "execution_count": null,
      "outputs": [
        {
          "output_type": "stream",
          "name": "stdout",
          "text": [
            "Epoch 1/20\n",
            "30/30 [==============================] - 115s 4s/step - loss: 4.3301 - accuracy: 0.4971 - val_loss: 1.1557 - val_accuracy: 0.5038\n",
            "Epoch 2/20\n",
            " 2/30 [=>............................] - ETA: 1:17 - loss: 1.0352 - accuracy: 0.5303"
          ]
        },
        {
          "output_type": "error",
          "ename": "KeyboardInterrupt",
          "evalue": "ignored",
          "traceback": [
            "\u001b[0;31m---------------------------------------------------------------------------\u001b[0m",
            "\u001b[0;31mKeyboardInterrupt\u001b[0m                         Traceback (most recent call last)",
            "\u001b[0;32m<ipython-input-50-f8ff6748e5be>\u001b[0m in \u001b[0;36m<module>\u001b[0;34m()\u001b[0m\n\u001b[1;32m     31\u001b[0m                     \u001b[0mepochs\u001b[0m\u001b[0;34m=\u001b[0m\u001b[0;36m20\u001b[0m\u001b[0;34m,\u001b[0m\u001b[0;34m\u001b[0m\u001b[0;34m\u001b[0m\u001b[0m\n\u001b[1;32m     32\u001b[0m                     \u001b[0mbatch_size\u001b[0m\u001b[0;34m=\u001b[0m\u001b[0;36m512\u001b[0m\u001b[0;34m,\u001b[0m\u001b[0;34m\u001b[0m\u001b[0;34m\u001b[0m\u001b[0m\n\u001b[0;32m---> 33\u001b[0;31m                     validation_data=(x_val, y_val))\n\u001b[0m\u001b[1;32m     34\u001b[0m \u001b[0mhistory_dict\u001b[0m \u001b[0;34m=\u001b[0m \u001b[0mhistory\u001b[0m\u001b[0;34m.\u001b[0m\u001b[0mhistory\u001b[0m\u001b[0;34m\u001b[0m\u001b[0;34m\u001b[0m\u001b[0m\n\u001b[1;32m     35\u001b[0m \u001b[0mhistory_dict\u001b[0m\u001b[0;34m.\u001b[0m\u001b[0mkeys\u001b[0m\u001b[0;34m(\u001b[0m\u001b[0;34m)\u001b[0m\u001b[0;34m\u001b[0m\u001b[0;34m\u001b[0m\u001b[0m\n",
            "\u001b[0;32m/usr/local/lib/python3.7/dist-packages/keras/utils/traceback_utils.py\u001b[0m in \u001b[0;36merror_handler\u001b[0;34m(*args, **kwargs)\u001b[0m\n\u001b[1;32m     62\u001b[0m     \u001b[0mfiltered_tb\u001b[0m \u001b[0;34m=\u001b[0m \u001b[0;32mNone\u001b[0m\u001b[0;34m\u001b[0m\u001b[0;34m\u001b[0m\u001b[0m\n\u001b[1;32m     63\u001b[0m     \u001b[0;32mtry\u001b[0m\u001b[0;34m:\u001b[0m\u001b[0;34m\u001b[0m\u001b[0;34m\u001b[0m\u001b[0m\n\u001b[0;32m---> 64\u001b[0;31m       \u001b[0;32mreturn\u001b[0m \u001b[0mfn\u001b[0m\u001b[0;34m(\u001b[0m\u001b[0;34m*\u001b[0m\u001b[0margs\u001b[0m\u001b[0;34m,\u001b[0m \u001b[0;34m**\u001b[0m\u001b[0mkwargs\u001b[0m\u001b[0;34m)\u001b[0m\u001b[0;34m\u001b[0m\u001b[0;34m\u001b[0m\u001b[0m\n\u001b[0m\u001b[1;32m     65\u001b[0m     \u001b[0;32mexcept\u001b[0m \u001b[0mException\u001b[0m \u001b[0;32mas\u001b[0m \u001b[0me\u001b[0m\u001b[0;34m:\u001b[0m  \u001b[0;31m# pylint: disable=broad-except\u001b[0m\u001b[0;34m\u001b[0m\u001b[0;34m\u001b[0m\u001b[0m\n\u001b[1;32m     66\u001b[0m       \u001b[0mfiltered_tb\u001b[0m \u001b[0;34m=\u001b[0m \u001b[0m_process_traceback_frames\u001b[0m\u001b[0;34m(\u001b[0m\u001b[0me\u001b[0m\u001b[0;34m.\u001b[0m\u001b[0m__traceback__\u001b[0m\u001b[0;34m)\u001b[0m\u001b[0;34m\u001b[0m\u001b[0;34m\u001b[0m\u001b[0m\n",
            "\u001b[0;32m/usr/local/lib/python3.7/dist-packages/keras/engine/training.py\u001b[0m in \u001b[0;36mfit\u001b[0;34m(self, x, y, batch_size, epochs, verbose, callbacks, validation_split, validation_data, shuffle, class_weight, sample_weight, initial_epoch, steps_per_epoch, validation_steps, validation_batch_size, validation_freq, max_queue_size, workers, use_multiprocessing)\u001b[0m\n\u001b[1;32m   1214\u001b[0m                 _r=1):\n\u001b[1;32m   1215\u001b[0m               \u001b[0mcallbacks\u001b[0m\u001b[0;34m.\u001b[0m\u001b[0mon_train_batch_begin\u001b[0m\u001b[0;34m(\u001b[0m\u001b[0mstep\u001b[0m\u001b[0;34m)\u001b[0m\u001b[0;34m\u001b[0m\u001b[0;34m\u001b[0m\u001b[0m\n\u001b[0;32m-> 1216\u001b[0;31m               \u001b[0mtmp_logs\u001b[0m \u001b[0;34m=\u001b[0m \u001b[0mself\u001b[0m\u001b[0;34m.\u001b[0m\u001b[0mtrain_function\u001b[0m\u001b[0;34m(\u001b[0m\u001b[0miterator\u001b[0m\u001b[0;34m)\u001b[0m\u001b[0;34m\u001b[0m\u001b[0;34m\u001b[0m\u001b[0m\n\u001b[0m\u001b[1;32m   1217\u001b[0m               \u001b[0;32mif\u001b[0m \u001b[0mdata_handler\u001b[0m\u001b[0;34m.\u001b[0m\u001b[0mshould_sync\u001b[0m\u001b[0;34m:\u001b[0m\u001b[0;34m\u001b[0m\u001b[0;34m\u001b[0m\u001b[0m\n\u001b[1;32m   1218\u001b[0m                 \u001b[0mcontext\u001b[0m\u001b[0;34m.\u001b[0m\u001b[0masync_wait\u001b[0m\u001b[0;34m(\u001b[0m\u001b[0;34m)\u001b[0m\u001b[0;34m\u001b[0m\u001b[0;34m\u001b[0m\u001b[0m\n",
            "\u001b[0;32m/usr/local/lib/python3.7/dist-packages/tensorflow/python/util/traceback_utils.py\u001b[0m in \u001b[0;36merror_handler\u001b[0;34m(*args, **kwargs)\u001b[0m\n\u001b[1;32m    148\u001b[0m     \u001b[0mfiltered_tb\u001b[0m \u001b[0;34m=\u001b[0m \u001b[0;32mNone\u001b[0m\u001b[0;34m\u001b[0m\u001b[0;34m\u001b[0m\u001b[0m\n\u001b[1;32m    149\u001b[0m     \u001b[0;32mtry\u001b[0m\u001b[0;34m:\u001b[0m\u001b[0;34m\u001b[0m\u001b[0;34m\u001b[0m\u001b[0m\n\u001b[0;32m--> 150\u001b[0;31m       \u001b[0;32mreturn\u001b[0m \u001b[0mfn\u001b[0m\u001b[0;34m(\u001b[0m\u001b[0;34m*\u001b[0m\u001b[0margs\u001b[0m\u001b[0;34m,\u001b[0m \u001b[0;34m**\u001b[0m\u001b[0mkwargs\u001b[0m\u001b[0;34m)\u001b[0m\u001b[0;34m\u001b[0m\u001b[0;34m\u001b[0m\u001b[0m\n\u001b[0m\u001b[1;32m    151\u001b[0m     \u001b[0;32mexcept\u001b[0m \u001b[0mException\u001b[0m \u001b[0;32mas\u001b[0m \u001b[0me\u001b[0m\u001b[0;34m:\u001b[0m\u001b[0;34m\u001b[0m\u001b[0;34m\u001b[0m\u001b[0m\n\u001b[1;32m    152\u001b[0m       \u001b[0mfiltered_tb\u001b[0m \u001b[0;34m=\u001b[0m \u001b[0m_process_traceback_frames\u001b[0m\u001b[0;34m(\u001b[0m\u001b[0me\u001b[0m\u001b[0;34m.\u001b[0m\u001b[0m__traceback__\u001b[0m\u001b[0;34m)\u001b[0m\u001b[0;34m\u001b[0m\u001b[0;34m\u001b[0m\u001b[0m\n",
            "\u001b[0;32m/usr/local/lib/python3.7/dist-packages/tensorflow/python/eager/def_function.py\u001b[0m in \u001b[0;36m__call__\u001b[0;34m(self, *args, **kwds)\u001b[0m\n\u001b[1;32m    908\u001b[0m \u001b[0;34m\u001b[0m\u001b[0m\n\u001b[1;32m    909\u001b[0m       \u001b[0;32mwith\u001b[0m \u001b[0mOptionalXlaContext\u001b[0m\u001b[0;34m(\u001b[0m\u001b[0mself\u001b[0m\u001b[0;34m.\u001b[0m\u001b[0m_jit_compile\u001b[0m\u001b[0;34m)\u001b[0m\u001b[0;34m:\u001b[0m\u001b[0;34m\u001b[0m\u001b[0;34m\u001b[0m\u001b[0m\n\u001b[0;32m--> 910\u001b[0;31m         \u001b[0mresult\u001b[0m \u001b[0;34m=\u001b[0m \u001b[0mself\u001b[0m\u001b[0;34m.\u001b[0m\u001b[0m_call\u001b[0m\u001b[0;34m(\u001b[0m\u001b[0;34m*\u001b[0m\u001b[0margs\u001b[0m\u001b[0;34m,\u001b[0m \u001b[0;34m**\u001b[0m\u001b[0mkwds\u001b[0m\u001b[0;34m)\u001b[0m\u001b[0;34m\u001b[0m\u001b[0;34m\u001b[0m\u001b[0m\n\u001b[0m\u001b[1;32m    911\u001b[0m \u001b[0;34m\u001b[0m\u001b[0m\n\u001b[1;32m    912\u001b[0m       \u001b[0mnew_tracing_count\u001b[0m \u001b[0;34m=\u001b[0m \u001b[0mself\u001b[0m\u001b[0;34m.\u001b[0m\u001b[0mexperimental_get_tracing_count\u001b[0m\u001b[0;34m(\u001b[0m\u001b[0;34m)\u001b[0m\u001b[0;34m\u001b[0m\u001b[0;34m\u001b[0m\u001b[0m\n",
            "\u001b[0;32m/usr/local/lib/python3.7/dist-packages/tensorflow/python/eager/def_function.py\u001b[0m in \u001b[0;36m_call\u001b[0;34m(self, *args, **kwds)\u001b[0m\n\u001b[1;32m    940\u001b[0m       \u001b[0;31m# In this case we have created variables on the first call, so we run the\u001b[0m\u001b[0;34m\u001b[0m\u001b[0;34m\u001b[0m\u001b[0;34m\u001b[0m\u001b[0m\n\u001b[1;32m    941\u001b[0m       \u001b[0;31m# defunned version which is guaranteed to never create variables.\u001b[0m\u001b[0;34m\u001b[0m\u001b[0;34m\u001b[0m\u001b[0;34m\u001b[0m\u001b[0m\n\u001b[0;32m--> 942\u001b[0;31m       \u001b[0;32mreturn\u001b[0m \u001b[0mself\u001b[0m\u001b[0;34m.\u001b[0m\u001b[0m_stateless_fn\u001b[0m\u001b[0;34m(\u001b[0m\u001b[0;34m*\u001b[0m\u001b[0margs\u001b[0m\u001b[0;34m,\u001b[0m \u001b[0;34m**\u001b[0m\u001b[0mkwds\u001b[0m\u001b[0;34m)\u001b[0m  \u001b[0;31m# pylint: disable=not-callable\u001b[0m\u001b[0;34m\u001b[0m\u001b[0;34m\u001b[0m\u001b[0m\n\u001b[0m\u001b[1;32m    943\u001b[0m     \u001b[0;32melif\u001b[0m \u001b[0mself\u001b[0m\u001b[0;34m.\u001b[0m\u001b[0m_stateful_fn\u001b[0m \u001b[0;32mis\u001b[0m \u001b[0;32mnot\u001b[0m \u001b[0;32mNone\u001b[0m\u001b[0;34m:\u001b[0m\u001b[0;34m\u001b[0m\u001b[0;34m\u001b[0m\u001b[0m\n\u001b[1;32m    944\u001b[0m       \u001b[0;31m# Release the lock early so that multiple threads can perform the call\u001b[0m\u001b[0;34m\u001b[0m\u001b[0;34m\u001b[0m\u001b[0;34m\u001b[0m\u001b[0m\n",
            "\u001b[0;32m/usr/local/lib/python3.7/dist-packages/tensorflow/python/eager/function.py\u001b[0m in \u001b[0;36m__call__\u001b[0;34m(self, *args, **kwargs)\u001b[0m\n\u001b[1;32m   3129\u001b[0m        filtered_flat_args) = self._maybe_define_function(args, kwargs)\n\u001b[1;32m   3130\u001b[0m     return graph_function._call_flat(\n\u001b[0;32m-> 3131\u001b[0;31m         filtered_flat_args, captured_inputs=graph_function.captured_inputs)  # pylint: disable=protected-access\n\u001b[0m\u001b[1;32m   3132\u001b[0m \u001b[0;34m\u001b[0m\u001b[0m\n\u001b[1;32m   3133\u001b[0m   \u001b[0;34m@\u001b[0m\u001b[0mproperty\u001b[0m\u001b[0;34m\u001b[0m\u001b[0;34m\u001b[0m\u001b[0m\n",
            "\u001b[0;32m/usr/local/lib/python3.7/dist-packages/tensorflow/python/eager/function.py\u001b[0m in \u001b[0;36m_call_flat\u001b[0;34m(self, args, captured_inputs, cancellation_manager)\u001b[0m\n\u001b[1;32m   1958\u001b[0m       \u001b[0;31m# No tape is watching; skip to running the function.\u001b[0m\u001b[0;34m\u001b[0m\u001b[0;34m\u001b[0m\u001b[0;34m\u001b[0m\u001b[0m\n\u001b[1;32m   1959\u001b[0m       return self._build_call_outputs(self._inference_function.call(\n\u001b[0;32m-> 1960\u001b[0;31m           ctx, args, cancellation_manager=cancellation_manager))\n\u001b[0m\u001b[1;32m   1961\u001b[0m     forward_backward = self._select_forward_and_backward_functions(\n\u001b[1;32m   1962\u001b[0m         \u001b[0margs\u001b[0m\u001b[0;34m,\u001b[0m\u001b[0;34m\u001b[0m\u001b[0;34m\u001b[0m\u001b[0m\n",
            "\u001b[0;32m/usr/local/lib/python3.7/dist-packages/tensorflow/python/eager/function.py\u001b[0m in \u001b[0;36mcall\u001b[0;34m(self, ctx, args, cancellation_manager)\u001b[0m\n\u001b[1;32m    601\u001b[0m               \u001b[0minputs\u001b[0m\u001b[0;34m=\u001b[0m\u001b[0margs\u001b[0m\u001b[0;34m,\u001b[0m\u001b[0;34m\u001b[0m\u001b[0;34m\u001b[0m\u001b[0m\n\u001b[1;32m    602\u001b[0m               \u001b[0mattrs\u001b[0m\u001b[0;34m=\u001b[0m\u001b[0mattrs\u001b[0m\u001b[0;34m,\u001b[0m\u001b[0;34m\u001b[0m\u001b[0;34m\u001b[0m\u001b[0m\n\u001b[0;32m--> 603\u001b[0;31m               ctx=ctx)\n\u001b[0m\u001b[1;32m    604\u001b[0m         \u001b[0;32melse\u001b[0m\u001b[0;34m:\u001b[0m\u001b[0;34m\u001b[0m\u001b[0;34m\u001b[0m\u001b[0m\n\u001b[1;32m    605\u001b[0m           outputs = execute.execute_with_cancellation(\n",
            "\u001b[0;32m/usr/local/lib/python3.7/dist-packages/tensorflow/python/eager/execute.py\u001b[0m in \u001b[0;36mquick_execute\u001b[0;34m(op_name, num_outputs, inputs, attrs, ctx, name)\u001b[0m\n\u001b[1;32m     57\u001b[0m     \u001b[0mctx\u001b[0m\u001b[0;34m.\u001b[0m\u001b[0mensure_initialized\u001b[0m\u001b[0;34m(\u001b[0m\u001b[0;34m)\u001b[0m\u001b[0;34m\u001b[0m\u001b[0;34m\u001b[0m\u001b[0m\n\u001b[1;32m     58\u001b[0m     tensors = pywrap_tfe.TFE_Py_Execute(ctx._handle, device_name, op_name,\n\u001b[0;32m---> 59\u001b[0;31m                                         inputs, attrs, num_outputs)\n\u001b[0m\u001b[1;32m     60\u001b[0m   \u001b[0;32mexcept\u001b[0m \u001b[0mcore\u001b[0m\u001b[0;34m.\u001b[0m\u001b[0m_NotOkStatusException\u001b[0m \u001b[0;32mas\u001b[0m \u001b[0me\u001b[0m\u001b[0;34m:\u001b[0m\u001b[0;34m\u001b[0m\u001b[0;34m\u001b[0m\u001b[0m\n\u001b[1;32m     61\u001b[0m     \u001b[0;32mif\u001b[0m \u001b[0mname\u001b[0m \u001b[0;32mis\u001b[0m \u001b[0;32mnot\u001b[0m \u001b[0;32mNone\u001b[0m\u001b[0;34m:\u001b[0m\u001b[0;34m\u001b[0m\u001b[0;34m\u001b[0m\u001b[0m\n",
            "\u001b[0;31mKeyboardInterrupt\u001b[0m: "
          ]
        }
      ]
    },
    {
      "cell_type": "markdown",
      "metadata": {
        "id": "8G_b8NXvo1oU"
      },
      "source": [
        "#we see this model is too slow and its accuracy is so bad as we use the maxlength = vocab_size we will use maxlength=100 and see what happens?\n"
      ]
    },
    {
      "cell_type": "code",
      "metadata": {
        "colab": {
          "base_uri": "https://localhost:8080/"
        },
        "id": "GOeCNEA3ke1r",
        "outputId": "82ab8a15-3baa-4843-f409-fa01f94a95d9"
      },
      "source": [
        "vocab_size = 10000\n",
        "(x_train, y_train), (x_val, y_val) = imdb.load_data(num_words=vocab_size)\n",
        "\n",
        "y_train = np.asarray(y_train).astype('float32')\n",
        "y_val = np.asarray(y_val).astype('float32')\n",
        "\n",
        "\n",
        "max_length = 100\n",
        "x_train = pad_sequences(x_train, maxlen=max_length, padding='post')\n",
        "x_val = pad_sequences(x_val, maxlen=max_length, padding='post')\n",
        "\n",
        "\n",
        "x_train, x_val, y_train, y_val = train_test_split(x_train, y_train, test_size=0.4, random_state=42)\n",
        "\n",
        "n_latent_factors = 25\n",
        "model = models.Sequential()\n",
        "model.add(layers.Embedding(vocab_sz+1, n_latent_factors, input_length=max_length))\n",
        "model.add(layers.Flatten())\n",
        "model.add(layers.Dense(16, activation='relu'))\n",
        "model.add(layers.Dense(16, activation='relu'))\n",
        "model.add(layers.Dense(1, activation='sigmoid'))\n",
        "\n",
        "model.compile(optimizer='rmsprop',\n",
        "              loss='binary_crossentropy',\n",
        "              metrics=['accuracy'])\n",
        "\t\t\t  \n",
        "history = model.fit(x_train,\n",
        "                    y_train,\n",
        "                    epochs=20,\n",
        "                    batch_size=512,\n",
        "                    validation_data=(x_val, y_val))\n",
        "history_dict = history.history\n",
        "history_dict.keys()\n",
        "\n"
      ],
      "execution_count": null,
      "outputs": [
        {
          "output_type": "stream",
          "name": "stdout",
          "text": [
            "Epoch 1/20\n",
            "30/30 [==============================] - 1s 27ms/step - loss: 0.6896 - accuracy: 0.5499 - val_loss: 0.6750 - val_accuracy: 0.6100\n",
            "Epoch 2/20\n",
            "30/30 [==============================] - 1s 20ms/step - loss: 0.5830 - accuracy: 0.7672 - val_loss: 0.5079 - val_accuracy: 0.7859\n",
            "Epoch 3/20\n",
            "30/30 [==============================] - 1s 19ms/step - loss: 0.3727 - accuracy: 0.8703 - val_loss: 0.3987 - val_accuracy: 0.8215\n",
            "Epoch 4/20\n",
            "30/30 [==============================] - 1s 21ms/step - loss: 0.2515 - accuracy: 0.9141 - val_loss: 0.3636 - val_accuracy: 0.8390\n",
            "Epoch 5/20\n",
            "30/30 [==============================] - 1s 20ms/step - loss: 0.1777 - accuracy: 0.9432 - val_loss: 0.3706 - val_accuracy: 0.8403\n",
            "Epoch 6/20\n",
            "30/30 [==============================] - 1s 20ms/step - loss: 0.1169 - accuracy: 0.9700 - val_loss: 0.3770 - val_accuracy: 0.8433\n",
            "Epoch 7/20\n",
            "30/30 [==============================] - 1s 19ms/step - loss: 0.0765 - accuracy: 0.9827 - val_loss: 0.3943 - val_accuracy: 0.8405\n",
            "Epoch 8/20\n",
            "30/30 [==============================] - 1s 19ms/step - loss: 0.0415 - accuracy: 0.9941 - val_loss: 0.4250 - val_accuracy: 0.8393\n",
            "Epoch 9/20\n",
            "30/30 [==============================] - 1s 20ms/step - loss: 0.0232 - accuracy: 0.9971 - val_loss: 0.4795 - val_accuracy: 0.8321\n",
            "Epoch 10/20\n",
            "30/30 [==============================] - 1s 20ms/step - loss: 0.0100 - accuracy: 0.9993 - val_loss: 0.5114 - val_accuracy: 0.8340\n",
            "Epoch 11/20\n",
            "30/30 [==============================] - 1s 20ms/step - loss: 0.0056 - accuracy: 0.9994 - val_loss: 0.5499 - val_accuracy: 0.8359\n",
            "Epoch 12/20\n",
            "30/30 [==============================] - 1s 21ms/step - loss: 0.0016 - accuracy: 1.0000 - val_loss: 0.5877 - val_accuracy: 0.8361\n",
            "Epoch 13/20\n",
            "30/30 [==============================] - 1s 22ms/step - loss: 0.0013 - accuracy: 1.0000 - val_loss: 0.6440 - val_accuracy: 0.8354\n",
            "Epoch 14/20\n",
            "30/30 [==============================] - 1s 23ms/step - loss: 3.1157e-04 - accuracy: 1.0000 - val_loss: 0.7194 - val_accuracy: 0.8303\n",
            "Epoch 15/20\n",
            "30/30 [==============================] - 1s 23ms/step - loss: 1.6313e-04 - accuracy: 1.0000 - val_loss: 0.7771 - val_accuracy: 0.8309\n",
            "Epoch 16/20\n",
            "30/30 [==============================] - 1s 24ms/step - loss: 1.7334e-04 - accuracy: 1.0000 - val_loss: 0.8340 - val_accuracy: 0.8340\n",
            "Epoch 17/20\n",
            "30/30 [==============================] - 1s 23ms/step - loss: 1.7999e-05 - accuracy: 1.0000 - val_loss: 0.8380 - val_accuracy: 0.8358\n",
            "Epoch 18/20\n",
            "30/30 [==============================] - 1s 22ms/step - loss: 1.2139e-05 - accuracy: 1.0000 - val_loss: 0.8722 - val_accuracy: 0.8345\n",
            "Epoch 19/20\n",
            "30/30 [==============================] - 1s 22ms/step - loss: 5.9988e-06 - accuracy: 1.0000 - val_loss: 0.9275 - val_accuracy: 0.8370\n",
            "Epoch 20/20\n",
            "30/30 [==============================] - 1s 21ms/step - loss: 2.4136e-05 - accuracy: 1.0000 - val_loss: 1.0000 - val_accuracy: 0.8325\n"
          ]
        },
        {
          "output_type": "execute_result",
          "data": {
            "text/plain": [
              "dict_keys(['loss', 'accuracy', 'val_loss', 'val_accuracy'])"
            ]
          },
          "metadata": {},
          "execution_count": 15
        }
      ]
    },
    {
      "cell_type": "code",
      "metadata": {
        "colab": {
          "base_uri": "https://localhost:8080/",
          "height": 573
        },
        "id": "JVmwJ2FTke9d",
        "outputId": "8aba80ab-04b9-41a0-dbb5-a483321d5e6f"
      },
      "source": [
        "import matplotlib.pyplot as plt\n",
        "history_dict = history.history\n",
        "history_dict.keys()\n",
        "acc = history.history['accuracy']\n",
        "val_acc = history.history['val_accuracy']\n",
        "loss = history.history['loss']\n",
        "val_loss = history.history['val_loss']\n",
        "\n",
        "epochs = range(1, len(acc) + 1)\n",
        "\n",
        "# \"bo\" is for \"blue dot\"\n",
        "plt.plot(epochs, loss, 'bo', label='Training loss')\n",
        "# b is for \"solid blue line\"\n",
        "plt.plot(epochs, val_loss, 'b', label='Validation loss')\n",
        "plt.title('Training and validation loss')\n",
        "plt.xlabel('Epochs')\n",
        "plt.ylabel('Loss')\n",
        "plt.legend()\n",
        "\n",
        "plt.show()\n",
        "\n",
        "plt.clf()   # clear figure\n",
        "acc_values = history_dict['accuracy']\n",
        "val_acc_values = history_dict['val_accuracy']\n",
        "\n",
        "plt.plot(epochs, acc, 'bo', label='Training acc')\n",
        "plt.plot(epochs, val_acc, 'b', label='Validation acc')\n",
        "plt.title('Training and validation accuracy')\n",
        "plt.xlabel('Epochs')\n",
        "plt.ylabel('Loss')\n",
        "plt.legend()\n",
        "\n",
        "plt.show()"
      ],
      "execution_count": null,
      "outputs": [
        {
          "output_type": "display_data",
          "data": {
            "image/png": "[encoded data removed]",
            "text/plain": [
              "<Figure size 432x288 with 1 Axes>"
            ]
          },
          "metadata": {
            "needs_background": "light"
          }
        },
        {
          "output_type": "display_data",
          "data": {
            "image/png": "[encoded data removed]",
            "text/plain": [
              "<Figure size 432x288 with 1 Axes>"
            ]
          },
          "metadata": {
            "needs_background": "light"
          }
        }
      ]
    },
    {
      "cell_type": "markdown",
      "metadata": {
        "id": "o_I9d5U_NcLk"
      },
      "source": [
        "#How tobuilt your own word2vec"
      ]
    },
    {
      "cell_type": "markdown",
      "metadata": {
        "id": "RDov19jQNjvP"
      },
      "source": [
        "Specifically, each sentence must be tokenized, meaning divided into words and prepared.\n",
        "\n",
        "The sentences could be text loaded into memory, or an iterator that progressively loads text, required for very large text corpora.\n",
        "\n",
        "There are many parameters on this constructor; a few noteworthy arguments you may wish to confgure are:\n",
        "\n",
        "• size: (default 100) The number of dimensions of the embedding, e.g. the length of the dense vector to represent each token (word).\n",
        "\n",
        "• window: (default 5) The maximum distance between a target word and words around the target word.\n",
        "\n",
        "• min count: (default 5) The minimum count of words to consider when training the model; words with an occurrence less than this count\n",
        "will be ignored.\n",
        "\n",
        "• workers: (default 3) The number of threads to use while training.\n",
        "\n",
        "• sg: (default 0 or CBOW) The training algorithm, either CBOW (0) or skip gram (1).\n",
        "\n",
        "The defaults are often good enough when just getting started. If you have a lot of cores, as most modern computers do, I strongly encourage\n",
        "you to increase workers to match the number of cores (e.g. 8).\n"
      ]
    },
    {
      "cell_type": "code",
      "metadata": {
        "colab": {
          "base_uri": "https://localhost:8080/"
        },
        "id": "UxU8MajBkfFy",
        "outputId": "5bea7f86-0783-46b9-b883-d70c2402ba1a"
      },
      "source": [
        "from gensim.models import Word2Vec\n",
        "# define training data\n",
        "sentences = [['this', 'is', 'the', 'first', 'sentence', 'for', 'word2vec'],\n",
        "['this', 'is', 'the', 'second', 'sentence'],\n",
        "['yet', 'another', 'sentence'],\n",
        "['one', 'more', 'sentence'],\n",
        "['and', 'the', 'final', 'sentence']]\n",
        "# train model\n",
        "model=Word2Vec(sentences, min_count=1)\n",
        "# summarize the loaded model\n",
        "print(model)\n"
      ],
      "execution_count": 2,
      "outputs": [
        {
          "output_type": "stream",
          "name": "stdout",
          "text": [
            "Word2Vec(vocab=14, size=100, alpha=0.025)\n"
          ]
        }
      ]
    },
    {
      "cell_type": "markdown",
      "metadata": {
        "id": "nFKhP3-hPbC-"
      },
      "source": [
        "##After the model is trained, it is accessible via the wv attribute. This is the actual word vector model in which queries can be made. For example,you can print the learned vocabulary of tokens (words) as follows:\n"
      ]
    },
    {
      "cell_type": "code",
      "metadata": {
        "colab": {
          "base_uri": "https://localhost:8080/"
        },
        "id": "iDTJBbi2Vg6y",
        "outputId": "13903108-2dd3-4249-c450-1a4272730e57"
      },
      "source": [
        "words=list(model.wv.vocab)\n",
        "words"
      ],
      "execution_count": 3,
      "outputs": [
        {
          "output_type": "execute_result",
          "data": {
            "text/plain": [
              "['this',\n",
              " 'is',\n",
              " 'the',\n",
              " 'first',\n",
              " 'sentence',\n",
              " 'for',\n",
              " 'word2vec',\n",
              " 'second',\n",
              " 'yet',\n",
              " 'another',\n",
              " 'one',\n",
              " 'more',\n",
              " 'and',\n",
              " 'final']"
            ]
          },
          "metadata": {},
          "execution_count": 3
        }
      ]
    },
    {
      "cell_type": "code",
      "metadata": {
        "id": "3lKHh_MYkfL8",
        "colab": {
          "base_uri": "https://localhost:8080/"
        },
        "outputId": "c96ca03d-a5f0-4ae3-e18a-8287d257a36d"
      },
      "source": [
        "#access word vector\n",
        "model[\"second\"]"
      ],
      "execution_count": 4,
      "outputs": [
        {
          "output_type": "stream",
          "name": "stderr",
          "text": [
            "/usr/local/lib/python3.7/dist-packages/ipykernel_launcher.py:2: DeprecationWarning: Call to deprecated `__getitem__` (Method will be removed in 4.0.0, use self.wv.__getitem__() instead).\n",
            "  \n"
          ]
        },
        {
          "output_type": "execute_result",
          "data": {
            "text/plain": [
              "array([ 2.4722563e-03, -2.8006199e-03,  4.1838625e-04, -4.4674291e-03,\n",
              "        1.8960024e-03, -2.0299943e-03,  6.2118267e-04, -2.4021869e-03,\n",
              "        2.3193448e-03,  2.2526709e-03,  1.7117852e-03, -1.0136520e-03,\n",
              "        1.4181765e-03,  4.4384068e-03, -4.3880795e-03,  4.3218718e-03,\n",
              "        4.8256617e-05,  4.5090318e-03, -2.9266777e-03,  7.1057200e-04,\n",
              "        2.8729308e-03, -3.7870011e-03,  3.4507564e-03, -3.4665384e-03,\n",
              "       -3.3874761e-03, -5.3190743e-04,  4.4443421e-03, -3.8402271e-03,\n",
              "        4.2560976e-03, -2.1911786e-04, -2.6962885e-03,  2.2291443e-03,\n",
              "       -1.1842255e-03, -1.4680492e-03,  1.6485382e-03, -3.7844041e-03,\n",
              "        3.9281626e-03, -3.7529387e-03,  2.0664881e-03, -2.4654567e-03,\n",
              "       -8.6035841e-04,  4.4220774e-03, -4.9567586e-03,  3.3569830e-03,\n",
              "        4.5048376e-03, -1.5285771e-03, -1.3011718e-03,  2.4048248e-03,\n",
              "       -3.5440768e-03,  2.7768076e-03,  4.5378795e-03,  3.6312919e-03,\n",
              "       -2.9664878e-03,  1.0351040e-03,  2.0604150e-03,  2.7226969e-03,\n",
              "        4.3286392e-03, -4.9184258e-03, -4.3228809e-03, -3.5336609e-03,\n",
              "       -4.7687558e-03, -2.0930804e-03,  4.7846665e-03, -6.4593926e-04,\n",
              "       -3.3361639e-03, -3.9963778e-03,  9.1654528e-04,  1.0423448e-04,\n",
              "       -3.9640730e-03,  2.3131947e-04,  3.7712504e-03, -2.5242602e-03,\n",
              "        3.1803937e-03,  1.3967850e-03, -4.1324864e-03,  4.4090850e-03,\n",
              "       -6.3554454e-04,  1.6840493e-03, -1.1665993e-03, -2.3473625e-03,\n",
              "       -5.2246760e-05, -2.9312973e-03,  1.8284954e-03, -3.7471531e-03,\n",
              "        9.8969298e-04,  1.7706857e-03,  8.8408403e-04, -1.6993898e-03,\n",
              "        4.8073921e-03, -1.0944483e-03, -4.0229838e-03,  2.4513574e-03,\n",
              "       -1.1303915e-03,  2.1893962e-03,  3.5524371e-03,  1.8310621e-03,\n",
              "        4.3013464e-03,  4.8651532e-03,  3.6123546e-03,  4.0710047e-03],\n",
              "      dtype=float32)"
            ]
          },
          "metadata": {},
          "execution_count": 4
        }
      ]
    },
    {
      "cell_type": "code",
      "metadata": {
        "id": "m9MaaxF_kfRj"
      },
      "source": [
        "#save the model \n",
        "model.save(\"model.bin\")\n",
        "\n",
        "#load the model\n",
        "new_model=Word2Vec.load(\"model.bin\")"
      ],
      "execution_count": 5,
      "outputs": []
    },
    {
      "cell_type": "markdown",
      "metadata": {
        "id": "F1nQicysTMZk"
      },
      "source": [
        "##to visualize this words"
      ]
    },
    {
      "cell_type": "code",
      "metadata": {
        "id": "9IvQ9Rg2kfdj",
        "colab": {
          "base_uri": "https://localhost:8080/"
        },
        "outputId": "2eea0270-0208-4ff3-a71c-793867fb5fe5"
      },
      "source": [
        "from sklearn.decomposition import PCA\n",
        "X=model[model.wv.vocab]\n",
        "pca=PCA(n_components=2)\n",
        "results=pca.fit_transform(X)"
      ],
      "execution_count": 6,
      "outputs": [
        {
          "output_type": "stream",
          "name": "stderr",
          "text": [
            "/usr/local/lib/python3.7/dist-packages/ipykernel_launcher.py:2: DeprecationWarning: Call to deprecated `__getitem__` (Method will be removed in 4.0.0, use self.wv.__getitem__() instead).\n",
            "  \n"
          ]
        }
      ]
    },
    {
      "cell_type": "code",
      "metadata": {
        "colab": {
          "base_uri": "https://localhost:8080/",
          "height": 265
        },
        "id": "bBKVzJrIS6zu",
        "outputId": "b41861c3-a7a2-4a86-8314-9d4238fe7345"
      },
      "source": [
        "import matplotlib.pyplot as plt\n",
        "plt.scatter(x=results[:,0],y=results[:,1])\n",
        "words=list(model.wv.vocab)\n",
        "for i,word in enumerate(words):\n",
        "  plt.annotate(word,xy=(results[i,0],results[i,1])) \n",
        "plt.show()"
      ],
      "execution_count": 7,
      "outputs": [
        {
          "output_type": "display_data",
          "data": {
            "image/png": "[encoded data removed]",
            "text/plain": [
              "<Figure size 432x288 with 1 Axes>"
            ]
          },
          "metadata": {
            "needs_background": "light"
          }
        }
      ]
    },
    {
      "cell_type": "markdown",
      "metadata": {
        "id": "4cPqsGlpcRbW"
      },
      "source": [
        "##we can visulize using TSNE"
      ]
    },
    {
      "cell_type": "code",
      "metadata": {
        "colab": {
          "base_uri": "https://localhost:8080/"
        },
        "id": "9m1_yUVIcQca",
        "outputId": "b1b617ea-d3e5-446e-9578-5a7c7d650372"
      },
      "source": [
        "from sklearn.manifold import TSNE\n",
        "results=TSNE(random_state=123).fit_transform(X)"
      ],
      "execution_count": 9,
      "outputs": [
        {
          "output_type": "stream",
          "name": "stderr",
          "text": [
            "/usr/local/lib/python3.7/dist-packages/sklearn/manifold/_t_sne.py:783: FutureWarning: The default initialization in TSNE will change from 'random' to 'pca' in 1.2.\n",
            "  FutureWarning,\n",
            "/usr/local/lib/python3.7/dist-packages/sklearn/manifold/_t_sne.py:793: FutureWarning: The default learning rate in TSNE will change from 200.0 to 'auto' in 1.2.\n",
            "  FutureWarning,\n"
          ]
        }
      ]
    },
    {
      "cell_type": "code",
      "metadata": {
        "colab": {
          "base_uri": "https://localhost:8080/",
          "height": 265
        },
        "id": "jDyHOCO8cQlN",
        "outputId": "3abcaac3-22b5-4b94-e19a-21b3b6479482"
      },
      "source": [
        "import matplotlib.pyplot as plt\n",
        "plt.scatter(x=results[:,0],y=results[:,1])\n",
        "words=list(model.wv.vocab)\n",
        "for i,word in enumerate(words):\n",
        "  plt.annotate(word,xy=(results[i,0],results[i,1])) \n",
        "plt.show()"
      ],
      "execution_count": 10,
      "outputs": [
        {
          "output_type": "display_data",
          "data": {
            "image/png": "[encoded data removed]",
            "text/plain": [
              "<Figure size 432x288 with 1 Axes>"
            ]
          },
          "metadata": {
            "needs_background": "light"
          }
        }
      ]
    },
    {
      "cell_type": "code",
      "metadata": {
        "id": "tkJvb-s_cQr3"
      },
      "source": [
        ""
      ],
      "execution_count": null,
      "outputs": []
    },
    {
      "cell_type": "code",
      "metadata": {
        "id": "F7oWbD3rS65f"
      },
      "source": [
        "def make_sentences(text):\n",
        "  text=text.split(sep=\",\")\n",
        "  sentences=[]\n",
        "  for index in text:\n",
        "    sentences.append(index.split())\n",
        "  return sentences\n"
      ],
      "execution_count": 11,
      "outputs": []
    },
    {
      "cell_type": "code",
      "metadata": {
        "id": "3X9b97gFS7Fj"
      },
      "source": [
        "s=\"العِلْـمُ والجمع العُلومْ (المسمّى باللاتينيّة scientia، أي المعرف) هو أسلوب منهجي يقوم ببناء وتنظيم المعرفة في شكل تفسيرات وتوقعات قابلة للاختبار حول الكون, يرتكز مفهوم العلم على مصطلح المنهجية العلمية الذي بدوره يقوم بدراسة البيانات ووضع فرضيات لتفسيرها ويقوم باختبارها وكل هذه العملية للوصول إلى معرفة قائمة على التجربة والتأكد من صحتها بدل التخمين, يمكن تتبع جذور العلوم الأولى إلى مصر القديمة وبلاد ما بين النهرين في حوالي 3500 إلى 3000 سنة قبل الميلاد, شكلت مساهماتهم في الرياضيات وعلم الفلك والطب الفلسفة اليونانية الطبيعية للعصور الكلاسيكية القديمة, حيث بُذلت محاولات رسمية لتقديم تفسيرات للأحداث في العالم المادي بناءً على أسباب طبيعية, بعد سقوط الإمبراطورية الرومانية الغربية, تدهورت المعرفة اليونانية في أوروبا الغربية خلال القرون الأولى (400 إلى 1000 للميلاد) في العصور الوسطى ولكن جرى الحفاظ عليها وتطويرها في العالم الإسلامي خلال العصر الذهبي الإسلامي, انتعشت وتُرجمت الأعمال اليونانية وأضيفت إليها الملاحظات الإسلامية لما أصبح اسمها الفلسفة الإسلامية وانتقلت إلى أوروبا من القرن العاشر إلى الثالث عشر مما أحيا الفلسفة الطبيعية, والتي تحولت لاحقًا بواسطة الثورة العلمية التي بدأت في القرن السادس عشر لتجديد الأفكار والاكتشافات التي بدورها أزاحت المفاهيم والتقاليد اليونانية السابقة, واستبدلتها بالمنهجية العلمية, سرعان ما لعبت الطريقة العلمية دورًا أكبر في تكوين المعرفة, ولم يبدأ ظهور العديد من السمات المؤسسية والمهنية للعلوم حتى القرن التاسع عشر, إلى جانب تغيير الفلسفة الطبيعية إلى مفهوم العلوم الطبيعية, ينقسم العلم الحديث عادة إلى ثلاثة فروع رئيسية تتكون من العلوم الطبيعية (مثل الأحياء والكيمياء والفيزياء), والتي تدرس الطبيعة بالمعنى الأوسع, العلوم الاجتماعية مثل (الاقتصاد وعلم النفس وعلم الاجتماع), التي تدرس الأفراد والمجتمعات, والعلوم الشكلية مثل (المنطق والرياضيات وعلوم الحاسوب النظرية)، التي تدرس المفاهيم المجردة, هناك خلاف، حول ما إذا كانت العلوم الشكلية تشكل في الواقع علمًا لأنها لا تعتمد على أدلة تجريبية, وتوصف التخصصات التي تستخدم المعرفة العلمية الحالية لأغراض عملية, مثل الهندسة التطبيقية والطب، بأنها علوم تطبيقية, يعتمد العلم على الأبحاث التي تجرى عادة في المؤسسات الأكاديمية, والبحثية وكذلك في الوكالات الحكومية والشركات, أدى التأثير العملي للبحث العلمي إلى ظهور سياسات علمية تسعى إلى التأثير على المؤسسة العلمية من خلال إعطاء الأولوية لتطوير المنتجات التجارية والأسلحة والرعاية الصحية وحماية البيئة\""
      ],
      "execution_count": 12,
      "outputs": []
    },
    {
      "cell_type": "code",
      "metadata": {
        "colab": {
          "base_uri": "https://localhost:8080/"
        },
        "id": "IvxGX7tDf9f8",
        "outputId": "18e30f1a-14e4-4c3d-b7cf-ebe62263c20d"
      },
      "source": [
        "sentences=make_sentences(s)\n",
        "sentences[0]\n",
        "\n"
      ],
      "execution_count": 13,
      "outputs": [
        {
          "output_type": "execute_result",
          "data": {
            "text/plain": [
              "['العِلْـمُ',\n",
              " 'والجمع',\n",
              " 'العُلومْ',\n",
              " '(المسمّى',\n",
              " 'باللاتينيّة',\n",
              " 'scientia،',\n",
              " 'أي',\n",
              " 'المعرف)',\n",
              " 'هو',\n",
              " 'أسلوب',\n",
              " 'منهجي',\n",
              " 'يقوم',\n",
              " 'ببناء',\n",
              " 'وتنظيم',\n",
              " 'المعرفة',\n",
              " 'في',\n",
              " 'شكل',\n",
              " 'تفسيرات',\n",
              " 'وتوقعات',\n",
              " 'قابلة',\n",
              " 'للاختبار',\n",
              " 'حول',\n",
              " 'الكون']"
            ]
          },
          "metadata": {},
          "execution_count": 13
        }
      ]
    },
    {
      "cell_type": "code",
      "metadata": {
        "colab": {
          "base_uri": "https://localhost:8080/"
        },
        "id": "zX1ya5N7f9Dz",
        "outputId": "01cb7421-219b-4860-aa39-0e0a06beb231"
      },
      "source": [
        "# train model\n",
        "model=Word2Vec(sentences, min_count=1)\n",
        "# summarize the loaded model\n",
        "print(model)\n",
        "\n",
        "words=list(model.wv.vocab)\n",
        "words"
      ],
      "execution_count": 14,
      "outputs": [
        {
          "output_type": "stream",
          "name": "stdout",
          "text": [
            "Word2Vec(vocab=249, size=100, alpha=0.025)\n"
          ]
        },
        {
          "output_type": "execute_result",
          "data": {
            "text/plain": [
              "['العِلْـمُ',\n",
              " 'والجمع',\n",
              " 'العُلومْ',\n",
              " '(المسمّى',\n",
              " 'باللاتينيّة',\n",
              " 'scientia،',\n",
              " 'أي',\n",
              " 'المعرف)',\n",
              " 'هو',\n",
              " 'أسلوب',\n",
              " 'منهجي',\n",
              " 'يقوم',\n",
              " 'ببناء',\n",
              " 'وتنظيم',\n",
              " 'المعرفة',\n",
              " 'في',\n",
              " 'شكل',\n",
              " 'تفسيرات',\n",
              " 'وتوقعات',\n",
              " 'قابلة',\n",
              " 'للاختبار',\n",
              " 'حول',\n",
              " 'الكون',\n",
              " 'يرتكز',\n",
              " 'مفهوم',\n",
              " 'العلم',\n",
              " 'على',\n",
              " 'مصطلح',\n",
              " 'المنهجية',\n",
              " 'العلمية',\n",
              " 'الذي',\n",
              " 'بدوره',\n",
              " 'بدراسة',\n",
              " 'البيانات',\n",
              " 'ووضع',\n",
              " 'فرضيات',\n",
              " 'لتفسيرها',\n",
              " 'ويقوم',\n",
              " 'باختبارها',\n",
              " 'وكل',\n",
              " 'هذه',\n",
              " 'العملية',\n",
              " 'للوصول',\n",
              " 'إلى',\n",
              " 'معرفة',\n",
              " 'قائمة',\n",
              " 'التجربة',\n",
              " 'والتأكد',\n",
              " 'من',\n",
              " 'صحتها',\n",
              " 'بدل',\n",
              " 'التخمين',\n",
              " 'يمكن',\n",
              " 'تتبع',\n",
              " 'جذور',\n",
              " 'العلوم',\n",
              " 'الأولى',\n",
              " 'مصر',\n",
              " 'القديمة',\n",
              " 'وبلاد',\n",
              " 'ما',\n",
              " 'بين',\n",
              " 'النهرين',\n",
              " 'حوالي',\n",
              " '3500',\n",
              " '3000',\n",
              " 'سنة',\n",
              " 'قبل',\n",
              " 'الميلاد',\n",
              " 'شكلت',\n",
              " 'مساهماتهم',\n",
              " 'الرياضيات',\n",
              " 'وعلم',\n",
              " 'الفلك',\n",
              " 'والطب',\n",
              " 'الفلسفة',\n",
              " 'اليونانية',\n",
              " 'الطبيعية',\n",
              " 'للعصور',\n",
              " 'الكلاسيكية',\n",
              " 'حيث',\n",
              " 'بُذلت',\n",
              " 'محاولات',\n",
              " 'رسمية',\n",
              " 'لتقديم',\n",
              " 'للأحداث',\n",
              " 'العالم',\n",
              " 'المادي',\n",
              " 'بناءً',\n",
              " 'أسباب',\n",
              " 'طبيعية',\n",
              " 'بعد',\n",
              " 'سقوط',\n",
              " 'الإمبراطورية',\n",
              " 'الرومانية',\n",
              " 'الغربية',\n",
              " 'تدهورت',\n",
              " 'أوروبا',\n",
              " 'خلال',\n",
              " 'القرون',\n",
              " '(400',\n",
              " '1000',\n",
              " 'للميلاد)',\n",
              " 'العصور',\n",
              " 'الوسطى',\n",
              " 'ولكن',\n",
              " 'جرى',\n",
              " 'الحفاظ',\n",
              " 'عليها',\n",
              " 'وتطويرها',\n",
              " 'الإسلامي',\n",
              " 'العصر',\n",
              " 'الذهبي',\n",
              " 'انتعشت',\n",
              " 'وتُرجمت',\n",
              " 'الأعمال',\n",
              " 'وأضيفت',\n",
              " 'إليها',\n",
              " 'الملاحظات',\n",
              " 'الإسلامية',\n",
              " 'لما',\n",
              " 'أصبح',\n",
              " 'اسمها',\n",
              " 'وانتقلت',\n",
              " 'القرن',\n",
              " 'العاشر',\n",
              " 'الثالث',\n",
              " 'عشر',\n",
              " 'مما',\n",
              " 'أحيا',\n",
              " 'والتي',\n",
              " 'تحولت',\n",
              " 'لاحقًا',\n",
              " 'بواسطة',\n",
              " 'الثورة',\n",
              " 'التي',\n",
              " 'بدأت',\n",
              " 'السادس',\n",
              " 'لتجديد',\n",
              " 'الأفكار',\n",
              " 'والاكتشافات',\n",
              " 'بدورها',\n",
              " 'أزاحت',\n",
              " 'المفاهيم',\n",
              " 'والتقاليد',\n",
              " 'السابقة',\n",
              " 'واستبدلتها',\n",
              " 'بالمنهجية',\n",
              " 'سرعان',\n",
              " 'لعبت',\n",
              " 'الطريقة',\n",
              " 'دورًا',\n",
              " 'أكبر',\n",
              " 'تكوين',\n",
              " 'ولم',\n",
              " 'يبدأ',\n",
              " 'ظهور',\n",
              " 'العديد',\n",
              " 'السمات',\n",
              " 'المؤسسية',\n",
              " 'والمهنية',\n",
              " 'للعلوم',\n",
              " 'حتى',\n",
              " 'التاسع',\n",
              " 'جانب',\n",
              " 'تغيير',\n",
              " 'ينقسم',\n",
              " 'الحديث',\n",
              " 'عادة',\n",
              " 'ثلاثة',\n",
              " 'فروع',\n",
              " 'رئيسية',\n",
              " 'تتكون',\n",
              " '(مثل',\n",
              " 'الأحياء',\n",
              " 'والكيمياء',\n",
              " 'والفيزياء)',\n",
              " 'تدرس',\n",
              " 'الطبيعة',\n",
              " 'بالمعنى',\n",
              " 'الأوسع',\n",
              " 'الاجتماعية',\n",
              " 'مثل',\n",
              " '(الاقتصاد',\n",
              " 'النفس',\n",
              " 'الاجتماع)',\n",
              " 'الأفراد',\n",
              " 'والمجتمعات',\n",
              " 'والعلوم',\n",
              " 'الشكلية',\n",
              " '(المنطق',\n",
              " 'والرياضيات',\n",
              " 'وعلوم',\n",
              " 'الحاسوب',\n",
              " 'النظرية)،',\n",
              " 'المجردة',\n",
              " 'هناك',\n",
              " 'خلاف،',\n",
              " 'إذا',\n",
              " 'كانت',\n",
              " 'تشكل',\n",
              " 'الواقع',\n",
              " 'علمًا',\n",
              " 'لأنها',\n",
              " 'لا',\n",
              " 'تعتمد',\n",
              " 'أدلة',\n",
              " 'تجريبية',\n",
              " 'وتوصف',\n",
              " 'التخصصات',\n",
              " 'تستخدم',\n",
              " 'الحالية',\n",
              " 'لأغراض',\n",
              " 'عملية',\n",
              " 'الهندسة',\n",
              " 'التطبيقية',\n",
              " 'والطب،',\n",
              " 'بأنها',\n",
              " 'علوم',\n",
              " 'تطبيقية',\n",
              " 'يعتمد',\n",
              " 'الأبحاث',\n",
              " 'تجرى',\n",
              " 'المؤسسات',\n",
              " 'الأكاديمية',\n",
              " 'والبحثية',\n",
              " 'وكذلك',\n",
              " 'الوكالات',\n",
              " 'الحكومية',\n",
              " 'والشركات',\n",
              " 'أدى',\n",
              " 'التأثير',\n",
              " 'العملي',\n",
              " 'للبحث',\n",
              " 'العلمي',\n",
              " 'سياسات',\n",
              " 'علمية',\n",
              " 'تسعى',\n",
              " 'المؤسسة',\n",
              " 'إعطاء',\n",
              " 'الأولوية',\n",
              " 'لتطوير',\n",
              " 'المنتجات',\n",
              " 'التجارية',\n",
              " 'والأسلحة',\n",
              " 'والرعاية',\n",
              " 'الصحية',\n",
              " 'وحماية',\n",
              " 'البيئة']"
            ]
          },
          "metadata": {},
          "execution_count": 14
        }
      ]
    },
    {
      "cell_type": "code",
      "metadata": {
        "colab": {
          "base_uri": "https://localhost:8080/",
          "height": 319
        },
        "id": "WxMkSpg7hdWl",
        "outputId": "79508ecf-bb4f-47d5-cda7-dd2a7724ffbe"
      },
      "source": [
        "X=model[model.wv.vocab]\n",
        "pca=PCA(n_components=2)\n",
        "results=pca.fit_transform(X)\n",
        "\n",
        "plt.scatter(x=results[:,0],y=results[:,1])\n",
        "words=list(model.wv.vocab)\n",
        "for i,word in enumerate(words):\n",
        "  plt.annotate(word,xy=(results[i,0],results[i,1])) \n",
        "plt.show()\n"
      ],
      "execution_count": 15,
      "outputs": [
        {
          "output_type": "stream",
          "name": "stderr",
          "text": [
            "/usr/local/lib/python3.7/dist-packages/ipykernel_launcher.py:1: DeprecationWarning: Call to deprecated `__getitem__` (Method will be removed in 4.0.0, use self.wv.__getitem__() instead).\n",
            "  \"\"\"Entry point for launching an IPython kernel.\n"
          ]
        },
        {
          "output_type": "display_data",
          "data": {
            "image/png": "[encoded data removed]",
            "text/plain": [
              "<Figure size 432x288 with 1 Axes>"
            ]
          },
          "metadata": {
            "needs_background": "light"
          }
        }
      ]
    },
    {
      "cell_type": "code",
      "metadata": {
        "colab": {
          "base_uri": "https://localhost:8080/",
          "height": 353
        },
        "id": "mGa-QG69ZIYI",
        "outputId": "9f016d36-d66b-4306-ef21-4afebec498d4"
      },
      "source": [
        "results=TSNE(random_state=123).fit_transform(X)\n",
        "plt.scatter(x=results[:,0],y=results[:,1])\n",
        "words=list(model.wv.vocab)\n",
        "for i,word in enumerate(words):\n",
        "  plt.annotate(word,xy=(results[i,0],results[i,1])) \n",
        "plt.show()\n"
      ],
      "execution_count": 16,
      "outputs": [
        {
          "output_type": "stream",
          "name": "stderr",
          "text": [
            "/usr/local/lib/python3.7/dist-packages/sklearn/manifold/_t_sne.py:783: FutureWarning: The default initialization in TSNE will change from 'random' to 'pca' in 1.2.\n",
            "  FutureWarning,\n",
            "/usr/local/lib/python3.7/dist-packages/sklearn/manifold/_t_sne.py:793: FutureWarning: The default learning rate in TSNE will change from 200.0 to 'auto' in 1.2.\n",
            "  FutureWarning,\n"
          ]
        },
        {
          "output_type": "display_data",
          "data": {
            "image/png": "[encoded data removed]",
            "text/plain": [
              "<Figure size 432x288 with 1 Axes>"
            ]
          },
          "metadata": {
            "needs_background": "light"
          }
        }
      ]
    },
    {
      "cell_type": "code",
      "metadata": {
        "id": "RJaA-0_skfid"
      },
      "source": [
        ""
      ],
      "execution_count": 15,
      "outputs": []
    },
    {
      "cell_type": "code",
      "metadata": {
        "id": "-1yiYs2vkfnQ"
      },
      "source": [
        ""
      ],
      "execution_count": 15,
      "outputs": []
    },
    {
      "cell_type": "code",
      "metadata": {
        "id": "uDlpnHJqkfrs"
      },
      "source": [
        ""
      ],
      "execution_count": 15,
      "outputs": []
    },
    {
      "cell_type": "code",
      "metadata": {
        "id": "53UMYaRJkfwQ"
      },
      "source": [
        ""
      ],
      "execution_count": 15,
      "outputs": []
    },
    {
      "cell_type": "code",
      "metadata": {
        "id": "4IhVwCKlkf0P"
      },
      "source": [
        ""
      ],
      "execution_count": 15,
      "outputs": []
    },
    {
      "cell_type": "code",
      "metadata": {
        "id": "5hCz6MbWkf3G"
      },
      "source": [
        ""
      ],
      "execution_count": 15,
      "outputs": []
    }
  ]
}