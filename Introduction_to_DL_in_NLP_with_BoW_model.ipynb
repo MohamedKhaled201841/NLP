{
  "nbformat": 4,
  "nbformat_minor": 0,
  "metadata": {
    "colab": {
      "name": "Introduction to DL in NLP with BoW model.ipynb",
      "provenance": []
    },
    "kernelspec": {
      "name": "python3",
      "display_name": "Python 3"
    },
    "language_info": {
      "name": "python"
    },
    "accelerator": "GPU"
  },
  "cells": [
    {
      "cell_type": "code",
      "metadata": {
        "colab": {
          "base_uri": "https://localhost:8080/"
        },
        "id": "YEoHTOaLFStK",
        "outputId": "0e17685f-830c-4a03-ea50-37c48e40b7d5"
      },
      "source": [
        "from keras.datasets import imdb\n",
        "from keras.preprocessing.text import text_to_word_sequence\n",
        "from keras.preprocessing.text import Tokenizer  \n",
        "from keras.preprocessing.sequence import pad_sequences\n",
        "from keras import models\n",
        "from keras import layers\n",
        "from keras import losses\n",
        "from keras import metrics\n",
        "from keras import optimizers\n",
        "\n",
        "import numpy as np\n",
        "import matplotlib.pyplot as plt\n",
        "\n",
        "from sklearn.feature_extraction.text import CountVectorizer\n",
        "from sklearn.feature_extraction.text import TfidfVectorizer\n",
        "from sklearn.model_selection import train_test_split\n",
        "\n",
        "from collections import Counter\n",
        "from pathlib import Path\n",
        "import os\n",
        "import numpy as np\n",
        "import re\n",
        "import string\n",
        "import nltk\n",
        "nltk.download('punkt')\n",
        "from nltk.tokenize import word_tokenize\n",
        "from nltk.corpus import stopwords\n",
        "nltk.download('stopwords')\n",
        "from nltk.stem.porter import PorterStemmer\n",
        "from nltk.stem import WordNetLemmatizer\n",
        "nltk.download('wordnet')\n",
        "from nltk.corpus import wordnet\n",
        "import unicodedata\n",
        "import html\n",
        "stop_words = stopwords.words('english')"
      ],
      "execution_count": 1,
      "outputs": [
        {
          "output_type": "stream",
          "name": "stdout",
          "text": [
            "[nltk_data] Downloading package punkt to /root/nltk_data...\n",
            "[nltk_data]   Package punkt is already up-to-date!\n",
            "[nltk_data] Downloading package stopwords to /root/nltk_data...\n",
            "[nltk_data]   Package stopwords is already up-to-date!\n",
            "[nltk_data] Downloading package wordnet to /root/nltk_data...\n",
            "[nltk_data]   Package wordnet is already up-to-date!\n"
          ]
        }
      ]
    },
    {
      "cell_type": "code",
      "metadata": {
        "id": "T9tmMcfPFYDf"
      },
      "source": [
        "(train_data, train_labels), (test_data, test_labels) = imdb.load_data(num_words=20000)"
      ],
      "execution_count": 2,
      "outputs": []
    },
    {
      "cell_type": "code",
      "metadata": {
        "id": "6JfUbgZ_Ffpm"
      },
      "source": [
        ""
      ],
      "execution_count": 2,
      "outputs": []
    },
    {
      "cell_type": "code",
      "metadata": {
        "id": "JNhpNJ6_Fmwo"
      },
      "source": [
        "# word_index is a dictionary mapping words to an integer index\n",
        "word_index = imdb.get_word_index()\n",
        "# We reverse it, mapping integer indices to words\n",
        "reverse_word_index = dict([(value, key) for (key, value) in word_index.items()])\n",
        "# We decode the review; note that our indices were offset by 3\n",
        "# because 0, 1 and 2 are reserved indices for \"padding\", \"start of sequence\", and \"unknown\".\n",
        "decoded_review = ' '.join([reverse_word_index.get(i-3 , '?') for i in train_data[0]])"
      ],
      "execution_count": 3,
      "outputs": []
    },
    {
      "cell_type": "code",
      "metadata": {
        "colab": {
          "base_uri": "https://localhost:8080/",
          "height": 137
        },
        "id": "U-6JhlL2Fm1J",
        "outputId": "97a3af46-6582-4dc2-c69d-ce60344d5bf2"
      },
      "source": [
        "decoded_review\n"
      ],
      "execution_count": 4,
      "outputs": [
        {
          "output_type": "execute_result",
          "data": {
            "application/vnd.google.colaboratory.intrinsic+json": {
              "type": "string"
            },
            "text/plain": [
              "\"? this film was just brilliant casting location scenery story direction everyone's really suited the part they played and you could just imagine being there robert ? is an amazing actor and now the same being director ? father came from the same scottish island as myself so i loved the fact there was a real connection with this film the witty remarks throughout the film were great it was just brilliant so much that i bought the film as soon as it was released for retail and would recommend it to everyone to watch and the fly fishing was amazing really cried at the end it was so sad and you know what they say if you cry at a film it must have been good and this definitely was also congratulations to the two little boy's that played the ? of norman and paul they were just brilliant children are often left out of the praising list i think because the stars that play them all grown up are such a big profile for the whole film but these children are amazing and should be praised for what they have done don't you think the whole story was so lovely because it was true and was someone's life after all that was shared with us all\""
            ]
          },
          "metadata": {},
          "execution_count": 4
        }
      ]
    },
    {
      "cell_type": "code",
      "metadata": {
        "id": "ea5guxCxGX2J"
      },
      "source": [
        "def vectorize_sequences(sequences, dimension=20000):\n",
        "    # Create an all-zero matrix of shape (len(sequences), dimension)\n",
        "    results = np.zeros((len(sequences), dimension))\n",
        "    for i, sequence in enumerate(sequences):\n",
        "        results[i, sequence] = 1.  # set specific indices of results[i] to 1s\n",
        "    return results"
      ],
      "execution_count": 5,
      "outputs": []
    },
    {
      "cell_type": "code",
      "metadata": {
        "id": "Mq6wfuW3X83v"
      },
      "source": [
        "# Our vectorized training data\n",
        "x_train = vectorize_sequences(train_data)\n",
        "# Our vectorized test data\n",
        "x_test = vectorize_sequences(test_data)"
      ],
      "execution_count": 6,
      "outputs": []
    },
    {
      "cell_type": "code",
      "metadata": {
        "id": "BBP8jOopX9DS"
      },
      "source": [
        "# Our vectorized labels\n",
        "y_train = np.asarray(train_labels).astype('float32')\n",
        "y_test = np.asarray(test_labels).astype('float32')"
      ],
      "execution_count": 7,
      "outputs": []
    },
    {
      "cell_type": "code",
      "metadata": {
        "id": "BddDdzFJYopE"
      },
      "source": [
        "from keras import models\n",
        "from keras import layers\n",
        "from keras.layers import Dropout\n",
        "from tensorflow.keras.layers import BatchNormalization\n",
        "model = models.Sequential()\n",
        "\n",
        "model.add(layers.Dense(16, activation='relu', input_shape=(20000,)))\n",
        "model.add(BatchNormalization())\n",
        "model.add(Dropout(0.3))\n",
        "model.add(layers.Dense(16, activation='relu'))\n",
        "model.add(BatchNormalization())\n",
        "model.add(Dropout(0.3))\n",
        "model.add(layers.Dense(1, activation='sigmoid'))"
      ],
      "execution_count": 8,
      "outputs": []
    },
    {
      "cell_type": "code",
      "metadata": {
        "id": "pThh4yOolm0b"
      },
      "source": [
        ""
      ],
      "execution_count": 8,
      "outputs": []
    },
    {
      "cell_type": "code",
      "metadata": {
        "id": "WKZBBiJ5Y6ne"
      },
      "source": [
        "model.compile(optimizer='rmsprop',\n",
        "              loss='binary_crossentropy',\n",
        "              metrics=['accuracy'])"
      ],
      "execution_count": 9,
      "outputs": []
    },
    {
      "cell_type": "code",
      "metadata": {
        "id": "z0sGjswcZN8q"
      },
      "source": [
        "x_val = x_train[:10000]\n",
        "partial_x_train = x_train[10000:]\n",
        "\n",
        "y_val = y_train[:10000]\n",
        "partial_y_train = y_train[10000:]"
      ],
      "execution_count": 10,
      "outputs": []
    },
    {
      "cell_type": "code",
      "metadata": {
        "colab": {
          "base_uri": "https://localhost:8080/"
        },
        "id": "eEJm_Co0eTJI",
        "outputId": "2411cacd-d625-404e-f8ee-a3122e4b5509"
      },
      "source": [
        "history = model.fit(partial_x_train,\n",
        "                    partial_y_train,\n",
        "                    epochs=32,\n",
        "                    batch_size=512,\n",
        "                    validation_data=(x_val, y_val))"
      ],
      "execution_count": 11,
      "outputs": [
        {
          "output_type": "stream",
          "name": "stdout",
          "text": [
            "Epoch 1/32\n",
            "30/30 [==============================] - 5s 118ms/step - loss: 0.5286 - accuracy: 0.7557 - val_loss: 0.5708 - val_accuracy: 0.8497\n",
            "Epoch 2/32\n",
            "30/30 [==============================] - 1s 41ms/step - loss: 0.2884 - accuracy: 0.8824 - val_loss: 0.4874 - val_accuracy: 0.8704\n",
            "Epoch 3/32\n",
            "30/30 [==============================] - 1s 40ms/step - loss: 0.2021 - accuracy: 0.9244 - val_loss: 0.4062 - val_accuracy: 0.8808\n",
            "Epoch 4/32\n",
            "30/30 [==============================] - 1s 39ms/step - loss: 0.1458 - accuracy: 0.9479 - val_loss: 0.3522 - val_accuracy: 0.8819\n",
            "Epoch 5/32\n",
            "30/30 [==============================] - 1s 41ms/step - loss: 0.1114 - accuracy: 0.9653 - val_loss: 0.3244 - val_accuracy: 0.8813\n",
            "Epoch 6/32\n",
            "30/30 [==============================] - 1s 39ms/step - loss: 0.0815 - accuracy: 0.9746 - val_loss: 0.3100 - val_accuracy: 0.8739\n",
            "Epoch 7/32\n",
            "30/30 [==============================] - 1s 39ms/step - loss: 0.0652 - accuracy: 0.9803 - val_loss: 0.3276 - val_accuracy: 0.8624\n",
            "Epoch 8/32\n",
            "30/30 [==============================] - 1s 40ms/step - loss: 0.0524 - accuracy: 0.9830 - val_loss: 0.3247 - val_accuracy: 0.8710\n",
            "Epoch 9/32\n",
            "30/30 [==============================] - 1s 39ms/step - loss: 0.0460 - accuracy: 0.9847 - val_loss: 0.3588 - val_accuracy: 0.8659\n",
            "Epoch 10/32\n",
            "30/30 [==============================] - 1s 39ms/step - loss: 0.0369 - accuracy: 0.9885 - val_loss: 0.3886 - val_accuracy: 0.8667\n",
            "Epoch 11/32\n",
            "30/30 [==============================] - 1s 39ms/step - loss: 0.0346 - accuracy: 0.9882 - val_loss: 0.4421 - val_accuracy: 0.8654\n",
            "Epoch 12/32\n",
            "30/30 [==============================] - 1s 38ms/step - loss: 0.0340 - accuracy: 0.9893 - val_loss: 0.4719 - val_accuracy: 0.8692\n",
            "Epoch 13/32\n",
            "30/30 [==============================] - 1s 42ms/step - loss: 0.0304 - accuracy: 0.9907 - val_loss: 0.5128 - val_accuracy: 0.8679\n",
            "Epoch 14/32\n",
            "30/30 [==============================] - 1s 48ms/step - loss: 0.0296 - accuracy: 0.9907 - val_loss: 0.5248 - val_accuracy: 0.8649\n",
            "Epoch 15/32\n",
            "30/30 [==============================] - 1s 39ms/step - loss: 0.0282 - accuracy: 0.9903 - val_loss: 0.5622 - val_accuracy: 0.8589\n",
            "Epoch 16/32\n",
            "30/30 [==============================] - 1s 49ms/step - loss: 0.0260 - accuracy: 0.9920 - val_loss: 0.6350 - val_accuracy: 0.8597\n",
            "Epoch 17/32\n",
            "30/30 [==============================] - 1s 39ms/step - loss: 0.0301 - accuracy: 0.9907 - val_loss: 0.5869 - val_accuracy: 0.8637\n",
            "Epoch 18/32\n",
            "30/30 [==============================] - 1s 40ms/step - loss: 0.0247 - accuracy: 0.9913 - val_loss: 0.6341 - val_accuracy: 0.8663\n",
            "Epoch 19/32\n",
            "30/30 [==============================] - 1s 39ms/step - loss: 0.0257 - accuracy: 0.9911 - val_loss: 0.7419 - val_accuracy: 0.8554\n",
            "Epoch 20/32\n",
            "30/30 [==============================] - 1s 40ms/step - loss: 0.0231 - accuracy: 0.9915 - val_loss: 0.6796 - val_accuracy: 0.8670\n",
            "Epoch 21/32\n",
            "30/30 [==============================] - 1s 48ms/step - loss: 0.0245 - accuracy: 0.9911 - val_loss: 0.6687 - val_accuracy: 0.8639\n",
            "Epoch 22/32\n",
            "30/30 [==============================] - 1s 39ms/step - loss: 0.0222 - accuracy: 0.9924 - val_loss: 0.6990 - val_accuracy: 0.8658\n",
            "Epoch 23/32\n",
            "30/30 [==============================] - 1s 38ms/step - loss: 0.0249 - accuracy: 0.9917 - val_loss: 0.7468 - val_accuracy: 0.8599\n",
            "Epoch 24/32\n",
            "30/30 [==============================] - 1s 40ms/step - loss: 0.0212 - accuracy: 0.9932 - val_loss: 0.7112 - val_accuracy: 0.8632\n",
            "Epoch 25/32\n",
            "30/30 [==============================] - 1s 39ms/step - loss: 0.0229 - accuracy: 0.9913 - val_loss: 0.8644 - val_accuracy: 0.8505\n",
            "Epoch 26/32\n",
            "30/30 [==============================] - 1s 50ms/step - loss: 0.0228 - accuracy: 0.9926 - val_loss: 0.8160 - val_accuracy: 0.8500\n",
            "Epoch 27/32\n",
            "30/30 [==============================] - 1s 39ms/step - loss: 0.0249 - accuracy: 0.9913 - val_loss: 0.7114 - val_accuracy: 0.8619\n",
            "Epoch 28/32\n",
            "30/30 [==============================] - 1s 39ms/step - loss: 0.0186 - accuracy: 0.9939 - val_loss: 0.7336 - val_accuracy: 0.8630\n",
            "Epoch 29/32\n",
            "30/30 [==============================] - 1s 48ms/step - loss: 0.0214 - accuracy: 0.9925 - val_loss: 0.7291 - val_accuracy: 0.8644\n",
            "Epoch 30/32\n",
            "30/30 [==============================] - 1s 39ms/step - loss: 0.0192 - accuracy: 0.9937 - val_loss: 0.7152 - val_accuracy: 0.8624\n",
            "Epoch 31/32\n",
            "30/30 [==============================] - 1s 41ms/step - loss: 0.0208 - accuracy: 0.9923 - val_loss: 0.7719 - val_accuracy: 0.8611\n",
            "Epoch 32/32\n",
            "30/30 [==============================] - 1s 38ms/step - loss: 0.0182 - accuracy: 0.9939 - val_loss: 0.7745 - val_accuracy: 0.8614\n"
          ]
        }
      ]
    },
    {
      "cell_type": "code",
      "metadata": {
        "colab": {
          "base_uri": "https://localhost:8080/"
        },
        "id": "ajvzoAIzetqt",
        "outputId": "4786c976-4644-43b2-906b-47de40de0580"
      },
      "source": [
        "history_dict = history.history\n",
        "history_dict.keys()"
      ],
      "execution_count": 12,
      "outputs": [
        {
          "output_type": "execute_result",
          "data": {
            "text/plain": [
              "dict_keys(['loss', 'accuracy', 'val_loss', 'val_accuracy'])"
            ]
          },
          "metadata": {},
          "execution_count": 12
        }
      ]
    },
    {
      "cell_type": "code",
      "metadata": {
        "colab": {
          "base_uri": "https://localhost:8080/",
          "height": 295
        },
        "id": "5s_4FLs2eYX9",
        "outputId": "d2ea7bab-83c7-491e-9d57-360950c4b11a"
      },
      "source": [
        "import matplotlib.pyplot as plt\n",
        "history_dict = history.history\n",
        "history_dict.keys()\n",
        "acc = history.history['accuracy']\n",
        "val_acc = history.history['val_accuracy']\n",
        "loss = history.history['loss']\n",
        "val_loss = history.history['val_loss']\n",
        "\n",
        "epochs = range(1, len(acc) + 1)\n",
        "\n",
        "# \"bo\" is for \"blue dot\"\n",
        "plt.plot(epochs, loss, 'bo', label='Training loss')\n",
        "# b is for \"solid blue line\"\n",
        "plt.plot(epochs, val_loss, 'b', label='Validation loss')\n",
        "plt.title('Training and validation loss')\n",
        "plt.xlabel('Epochs')\n",
        "plt.ylabel('Loss')\n",
        "plt.legend()\n",
        "\n",
        "plt.show()"
      ],
      "execution_count": 13,
      "outputs": [
        {
          "output_type": "display_data",
          "data": {
            "image/png": "[encoded data removed]",
            "text/plain": [
              "<Figure size 432x288 with 1 Axes>"
            ]
          },
          "metadata": {
            "needs_background": "light"
          }
        }
      ]
    },
    {
      "cell_type": "code",
      "metadata": {
        "colab": {
          "base_uri": "https://localhost:8080/",
          "height": 295
        },
        "id": "P2WDHi0rekBy",
        "outputId": "212ff2a2-8c6e-4093-d47f-4cb5313e4f26"
      },
      "source": [
        "plt.clf()   # clear figure\n",
        "acc_values = history_dict['accuracy']\n",
        "val_acc_values = history_dict['val_accuracy']\n",
        "\n",
        "plt.plot(epochs, acc, 'bo', label='Training acc')\n",
        "plt.plot(epochs, val_acc, 'b', label='Validation acc')\n",
        "plt.title('Training and validation accuracy')\n",
        "plt.xlabel('Epochs')\n",
        "plt.ylabel('Loss')\n",
        "plt.legend()\n",
        "\n",
        "plt.show()"
      ],
      "execution_count": 14,
      "outputs": [
        {
          "output_type": "display_data",
          "data": {
            "image/png": "[encoded data removed]",
            "text/plain": [
              "<Figure size 432x288 with 1 Axes>"
            ]
          },
          "metadata": {
            "needs_background": "light"
          }
        }
      ]
    },
    {
      "cell_type": "code",
      "metadata": {
        "id": "wshaPyaFgDRK"
      },
      "source": [
        ""
      ],
      "execution_count": 14,
      "outputs": []
    }
  ]
}